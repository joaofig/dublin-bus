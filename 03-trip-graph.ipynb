{
 "cells": [
  {
   "cell_type": "markdown",
   "metadata": {},
   "source": [
    "# Dublin Buses - Trip Graph"
   ]
  },
  {
   "cell_type": "code",
   "execution_count": 1,
   "metadata": {},
   "outputs": [],
   "source": [
    "import numpy as np\n",
    "import pandas as pd\n",
    "import os\n",
    "import math\n",
    "import folium\n",
    "\n",
    "from h3 import h3\n",
    "from sklearn.cluster import DBSCAN\n",
    "from shapely.geometry import Polygon\n",
    "from shapely.ops import cascaded_union\n",
    "\n",
    "import ipywidgets as widgets\n",
    "from ipywidgets import interact, interact_manual\n",
    "from tqdm import tqdm.notebook.tqdm as tqdm"
   ]
  },
  {
   "cell_type": "code",
   "execution_count": null,
   "metadata": {},
   "outputs": [],
   "source": []
  },
  {
   "cell_type": "code",
   "execution_count": 2,
   "metadata": {},
   "outputs": [],
   "source": [
    "def list_unique(lst):\n",
    "    lst_set = set(lst)\n",
    "    return list(lst_set)"
   ]
  },
  {
   "cell_type": "code",
   "execution_count": 40,
   "metadata": {},
   "outputs": [],
   "source": [
    "def get_folium_polygons(shape, tooltip):\n",
    "    fp = []\n",
    "    if shape.geom_type == \"Polygon\":\n",
    "        xy = shape.exterior.xy\n",
    "        xy_paired = list(zip(xy[1], xy[0]))\n",
    "        \n",
    "        fp.append(folium.vector_layers.Polygon(locations=xy_paired, fill=True, tooltip=tooltip))\n",
    "    elif shape.geom_type == \"MultiPolygon\":\n",
    "        for g in shape.geoms:\n",
    "            xy = g.exterior.coords.xy\n",
    "            xy_paired = list(zip(xy[1], xy[0]))\n",
    "        \n",
    "            fp.append(folium.vector_layers.Polygon(locations=xy_paired, fill=True, tooltip=tooltip))\n",
    "    return fp"
   ]
  },
  {
   "cell_type": "code",
   "execution_count": 37,
   "metadata": {},
   "outputs": [],
   "source": [
    "def get_polygons_from_h3s(h3_hexes):\n",
    "    polygons = []\n",
    "\n",
    "    for h in h3_hexes:\n",
    "        pts = h3.h3_to_geo_boundary(h)\n",
    "        vertices = [[pt[1], pt[0]] for pt in pts]\n",
    "        vertices.append([pts[0][1], pts[0][0]])\n",
    "        polygons.append(Polygon(vertices))\n",
    "\n",
    "    union_poly = cascaded_union(polygons)\n",
    "\n",
    "    folium_polygons = get_folium_polygons(union_poly, \"Node {0}\".format(spid))\n",
    "    return folium_polygons"
   ]
  },
  {
   "cell_type": "code",
   "execution_count": 38,
   "metadata": {},
   "outputs": [],
   "source": [
    "def h3s_to_map(h3_hexes):\n",
    "    m = folium.folium.Map()\n",
    "    folium_polygons = get_polygons_from_h3s(h3_hexes)\n",
    "    for fp in folium_polygons:\n",
    "        fp.add_to(m)\n",
    "    return m"
   ]
  },
  {
   "cell_type": "code",
   "execution_count": 4,
   "metadata": {},
   "outputs": [],
   "source": [
    "df = pd.read_parquet(\"data/fixed.parquet\")"
   ]
  },
  {
   "cell_type": "code",
   "execution_count": null,
   "metadata": {},
   "outputs": [],
   "source": []
  },
  {
   "cell_type": "code",
   "execution_count": 5,
   "metadata": {},
   "outputs": [],
   "source": [
    "stops_df = df[df.dt > 200000]"
   ]
  },
  {
   "cell_type": "code",
   "execution_count": 6,
   "metadata": {},
   "outputs": [
    {
     "data": {
      "text/plain": [
       "(1052, 16)"
      ]
     },
     "execution_count": 6,
     "metadata": {},
     "output_type": "execute_result"
    }
   ],
   "source": [
    "stops_df.shape"
   ]
  },
  {
   "cell_type": "code",
   "execution_count": 7,
   "metadata": {},
   "outputs": [
    {
     "data": {
      "text/html": [
       "<div>\n",
       "<style scoped>\n",
       "    .dataframe tbody tr th:only-of-type {\n",
       "        vertical-align: middle;\n",
       "    }\n",
       "\n",
       "    .dataframe tbody tr th {\n",
       "        vertical-align: top;\n",
       "    }\n",
       "\n",
       "    .dataframe thead th {\n",
       "        text-align: right;\n",
       "    }\n",
       "</style>\n",
       "<table border=\"1\" class=\"dataframe\">\n",
       "  <thead>\n",
       "    <tr style=\"text-align: right;\">\n",
       "      <th></th>\n",
       "      <th>Timestamp</th>\n",
       "      <th>LineID</th>\n",
       "      <th>Direction</th>\n",
       "      <th>PatternID</th>\n",
       "      <th>JourneyID</th>\n",
       "      <th>Congestion</th>\n",
       "      <th>Lon</th>\n",
       "      <th>Lat</th>\n",
       "      <th>Delay</th>\n",
       "      <th>BlockID</th>\n",
       "      <th>VehicleID</th>\n",
       "      <th>StopID</th>\n",
       "      <th>AtStop</th>\n",
       "      <th>dt</th>\n",
       "      <th>dx</th>\n",
       "      <th>v</th>\n",
       "    </tr>\n",
       "  </thead>\n",
       "  <tbody>\n",
       "    <tr>\n",
       "      <th>111213</th>\n",
       "      <td>1357539385000000</td>\n",
       "      <td>40</td>\n",
       "      <td>0</td>\n",
       "      <td>None</td>\n",
       "      <td>2282</td>\n",
       "      <td>0</td>\n",
       "      <td>-6.277933</td>\n",
       "      <td>53.418201</td>\n",
       "      <td>0</td>\n",
       "      <td>40205</td>\n",
       "      <td>33142</td>\n",
       "      <td>0</td>\n",
       "      <td>0</td>\n",
       "      <td>206672.0</td>\n",
       "      <td>230.147194</td>\n",
       "      <td>0.004009</td>\n",
       "    </tr>\n",
       "    <tr>\n",
       "      <th>318862</th>\n",
       "      <td>1359358561000000</td>\n",
       "      <td>51</td>\n",
       "      <td>0</td>\n",
       "      <td>None</td>\n",
       "      <td>1935</td>\n",
       "      <td>0</td>\n",
       "      <td>-6.297167</td>\n",
       "      <td>53.347935</td>\n",
       "      <td>0</td>\n",
       "      <td>824006</td>\n",
       "      <td>33604</td>\n",
       "      <td>0</td>\n",
       "      <td>0</td>\n",
       "      <td>214195.0</td>\n",
       "      <td>34.518010</td>\n",
       "      <td>0.000580</td>\n",
       "    </tr>\n",
       "    <tr>\n",
       "      <th>373015</th>\n",
       "      <td>1357540916000000</td>\n",
       "      <td>102</td>\n",
       "      <td>0</td>\n",
       "      <td>None</td>\n",
       "      <td>400</td>\n",
       "      <td>0</td>\n",
       "      <td>-6.276367</td>\n",
       "      <td>53.416466</td>\n",
       "      <td>0</td>\n",
       "      <td>102005</td>\n",
       "      <td>40030</td>\n",
       "      <td>0</td>\n",
       "      <td>0</td>\n",
       "      <td>210559.0</td>\n",
       "      <td>156.389266</td>\n",
       "      <td>0.002674</td>\n",
       "    </tr>\n",
       "    <tr>\n",
       "      <th>476444</th>\n",
       "      <td>1358752648000000</td>\n",
       "      <td>27</td>\n",
       "      <td>0</td>\n",
       "      <td>None</td>\n",
       "      <td>3775</td>\n",
       "      <td>0</td>\n",
       "      <td>-6.191617</td>\n",
       "      <td>53.359234</td>\n",
       "      <td>0</td>\n",
       "      <td>27113</td>\n",
       "      <td>33345</td>\n",
       "      <td>0</td>\n",
       "      <td>0</td>\n",
       "      <td>219235.0</td>\n",
       "      <td>4486.110922</td>\n",
       "      <td>0.073665</td>\n",
       "    </tr>\n",
       "    <tr>\n",
       "      <th>483421</th>\n",
       "      <td>1359355959000000</td>\n",
       "      <td>130</td>\n",
       "      <td>0</td>\n",
       "      <td>None</td>\n",
       "      <td>2033</td>\n",
       "      <td>0</td>\n",
       "      <td>-6.191433</td>\n",
       "      <td>53.358849</td>\n",
       "      <td>0</td>\n",
       "      <td>130005</td>\n",
       "      <td>33345</td>\n",
       "      <td>0</td>\n",
       "      <td>0</td>\n",
       "      <td>207297.0</td>\n",
       "      <td>266.474131</td>\n",
       "      <td>0.004628</td>\n",
       "    </tr>\n",
       "  </tbody>\n",
       "</table>\n",
       "</div>"
      ],
      "text/plain": [
       "               Timestamp  LineID  Direction PatternID  JourneyID  Congestion  \\\n",
       "111213  1357539385000000      40          0      None       2282           0   \n",
       "318862  1359358561000000      51          0      None       1935           0   \n",
       "373015  1357540916000000     102          0      None        400           0   \n",
       "476444  1358752648000000      27          0      None       3775           0   \n",
       "483421  1359355959000000     130          0      None       2033           0   \n",
       "\n",
       "             Lon        Lat  Delay  BlockID  VehicleID  StopID  AtStop  \\\n",
       "111213 -6.277933  53.418201      0    40205      33142       0       0   \n",
       "318862 -6.297167  53.347935      0   824006      33604       0       0   \n",
       "373015 -6.276367  53.416466      0   102005      40030       0       0   \n",
       "476444 -6.191617  53.359234      0    27113      33345       0       0   \n",
       "483421 -6.191433  53.358849      0   130005      33345       0       0   \n",
       "\n",
       "              dt           dx         v  \n",
       "111213  206672.0   230.147194  0.004009  \n",
       "318862  214195.0    34.518010  0.000580  \n",
       "373015  210559.0   156.389266  0.002674  \n",
       "476444  219235.0  4486.110922  0.073665  \n",
       "483421  207297.0   266.474131  0.004628  "
      ]
     },
     "execution_count": 7,
     "metadata": {},
     "output_type": "execute_result"
    }
   ],
   "source": [
    "stops_df.head()"
   ]
  },
  {
   "cell_type": "code",
   "execution_count": 8,
   "metadata": {},
   "outputs": [],
   "source": [
    "# Parameters\n",
    "eps_in_meters = 50.0\n",
    "num_samples = 10"
   ]
  },
  {
   "cell_type": "code",
   "execution_count": 9,
   "metadata": {},
   "outputs": [],
   "source": [
    "pts = np.radians(stops_df[['Lat', 'Lon']])"
   ]
  },
  {
   "cell_type": "code",
   "execution_count": 10,
   "metadata": {},
   "outputs": [],
   "source": [
    "# Cluster the data\n",
    "earth_perimeter = 40070000.0  # In meters\n",
    "eps_in_radians = eps_in_meters / earth_perimeter * (2 * math.pi)\n",
    "\n",
    "stop_clusters = DBSCAN(eps=eps_in_radians, min_samples=num_samples,\n",
    "                       metric='haversine',\n",
    "                       algorithm='ball_tree').fit_predict(pts)"
   ]
  },
  {
   "cell_type": "code",
   "execution_count": 11,
   "metadata": {},
   "outputs": [],
   "source": [
    "df['spid'] = -1"
   ]
  },
  {
   "cell_type": "code",
   "execution_count": 12,
   "metadata": {},
   "outputs": [],
   "source": [
    "df.loc[df.dt > 200000, 'spid'] = stop_clusters"
   ]
  },
  {
   "cell_type": "code",
   "execution_count": 13,
   "metadata": {},
   "outputs": [
    {
     "data": {
      "text/plain": [
       "array([-1,  0,  1,  2,  3,  4,  5,  6,  7,  8])"
      ]
     },
     "execution_count": 13,
     "metadata": {},
     "output_type": "execute_result"
    }
   ],
   "source": [
    "np.unique(stop_clusters)"
   ]
  },
  {
   "cell_type": "code",
   "execution_count": null,
   "metadata": {},
   "outputs": [],
   "source": []
  },
  {
   "cell_type": "code",
   "execution_count": 14,
   "metadata": {},
   "outputs": [],
   "source": [
    "m = folium.folium.Map()"
   ]
  },
  {
   "cell_type": "code",
   "execution_count": 15,
   "metadata": {},
   "outputs": [],
   "source": [
    "for spid in np.unique(stop_clusters):\n",
    "    if spid >= 0:\n",
    "        sp_df = df[df.spid == spid]\n",
    "        locs = sp_df[['Lat', 'Lon']].to_numpy()\n",
    "        hexes = list_unique([h3.geo_to_h3(l[0], l[1], 11) for l in locs])\n",
    "        \n",
    "        folium_polygons = get_polygons_from_h3s(hexes)\n",
    "        for fp in folium_polygons:\n",
    "            fp.add_to(m)\n",
    "        \n",
    "        #map_poly = folium.vector_layers.Polygon(locations=)"
   ]
  },
  {
   "cell_type": "code",
   "execution_count": 16,
   "metadata": {},
   "outputs": [],
   "source": [
    "#m"
   ]
  },
  {
   "cell_type": "code",
   "execution_count": null,
   "metadata": {},
   "outputs": [],
   "source": []
  },
  {
   "cell_type": "code",
   "execution_count": 17,
   "metadata": {},
   "outputs": [],
   "source": [
    "stops_df = df[df.dt > 200000]"
   ]
  },
  {
   "cell_type": "code",
   "execution_count": 18,
   "metadata": {},
   "outputs": [],
   "source": [
    "vehicles = stops_df['VehicleID'].unique()"
   ]
  },
  {
   "cell_type": "code",
   "execution_count": 19,
   "metadata": {},
   "outputs": [
    {
     "data": {
      "text/plain": [
       "(560,)"
      ]
     },
     "execution_count": 19,
     "metadata": {},
     "output_type": "execute_result"
    }
   ],
   "source": [
    "vehicles.shape"
   ]
  },
  {
   "cell_type": "code",
   "execution_count": 20,
   "metadata": {},
   "outputs": [],
   "source": [
    "vehicle_paths = []\n",
    "for vehicle in vehicles:\n",
    "    vehicle_df = stops_df[stops_df.VehicleID == vehicle]\n",
    "    if vehicle_df.shape[0] > 1:\n",
    "        spids = vehicle_df.spid.to_numpy()\n",
    "        vehicle_paths.append((vehicle, np.unique(spids[spids >= 0])))"
   ]
  },
  {
   "cell_type": "code",
   "execution_count": 22,
   "metadata": {},
   "outputs": [],
   "source": [
    "# vehicle_paths"
   ]
  },
  {
   "cell_type": "code",
   "execution_count": null,
   "metadata": {},
   "outputs": [],
   "source": []
  },
  {
   "cell_type": "code",
   "execution_count": 23,
   "metadata": {},
   "outputs": [],
   "source": [
    "at_stop_df = df[df.AtStop == 1]"
   ]
  },
  {
   "cell_type": "code",
   "execution_count": 24,
   "metadata": {},
   "outputs": [
    {
     "data": {
      "text/plain": [
       "(5425996, 17)"
      ]
     },
     "execution_count": 24,
     "metadata": {},
     "output_type": "execute_result"
    }
   ],
   "source": [
    "at_stop_df.shape"
   ]
  },
  {
   "cell_type": "code",
   "execution_count": 27,
   "metadata": {},
   "outputs": [],
   "source": [
    "stop_ids = at_stop_df.StopID.unique()"
   ]
  },
  {
   "cell_type": "code",
   "execution_count": 28,
   "metadata": {},
   "outputs": [
    {
     "name": "stderr",
     "output_type": "stream",
     "text": [
      "/Users/joafigu/src/python/dublin-bus/venv/lib/python3.6/site-packages/ipykernel_launcher.py:2: TqdmDeprecationWarning: This function will be removed in tqdm==5.0.0\n",
      "Please use `tqdm.notebook.tqdm` instead of `tqdm.tqdm_notebook`\n",
      "  \n"
     ]
    },
    {
     "data": {
      "application/vnd.jupyter.widget-view+json": {
       "model_id": "bdc005ca5e034624ae7e0b76bedf15b8",
       "version_major": 2,
       "version_minor": 0
      },
      "text/plain": [
       "HBox(children=(FloatProgress(value=0.0, max=4639.0), HTML(value='')))"
      ]
     },
     "metadata": {},
     "output_type": "display_data"
    },
    {
     "name": "stdout",
     "output_type": "stream",
     "text": [
      "\n"
     ]
    }
   ],
   "source": [
    "stop_hexes = []\n",
    "for stop_id in tqdm(stop_ids):\n",
    "    stop_df = at_stop_df[at_stop_df.StopID == stop_id]\n",
    "    locs = stop_df[['Lat', 'Lon']].to_numpy()\n",
    "    hexes = list_unique([h3.geo_to_h3(l[0], l[1], 12) for l in locs])\n",
    "    stop_hexes.append((stop_id, hexes))"
   ]
  },
  {
   "cell_type": "code",
   "execution_count": 36,
   "metadata": {},
   "outputs": [
    {
     "data": {
      "text/plain": [
       "10"
      ]
     },
     "execution_count": 36,
     "metadata": {},
     "output_type": "execute_result"
    }
   ],
   "source": [
    "len(stop_hexes[6][1])"
   ]
  },
  {
   "cell_type": "code",
   "execution_count": 42,
   "metadata": {},
   "outputs": [],
   "source": [
    "# h3s_to_map(stop_hexes[6][1])"
   ]
  },
  {
   "cell_type": "code",
   "execution_count": null,
   "metadata": {},
   "outputs": [],
   "source": []
  },
  {
   "cell_type": "code",
   "execution_count": null,
   "metadata": {},
   "outputs": [],
   "source": []
  },
  {
   "cell_type": "code",
   "execution_count": null,
   "metadata": {},
   "outputs": [],
   "source": []
  },
  {
   "cell_type": "code",
   "execution_count": null,
   "metadata": {},
   "outputs": [],
   "source": [
    "def get_hour(ts):\n",
    "    return ts.hour\n",
    "\n",
    "def get_day(ts):\n",
    "    return ts.day"
   ]
  },
  {
   "cell_type": "code",
   "execution_count": null,
   "metadata": {},
   "outputs": [],
   "source": []
  },
  {
   "cell_type": "code",
   "execution_count": null,
   "metadata": {},
   "outputs": [],
   "source": [
    "df = pd.read_parquet(\"data/fixed.parquet\")"
   ]
  },
  {
   "cell_type": "code",
   "execution_count": null,
   "metadata": {},
   "outputs": [],
   "source": []
  },
  {
   "cell_type": "code",
   "execution_count": null,
   "metadata": {},
   "outputs": [],
   "source": [
    "df['DateTime'] = pd.to_datetime(df['Timestamp'], unit='us')\n",
    "df['Day'] = df['DateTime'].apply(get_day)\n",
    "df['Hour'] = df['DateTime'].apply(get_hour)"
   ]
  },
  {
   "cell_type": "code",
   "execution_count": null,
   "metadata": {},
   "outputs": [],
   "source": []
  },
  {
   "cell_type": "code",
   "execution_count": null,
   "metadata": {},
   "outputs": [],
   "source": []
  },
  {
   "cell_type": "code",
   "execution_count": null,
   "metadata": {},
   "outputs": [],
   "source": []
  },
  {
   "cell_type": "code",
   "execution_count": null,
   "metadata": {},
   "outputs": [],
   "source": [
    "u = df[['JourneyID', 'VehicleID']].values\n",
    "s = set()\n",
    "for i in tqdm(range(u.shape[0])):\n",
    "    s.add((u[i,0], u[i,1]))"
   ]
  },
  {
   "cell_type": "code",
   "execution_count": null,
   "metadata": {},
   "outputs": [],
   "source": [
    "len(s)"
   ]
  },
  {
   "cell_type": "code",
   "execution_count": null,
   "metadata": {},
   "outputs": [],
   "source": []
  },
  {
   "cell_type": "code",
   "execution_count": null,
   "metadata": {},
   "outputs": [],
   "source": [
    "pairs = list(s)"
   ]
  },
  {
   "cell_type": "code",
   "execution_count": null,
   "metadata": {},
   "outputs": [],
   "source": [
    "pairs[3]"
   ]
  },
  {
   "cell_type": "code",
   "execution_count": null,
   "metadata": {},
   "outputs": [],
   "source": [
    "df[df.JourneyID == 5591].shape"
   ]
  },
  {
   "cell_type": "code",
   "execution_count": null,
   "metadata": {},
   "outputs": [],
   "source": []
  },
  {
   "cell_type": "code",
   "execution_count": null,
   "metadata": {},
   "outputs": [],
   "source": []
  },
  {
   "cell_type": "code",
   "execution_count": null,
   "metadata": {},
   "outputs": [],
   "source": [
    "sample = df[(df.JourneyID == 5591) & (df.VehicleID == 33276)]"
   ]
  },
  {
   "cell_type": "code",
   "execution_count": null,
   "metadata": {},
   "outputs": [],
   "source": [
    "# sample.to_csv(\"data/sample_2931_33609.csv\", index=False)"
   ]
  },
  {
   "cell_type": "code",
   "execution_count": null,
   "metadata": {},
   "outputs": [],
   "source": [
    "sample.shape"
   ]
  },
  {
   "cell_type": "code",
   "execution_count": null,
   "metadata": {},
   "outputs": [],
   "source": [
    "%matplotlib inline\n",
    "bbox = sample['dt'].plot.box(figsize=(6,12))"
   ]
  },
  {
   "cell_type": "code",
   "execution_count": null,
   "metadata": {},
   "outputs": [],
   "source": []
  },
  {
   "cell_type": "code",
   "execution_count": null,
   "metadata": {},
   "outputs": [],
   "source": []
  },
  {
   "cell_type": "code",
   "execution_count": null,
   "metadata": {},
   "outputs": [],
   "source": [
    "u.shape"
   ]
  },
  {
   "cell_type": "code",
   "execution_count": null,
   "metadata": {},
   "outputs": [],
   "source": [
    "u[0]"
   ]
  },
  {
   "cell_type": "code",
   "execution_count": null,
   "metadata": {},
   "outputs": [],
   "source": []
  },
  {
   "cell_type": "code",
   "execution_count": null,
   "metadata": {},
   "outputs": [],
   "source": []
  },
  {
   "cell_type": "code",
   "execution_count": null,
   "metadata": {},
   "outputs": [],
   "source": []
  },
  {
   "cell_type": "code",
   "execution_count": null,
   "metadata": {},
   "outputs": [],
   "source": [
    "s = set()"
   ]
  },
  {
   "cell_type": "code",
   "execution_count": null,
   "metadata": {},
   "outputs": [],
   "source": [
    "s.add((u[0,0], u[0,1]))"
   ]
  },
  {
   "cell_type": "code",
   "execution_count": null,
   "metadata": {},
   "outputs": [],
   "source": [
    "s"
   ]
  },
  {
   "cell_type": "code",
   "execution_count": null,
   "metadata": {},
   "outputs": [],
   "source": []
  },
  {
   "cell_type": "code",
   "execution_count": null,
   "metadata": {},
   "outputs": [],
   "source": [
    "trips = {}\n",
    "for j in tqdm(journeys):\n",
    "    trips[j] = df[df.JourneyID == j].copy()\n",
    "df = None"
   ]
  },
  {
   "cell_type": "code",
   "execution_count": null,
   "metadata": {},
   "outputs": [],
   "source": [
    "trips[3493].iloc[0:1]"
   ]
  },
  {
   "cell_type": "code",
   "execution_count": null,
   "metadata": {},
   "outputs": [],
   "source": [
    "trips[3493].iloc[-2:-1]"
   ]
  },
  {
   "cell_type": "code",
   "execution_count": null,
   "metadata": {},
   "outputs": [],
   "source": []
  },
  {
   "cell_type": "code",
   "execution_count": null,
   "metadata": {},
   "outputs": [],
   "source": [
    "%matplotlib inline\n",
    "trips[3493][['v', 'dx', 'dt']].plot.box()"
   ]
  },
  {
   "cell_type": "code",
   "execution_count": null,
   "metadata": {},
   "outputs": [],
   "source": []
  },
  {
   "cell_type": "code",
   "execution_count": null,
   "metadata": {},
   "outputs": [],
   "source": [
    "trips[3493]['VehicleID'].unique()"
   ]
  },
  {
   "cell_type": "code",
   "execution_count": null,
   "metadata": {},
   "outputs": [],
   "source": [
    "trips[3493]['PatternID'].unique()"
   ]
  },
  {
   "cell_type": "code",
   "execution_count": null,
   "metadata": {},
   "outputs": [],
   "source": [
    "trips[3493]['LineID'].unique()"
   ]
  },
  {
   "cell_type": "code",
   "execution_count": null,
   "metadata": {},
   "outputs": [],
   "source": []
  },
  {
   "cell_type": "code",
   "execution_count": null,
   "metadata": {},
   "outputs": [],
   "source": [
    "df = trips[3493]"
   ]
  },
  {
   "cell_type": "code",
   "execution_count": null,
   "metadata": {},
   "outputs": [],
   "source": [
    "df.dt.plot.box()"
   ]
  },
  {
   "cell_type": "code",
   "execution_count": null,
   "metadata": {},
   "outputs": [],
   "source": [
    "df[(df.dt > 200) & (df.v < 5)]"
   ]
  },
  {
   "cell_type": "code",
   "execution_count": null,
   "metadata": {},
   "outputs": [],
   "source": [
    "df.Day.unique()"
   ]
  },
  {
   "cell_type": "code",
   "execution_count": null,
   "metadata": {},
   "outputs": [],
   "source": [
    "df.PatternID.unique()"
   ]
  },
  {
   "cell_type": "code",
   "execution_count": null,
   "metadata": {},
   "outputs": [],
   "source": [
    "df[df.Day == 12]['VehicleID'].unique()"
   ]
  },
  {
   "cell_type": "code",
   "execution_count": null,
   "metadata": {},
   "outputs": [],
   "source": [
    "df[df.Day == 12]"
   ]
  },
  {
   "cell_type": "code",
   "execution_count": null,
   "metadata": {},
   "outputs": [],
   "source": []
  }
 ],
 "metadata": {
  "kernelspec": {
   "display_name": "Python 3",
   "language": "python",
   "name": "python3"
  },
  "language_info": {
   "codemirror_mode": {
    "name": "ipython",
    "version": 3
   },
   "file_extension": ".py",
   "mimetype": "text/x-python",
   "name": "python",
   "nbconvert_exporter": "python",
   "pygments_lexer": "ipython3",
   "version": "3.6.8"
  }
 },
 "nbformat": 4,
 "nbformat_minor": 4
}
