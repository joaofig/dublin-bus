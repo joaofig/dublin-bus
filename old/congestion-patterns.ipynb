{
 "cells": [
  {
   "cell_type": "code",
   "execution_count": 21,
   "metadata": {},
   "outputs": [],
   "source": [
    "import pandas as pd\n",
    "import numpy as np\n",
    "import geopandas as gpd\n",
    "from sklearn.cluster import DBSCAN\n",
    "import math\n",
    "from shapely.ops import transform\n",
    "from shapely.ops import cascaded_union\n",
    "import pyproj\n",
    "from functools import partial\n",
    "from shapely.geometry import Point\n",
    "import mplleaflet\n",
    "import folium\n",
    "from folium.vector_layers import Polygon\n",
    "import matplotlib.pyplot as plt\n",
    "%matplotlib inline"
   ]
  },
  {
   "cell_type": "code",
   "execution_count": 2,
   "metadata": {},
   "outputs": [],
   "source": [
    "def get_hour(ts):\n",
    "    return ts.hour"
   ]
  },
  {
   "cell_type": "code",
   "execution_count": 3,
   "metadata": {},
   "outputs": [],
   "source": [
    "def get_minute(ts):\n",
    "    return ts.hour * 100 + int(ts.minute / 15) * 15"
   ]
  },
  {
   "cell_type": "code",
   "execution_count": 4,
   "metadata": {},
   "outputs": [],
   "source": [
    "def load_day(day):\n",
    "    header = ['timestamp', 'line_id', 'direction', 'jrny_patt_id', 'time_frame', 'journey_id', 'operator', \n",
    "              'congestion', 'lon', 'lat', 'delay', 'block_id', 'vehicle_id', 'stop_id', 'at_stop']\n",
    "    types = {'timestamp': np.int64,\n",
    "             'journey_id': np.int32,\n",
    "             'congestion': np.int8,\n",
    "             'lon': np.float64,\n",
    "             'lat': np.float64,\n",
    "             'delay': np.int8,\n",
    "             'vehicle_id': np.int32,\n",
    "             'at_stop': np.int8}\n",
    "    file_name = 'data/siri.201301{0:02d}.csv'.format(day)\n",
    "    df = pd.read_csv(file_name, header=None, names=header, dtype=types, parse_dates=['time_frame'], \n",
    "                     infer_datetime_format=True)\n",
    "    null_replacements = {'line_id': 0, 'stop_id': 0}\n",
    "    df = df.fillna(value=null_replacements)\n",
    "    df['line_id'] = df['line_id'].astype(np.int32)\n",
    "    df['stop_id'] = df['stop_id'].astype(np.int32)\n",
    "    df['timestamp'] = pd.to_datetime(df['timestamp'], unit='us')\n",
    "    df['hour'] = df['timestamp'].apply(get_hour)\n",
    "    return df"
   ]
  },
  {
   "cell_type": "code",
   "execution_count": 5,
   "metadata": {},
   "outputs": [],
   "source": [
    "def load_data():\n",
    "    header = ['timestamp', 'line_id', 'direction', 'jrny_patt_id', 'time_frame', 'journey_id', 'operator', \n",
    "              'congestion', 'lon', 'lat', 'delay', 'block_id', 'vehicle_id', 'stop_id', 'at_stop']\n",
    "    types = {'timestamp': np.int64,\n",
    "             'journey_id': np.int32,\n",
    "             'congestion': np.int8,\n",
    "             'lon': np.float64,\n",
    "             'lat': np.float64,\n",
    "             'delay': np.int8,\n",
    "             'vehicle_id': np.int32,\n",
    "             'at_stop': np.int8}\n",
    "    \n",
    "    data = None\n",
    "    \n",
    "    for day in range(1, 32):\n",
    "        file_name = 'data/siri.201301{0:02d}.csv'.format(day)\n",
    "        df = pd.read_csv(file_name, header=None, names=header, dtype=types, parse_dates=['time_frame'], \n",
    "                         infer_datetime_format=True)\n",
    "        \n",
    "        if data is None:\n",
    "            data = df\n",
    "        else:\n",
    "            data = data.append(df)\n",
    "            \n",
    "    null_replacements = {'line_id': 0, 'stop_id': 0}\n",
    "    data = data.fillna(value=null_replacements)\n",
    "    data['line_id'] = data['line_id'].astype(np.int32)\n",
    "    data['stop_id'] = data['stop_id'].astype(np.int32)\n",
    "    data['timestamp'] = pd.to_datetime(data['timestamp'], unit='us')\n",
    "    data['hour'] = data['timestamp'].apply(get_hour)\n",
    "    data['minute'] = data['timestamp'].apply(get_minute)\n",
    "    return data"
   ]
  },
  {
   "cell_type": "code",
   "execution_count": 6,
   "metadata": {},
   "outputs": [],
   "source": [
    "def load_day_hour(day, hour):\n",
    "    df = load_day(day)\n",
    "    return df[df['hour'] == hour]"
   ]
  },
  {
   "cell_type": "code",
   "execution_count": 7,
   "metadata": {},
   "outputs": [],
   "source": [
    "def create_radian_columns(df):\n",
    "    df['rad_lng'] = np.radians(df['lon'].values)\n",
    "    df['rad_lat'] = np.radians(df['lat'].values)\n",
    "    return df"
   ]
  },
  {
   "cell_type": "code",
   "execution_count": 8,
   "metadata": {},
   "outputs": [],
   "source": [
    "def density_cluster(df, eps_in_meters=50, num_samples=15):\n",
    "    earth_perimeter = 40070000.0  # In meters\n",
    "    eps_in_radians = eps_in_meters / earth_perimeter * (2 * math.pi)\n",
    "\n",
    "    db_scan = DBSCAN(eps=eps_in_radians, min_samples=num_samples, metric='haversine',\n",
    "                    algorithm='ball_tree')\n",
    "    return db_scan.fit_predict(df[['rad_lat', 'rad_lng']])"
   ]
  },
  {
   "cell_type": "code",
   "execution_count": 9,
   "metadata": {},
   "outputs": [],
   "source": [
    "def generate_blob_clusters(df, eps_in_meters=5):\n",
    "    # Group the observations by cluster identifier\n",
    "    groups = df.groupby('cluster')\n",
    "    clusters = list()\n",
    "    blobs = list()\n",
    "    counts = list()\n",
    "\n",
    "    for cluster_id, points in groups:\n",
    "        if cluster_id >= 0:\n",
    "            buffer_radius = eps_in_meters\n",
    "            buffers = [buffer_in_meters(lon, lat, buffer_radius)\n",
    "                       for lon, lat in zip(points['lon'], points['lat'])]\n",
    "            blob = cascaded_union(buffers)\n",
    "            blobs.append(blob)\n",
    "            clusters.append(cluster_id)\n",
    "            counts.append(len(points))\n",
    "\n",
    "    # Create the GeoDataFrame from the cluster numbers and blobs\n",
    "    data = {'cluster': clusters, 'polygon': blobs, 'count': counts}\n",
    "\n",
    "    cluster_gdf = gpd.GeoDataFrame(pd.DataFrame(data), geometry='polygon')\n",
    "    cluster_gdf.crs = {'init': 'epsg:4326'}\n",
    "    return cluster_gdf"
   ]
  },
  {
   "cell_type": "code",
   "execution_count": 10,
   "metadata": {},
   "outputs": [],
   "source": [
    "def buffer_in_meters(lng, lat, radius):\n",
    "    proj_meters = pyproj.Proj(init='epsg:3857')\n",
    "    proj_latlng = pyproj.Proj(init='epsg:4326')\n",
    "\n",
    "    project_to_meters = partial(pyproj.transform, proj_latlng, proj_meters)\n",
    "    project_to_latlng = partial(pyproj.transform, proj_meters, proj_latlng)\n",
    "\n",
    "    pt_latlng = Point(lng, lat)\n",
    "    pt_meters = transform(project_to_meters, pt_latlng)\n",
    "\n",
    "    buffer_meters = pt_meters.buffer(radius)\n",
    "    buffer_latlng = transform(project_to_latlng, buffer_meters)\n",
    "    return buffer_latlng"
   ]
  },
  {
   "cell_type": "code",
   "execution_count": 11,
   "metadata": {},
   "outputs": [],
   "source": [
    "def parse_lon_lat(lon_lat):\n",
    "    lon, lat = lon_lat.split(' ')\n",
    "    return float(lat), float(lon)"
   ]
  },
  {
   "cell_type": "code",
   "execution_count": 12,
   "metadata": {},
   "outputs": [],
   "source": [
    "def parse_polygon(polygon_wkt):\n",
    "    idx = polygon_wkt.find('), (')\n",
    "    if idx == -1:\n",
    "        idx = -2\n",
    "    items = polygon_wkt[10:idx].split(', ')\n",
    "    try:\n",
    "        locations = [parse_lon_lat(item) for item in items]\n",
    "    except:\n",
    "        print('Faulty Polygon:')\n",
    "        print(polygon_wkt)\n",
    "    return locations"
   ]
  },
  {
   "cell_type": "code",
   "execution_count": null,
   "metadata": {},
   "outputs": [],
   "source": []
  },
  {
   "cell_type": "code",
   "execution_count": 13,
   "metadata": {},
   "outputs": [],
   "source": [
    "def show_blob_map(df):\n",
    "    map = folium.Map()\n",
    "    \n",
    "    polygons = []\n",
    "    \n",
    "    gdf = generate_blob_clusters(df)\n",
    "    for index, row in gdf.iterrows():\n",
    "        polygons.append(row['polygon'].wkt)\n",
    "        locations = parse_polygon(row['polygon'].wkt)\n",
    "        polygon = Polygon(locations, fill=True, opacity=0.6, color='#ff0000', \n",
    "                          fill_color='#ff0000', fill_opacity=0.6)\n",
    "        polygon.add_to(map)\n",
    "    \n",
    "    return map, polygons"
   ]
  },
  {
   "cell_type": "code",
   "execution_count": 14,
   "metadata": {},
   "outputs": [],
   "source": [
    "def save_polygons(polygons, time):\n",
    "    file_name = 'maps/polygons_{0:04d}.csv'.format(time)\n",
    "    with open(file_name, \"w\") as f:\n",
    "        f.write('polygons\\n')\n",
    "        \n",
    "        for p in polygons:\n",
    "            f.write('\\\"{0}\\\"\\n'.format(p))"
   ]
  },
  {
   "cell_type": "code",
   "execution_count": 15,
   "metadata": {},
   "outputs": [],
   "source": [
    "data = load_data()"
   ]
  },
  {
   "cell_type": "code",
   "execution_count": 16,
   "metadata": {},
   "outputs": [],
   "source": [
    "data = create_radian_columns(data)"
   ]
  },
  {
   "cell_type": "code",
   "execution_count": null,
   "metadata": {},
   "outputs": [],
   "source": []
  },
  {
   "cell_type": "code",
   "execution_count": 17,
   "metadata": {},
   "outputs": [],
   "source": [
    "congestion_points = []\n",
    "\n",
    "for hour in range(24):\n",
    "    for minute in range(0, 4):\n",
    "        time = hour * 100 + minute * 15\n",
    "        \n",
    "#         print('Time : {0}'.format(time))\n",
    "    \n",
    "        df = data[data['minute'] == time]\n",
    "        df = df[df['congestion'] == 1].copy()\n",
    "\n",
    "        if len(df) > 0:\n",
    "            df['cluster'] = density_cluster(df, eps_in_meters=5, num_samples=5)\n",
    "\n",
    "            size = len(df[df['cluster'] >= 0])\n",
    "            # print('Count: {0} / {1}'.format(len(df), size))\n",
    "            congestion_points.append(size)\n",
    "        else:\n",
    "            congestion_points.append(0)\n",
    "\n",
    "#             map, polygons = show_blob_map(df)\n",
    "#             map.save('maps/congestion_{0:04d}.html'.format(time))\n",
    "#             save_polygons(polygons, time)\n"
   ]
  },
  {
   "cell_type": "code",
   "execution_count": 18,
   "metadata": {},
   "outputs": [
    {
     "data": {
      "text/plain": [
       "array([[    0,     1,     2,     3,     4,     5,     6,     7,     8,\n",
       "            9,    10,    11,    12,    13,    14,    15,    16,    17,\n",
       "           18,    19,    20,    21,    22,    23,    24,    25,    26,\n",
       "           27,    28,    29,    30,    31,    32,    33,    34,    35,\n",
       "           36,    37,    38,    39,    40,    41,    42,    43,    44,\n",
       "           45,    46,    47,    48,    49,    50,    51,    52,    53,\n",
       "           54,    55,    56,    57,    58,    59,    60,    61,    62,\n",
       "           63,    64,    65,    66,    67,    68,    69,    70,    71,\n",
       "           72,    73,    74,    75,    76,    77,    78,    79,    80,\n",
       "           81,    82,    83,    84,    85,    86,    87,    88,    89,\n",
       "           90,    91,    92,    93,    94,    95],\n",
       "       [  219,    99,    79,    65,    59,     0,    45,    44,    44,\n",
       "           45,     0,     0,     0,     0,     0,     0,     0,     0,\n",
       "            0,     0,     0,     0,     0,     0,   222,   745,  1397,\n",
       "         3716,  7180,  8476,  9220,  9189, 10661, 10467, 10001,  9899,\n",
       "         7994,  8644,  9630,  9938,  9121,  9351,  7961,  8758,  7276,\n",
       "         7399,  5691,  6568,  6072,  7698,  7621,  7665,  6079,  6895,\n",
       "         7074,  6350,  5402,  5897,  6172,  6227,  5332,  6526,  6198,\n",
       "         6594,  5413,  5258,  5372,  6655,  6974,  7426,  8215,  7863,\n",
       "         7227,  6468,  6059,  6315,  6087,  7977,  6291,  5492,  4807,\n",
       "         5388,  4679,  5503,  5451,  4780,  5609,  6778,  8498,  7090,\n",
       "         7049,  8240,  9182,  6496,   253,   240]])"
      ]
     },
     "execution_count": 18,
     "metadata": {},
     "output_type": "execute_result"
    }
   ],
   "source": [
    "chart = np.append(np.arange(24*4), np.array(congestion_points), axis=0) \n",
    "chart = chart.reshape((1,24*4*2))\n",
    "chart = chart.reshape((2, 24*4))\n",
    "chart"
   ]
  },
  {
   "cell_type": "code",
   "execution_count": 19,
   "metadata": {},
   "outputs": [],
   "source": [
    "chart_df = pd.DataFrame(data=np.transpose(chart), columns=['time', 'size'])"
   ]
  },
  {
   "cell_type": "code",
   "execution_count": 20,
   "metadata": {},
   "outputs": [
    {
     "data": {
      "text/plain": [
       "<matplotlib.axes._subplots.AxesSubplot at 0x10d0fdf60>"
      ]
     },
     "execution_count": 20,
     "metadata": {},
     "output_type": "execute_result"
    },
    {
     "data": {
      "image/png": "[encoded data removed]",
      "text/plain": [
       "<Figure size 432x288 with 1 Axes>"
      ]
     },
     "metadata": {
      "needs_background": "light"
     },
     "output_type": "display_data"
    }
   ],
   "source": []
  },
  {
   "cell_type": "code",
   "execution_count": null,
   "metadata": {},
   "outputs": [],
   "source": []
  },
  {
   "cell_type": "code",
   "execution_count": null,
   "metadata": {},
   "outputs": [],
   "source": []
  },
  {
   "cell_type": "code",
   "execution_count": null,
   "metadata": {},
   "outputs": [],
   "source": []
  }
 ],
 "metadata": {
  "kernelspec": {
   "display_name": "Python 3",
   "language": "python",
   "name": "python3"
  },
  "language_info": {
   "codemirror_mode": {
    "name": "ipython",
    "version": 3
   },
   "file_extension": ".py",
   "mimetype": "text/x-python",
   "name": "python",
   "nbconvert_exporter": "python",
   "pygments_lexer": "ipython3",
   "version": "3.6.7"
  }
 },
 "nbformat": 4,
 "nbformat_minor": 2
}
