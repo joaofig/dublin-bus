{
 "cells": [
  {
   "cell_type": "code",
   "execution_count": 18,
   "metadata": {},
   "outputs": [],
   "source": [
    "import numpy as np\n",
    "import pandas as pd"
   ]
  },
  {
   "cell_type": "code",
   "execution_count": 2,
   "metadata": {},
   "outputs": [],
   "source": [
    "def load_day(day):\n",
    "    header = ['timestamp', 'line_id', 'direction', 'jrny_patt_id', 'time_frame', 'journey_id', 'operator',\n",
    "              'congestion', 'lon', 'lat', 'delay', 'block_id', 'vehicle_id', 'stop_id', 'at_stop']\n",
    "    types = {'timestamp': np.int64,\n",
    "             'journey_id': np.int32,\n",
    "             'congestion': np.int8,\n",
    "             'lon': np.float64,\n",
    "             'lat': np.float64,\n",
    "             'delay': np.int8,\n",
    "             'vehicle_id': np.int32,\n",
    "             'at_stop': np.int8}\n",
    "    file_name = 'data/siri.201301{0:02d}.csv'.format(day)\n",
    "    df = pd.read_csv(file_name, header=None, names=header, dtype=types, parse_dates=['time_frame'],\n",
    "                     infer_datetime_format=True)\n",
    "    null_replacements = {'line_id': 0, 'stop_id': 0}\n",
    "    df = df.fillna(value=null_replacements)\n",
    "    df['line_id'] = df['line_id'].astype(np.int32)\n",
    "    df['stop_id'] = df['stop_id'].astype(np.int32)\n",
    "    df['timestamp'] = pd.to_datetime(df['timestamp'], unit='us')\n",
    "    return df"
   ]
  },
  {
   "cell_type": "code",
   "execution_count": 3,
   "metadata": {},
   "outputs": [],
   "source": [
    "def haversine_np(lon1, lat1, lon2, lat2):\n",
    "    \"\"\"\n",
    "    Calculate the great circle distance between two points\n",
    "    on the earth (specified in decimal degrees)\n",
    "\n",
    "    All args must be of equal length.\n",
    "    Taken from here: https://stackoverflow.com/questions/29545704/fast-haversine-approximation-python-pandas#29546836\n",
    "    \"\"\"\n",
    "    lon1, lat1, lon2, lat2 = map(np.radians, [lon1, lat1, lon2, lat2])\n",
    "\n",
    "    dlon = lon2 - lon1\n",
    "    dlat = lat2 - lat1\n",
    "\n",
    "    a = np.sin(dlat/2.0)**2 + np.cos(lat1) * np.cos(lat2) * np.sin(dlon/2.0)**2\n",
    "\n",
    "    c = 2 * np.arctan2(np.sqrt(a), np.sqrt(1.0 - a))\n",
    "    meters = 6378137.0 * c\n",
    "    return meters"
   ]
  },
  {
   "cell_type": "code",
   "execution_count": 4,
   "metadata": {},
   "outputs": [],
   "source": [
    "def calculate_durations(data_frame, vehicle_id):\n",
    "    one_second = np.timedelta64(1000000000, 'ns')\n",
    "    dv = data_frame[data_frame['vehicle_id'] == vehicle_id]\n",
    "    ts = dv.timestamp.values\n",
    "    dtd = ts[1:] - ts[:-1]\n",
    "    dt = np.zeros(len(dtd) + 1)\n",
    "    dt[1:] = dtd / one_second\n",
    "    return dt"
   ]
  },
  {
   "cell_type": "code",
   "execution_count": 5,
   "metadata": {},
   "outputs": [],
   "source": [
    "def calculate_distances(data_frame, vehicle_id):\n",
    "    dv = data_frame[data_frame['vehicle_id'] == vehicle_id]\n",
    "    lat = dv.lat.values\n",
    "    lon = dv.lon.values\n",
    "    dxm = haversine_np(lon[1:], lat[1:], lon[:-1], lat[:-1])\n",
    "    dx = np.zeros(len(dxm) + 1)\n",
    "    dx[1:] = dxm\n",
    "    return dx"
   ]
  },
  {
   "cell_type": "code",
   "execution_count": 6,
   "metadata": {},
   "outputs": [],
   "source": [
    "def delta_location(lat, lon, bearing, meters):\n",
    "    \"\"\"\n",
    "    Calculates a destination location from a starting location, a bearing and a distance in meters.\n",
    "    :param lat: Start latitude\n",
    "    :param lon: Start longitude\n",
    "    :param bearing: Bearing (North is zero degrees, measured clockwise)\n",
    "    :param meters: Distance to displace from the starting point\n",
    "    :return: Tuple with the new latitude and longitude\n",
    "    \"\"\"\n",
    "    delta = meters / 6378137.0\n",
    "    theta = math.radians(bearing)\n",
    "    lat_r = math.radians(lat)\n",
    "    lon_r = math.radians(lon)\n",
    "    lat_r2 = math.asin(math.sin(lat_r) * math.cos(delta) + math.cos(lat_r) * math.sin(delta) * math.cos(theta))\n",
    "    lon_r2 = lon_r + math.atan2(math.sin(theta) * math.sin(delta) * math.cos(lat_r),\n",
    "                                math.cos(delta) - math.sin(lat_r) * math.sin(lat_r2))\n",
    "    return math.degrees(lat_r2), math.degrees(lon_r2)"
   ]
  },
  {
   "cell_type": "code",
   "execution_count": 7,
   "metadata": {},
   "outputs": [],
   "source": [
    "def delta_degree_to_meters(lat, lon, delta_lat=0, delta_lon=0):\n",
    "    return haversine_np(lon, lat, lon + delta_lon, lat + delta_lat)"
   ]
  },
  {
   "cell_type": "code",
   "execution_count": 8,
   "metadata": {},
   "outputs": [],
   "source": [
    "def x_meters_to_degrees(meters, lat, lon):\n",
    "    _, lon2 = delta_location(lat, lon, 90, meters)\n",
    "    return abs(lon - lon2)"
   ]
  },
  {
   "cell_type": "code",
   "execution_count": 9,
   "metadata": {},
   "outputs": [],
   "source": [
    "def y_meters_to_degrees(meters, lat, lon):\n",
    "    lat2, _ = delta_location(lat, lon, 0, meters)\n",
    "    return abs(lat - lat2)"
   ]
  },
  {
   "cell_type": "markdown",
   "metadata": {},
   "source": [
    "Calculate the Q matrix:\n",
    "\n",
    "![image](images/Qi.png)"
   ]
  },
  {
   "cell_type": "code",
   "execution_count": 10,
   "metadata": {},
   "outputs": [],
   "source": [
    "def calculate_q(lat, lon, sigma_speed):\n",
    "    q = np.zeros((4, 4), dtype=np.float)\n",
    "    q[2, 2] = x_meters_to_degrees(sigma_speed, lat, lon) ** 2\n",
    "    q[3, 3] = y_meters_to_degrees(sigma_speed, lat, lon) ** 2\n",
    "    return q"
   ]
  },
  {
   "cell_type": "code",
   "execution_count": 11,
   "metadata": {},
   "outputs": [],
   "source": [
    "def calculate_r(lat, lon, sigma):\n",
    "    r = np.zeros((2, 2), dtype=np.float)\n",
    "    r[0, 0] = x_meters_to_degrees(lat, lon, sigma)\n",
    "    r[1, 1] = y_meters_to_degrees(lat, lon, sigma)\n",
    "    return r"
   ]
  },
  {
   "cell_type": "raw",
   "metadata": {},
   "source": [
    "Calculates the P matrix from the given "
   ]
  },
  {
   "cell_type": "code",
   "execution_count": 12,
   "metadata": {},
   "outputs": [],
   "source": [
    "def calculate_p(lat, lon, sigma, sigma_speed):\n",
    "    p = np.zeros((4, 4), dtype=np.float)\n",
    "    p[0, 0] = x_meters_to_degrees(sigma, lat, lon) ** 2\n",
    "    p[1, 1] = y_meters_to_degrees(sigma, lat, lon) ** 2\n",
    "    p[2, 2] = x_meters_to_degrees(sigma_speed, lat, lon) ** 2\n",
    "    p[3, 3] = y_meters_to_degrees(sigma_speed, lat, lon) ** 2\n",
    "    return p"
   ]
  },
  {
   "cell_type": "code",
   "execution_count": 13,
   "metadata": {},
   "outputs": [],
   "source": [
    "def calculate_phi(dt):\n",
    "    \"\"\"\n",
    "    Calculates the Φ matrix\n",
    "    :param dt: Δtᵢ\n",
    "    :return: The Φ matrix\n",
    "    \"\"\"\n",
    "    phi = np.eye(4)\n",
    "    phi[0, 2] = dt\n",
    "    phi[1, 3] = dt\n",
    "    return phi"
   ]
  },
  {
   "cell_type": "code",
   "execution_count": 14,
   "metadata": {},
   "outputs": [],
   "source": [
    "def calculate_kalman_gain(p, c, r):\n",
    "    num = np.matmul(p, np.transpose(c))\n",
    "    den = np.matmul(c, num) + r\n",
    "    return np.matmul(num, np.linalg.pinv(den))"
   ]
  },
  {
   "cell_type": "code",
   "execution_count": 15,
   "metadata": {},
   "outputs": [],
   "source": [
    "def predict_step(prev_x, prev_p, phi, sigma_speed):\n",
    "    lon = prev_x[0, 0]\n",
    "    lat = prev_x[1, 0]\n",
    "    next_x = np.matmul(phi, prev_x)\n",
    "    next_p = np.matmul(np.matmul(phi, prev_p), np.transpose(phi)) + calculate_q(lat, lon, sigma_speed)\n",
    "    return next_x, next_p"
   ]
  },
  {
   "cell_type": "code",
   "execution_count": 16,
   "metadata": {},
   "outputs": [],
   "source": [
    "def update_step(predicted_x, predicted_p, c, y, sigma_x):\n",
    "    lon = predicted_x[0, 0]\n",
    "    lat = predicted_x[1, 0]\n",
    "    r = calculate_r(lat, lon, sigma_x)\n",
    "    k = calculate_kalman_gain(predicted_p, c, r)\n",
    "    updated_x = predicted_x + np.matmul(k, y - np.matmul(c, predicted_x))\n",
    "    identity = np.eye(4)\n",
    "    updated_p = np.matmul(identity - np.matmul(k, c), predicted_p)\n",
    "    return updated_x, updated_p"
   ]
  },
  {
   "cell_type": "markdown",
   "metadata": {},
   "source": [
    "Explore the data set.\n"
   ]
  },
  {
   "cell_type": "code",
   "execution_count": 19,
   "metadata": {},
   "outputs": [],
   "source": [
    "day = load_day(2)\n",
    "vehicles = day['vehicle_id'].unique()"
   ]
  },
  {
   "cell_type": "code",
   "execution_count": null,
   "metadata": {},
   "outputs": [],
   "source": []
  }
 ],
 "metadata": {
  "kernelspec": {
   "display_name": "Python 3",
   "language": "python",
   "name": "python3"
  },
  "language_info": {
   "codemirror_mode": {
    "name": "ipython",
    "version": 3
   },
   "file_extension": ".py",
   "mimetype": "text/x-python",
   "name": "python",
   "nbconvert_exporter": "python",
   "pygments_lexer": "ipython3",
   "version": "3.6.6"
  }
 },
 "nbformat": 4,
 "nbformat_minor": 2
}
