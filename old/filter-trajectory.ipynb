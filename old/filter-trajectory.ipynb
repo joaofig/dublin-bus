{
 "cells": [
  {
   "cell_type": "code",
   "execution_count": 14,
   "metadata": {},
   "outputs": [],
   "source": [
    "import numpy as np\n",
    "import pandas as pd\n",
    "import math"
   ]
  },
  {
   "cell_type": "code",
   "execution_count": 2,
   "metadata": {},
   "outputs": [],
   "source": [
    "def load_day(day):\n",
    "    header = ['timestamp', 'line_id', 'direction', 'jrny_patt_id', 'time_frame', 'journey_id', 'operator', \n",
    "              'congestion', 'lon', 'lat', 'delay', 'block_id', 'vehicle_id', 'stop_id', 'at_stop']\n",
    "    types = {'timestamp': np.int64,\n",
    "             'journey_id': np.int32,\n",
    "             'congestion': np.int8,\n",
    "             'lon': np.float64,\n",
    "             'lat': np.float64,\n",
    "             'delay': np.int8,\n",
    "             'vehicle_id': np.int32,\n",
    "             'at_stop': np.int8}\n",
    "    file_name = 'data/siri.201301{0:02d}.csv'.format(day)\n",
    "    df = pd.read_csv(file_name, header=None, names=header, dtype=types, parse_dates=['time_frame'], infer_datetime_format=True)\n",
    "    null_replacements = {'line_id': 0, 'stop_id': 0}\n",
    "    df = df.fillna(value=null_replacements)\n",
    "    df['line_id'] = df['line_id'].astype(np.int32)\n",
    "    df['stop_id'] = df['stop_id'].astype(np.int32)\n",
    "    df['timestamp'] = pd.to_datetime(df['timestamp'], unit='us')\n",
    "    return df"
   ]
  },
  {
   "cell_type": "code",
   "execution_count": null,
   "metadata": {},
   "outputs": [],
   "source": [
    "def haversine_np(lon1, lat1, lon2, lat2):\n",
    "    \"\"\"\n",
    "    Calculate the great circle distance between two points\n",
    "    on the earth (specified in decimal degrees)\n",
    "\n",
    "    All args must be of equal length.    \n",
    "    Taken from here: https://stackoverflow.com/questions/29545704/fast-haversine-approximation-python-pandas#29546836\n",
    "    \"\"\"\n",
    "    lon1, lat1, lon2, lat2 = map(np.radians, [lon1, lat1, lon2, lat2])\n",
    "\n",
    "    dlon = lon2 - lon1\n",
    "    dlat = lat2 - lat1\n",
    "\n",
    "    a = np.sin(dlat/2.0)**2 + np.cos(lat1) * np.cos(lat2) * np.sin(dlon/2.0)**2\n",
    "\n",
    "    #c = 2 * np.arcsin(np.sqrt(a))\n",
    "    c = 2 * np.arctan2(np.sqrt(a), np.sqrt(1.0 - a))\n",
    "    meters = 6378137.0 * c\n",
    "    return meters"
   ]
  },
  {
   "cell_type": "code",
   "execution_count": 8,
   "metadata": {},
   "outputs": [],
   "source": [
    "def calculate_durations(data_frame, vehicle_id):\n",
    "    one_second = np.timedelta64(1000000000, 'ns')\n",
    "    dv = data_frame[data_frame['vehicle_id']==vehicle_id]\n",
    "    ts = dv.timestamp.values\n",
    "    dtd = ts[1:] - ts[:-1]\n",
    "    dt = np.zeros(len(dtd) + 1)\n",
    "    dt[1:] = dtd / one_second\n",
    "    return dt"
   ]
  },
  {
   "cell_type": "code",
   "execution_count": 9,
   "metadata": {},
   "outputs": [],
   "source": [
    "def calculate_distances(data_frame, vehicle_id):\n",
    "    dv = data_frame[data_frame['vehicle_id']==vehicle_id]\n",
    "    lat = dv.lat.values\n",
    "    lon = dv.lon.values\n",
    "    dxm = haversine_np(lon[1:], lat[1:], lon[:-1], lat[:-1])\n",
    "    dx = np.zeros(len(dxm) + 1)\n",
    "    dx[1:] = dxm\n",
    "    return dx"
   ]
  },
  {
   "cell_type": "code",
   "execution_count": 17,
   "metadata": {},
   "outputs": [],
   "source": [
    "def delta_location(lat, lon, bearing, meters):\n",
    "    delta = meters / 6378137.0\n",
    "    theta = math.radians(bearing)\n",
    "    lat_r = math.radians(lat)\n",
    "    lon_r = math.radians(lon)\n",
    "    lat_r2 = math.asin(math.sin(lat_r) * math.cos(delta) + math.cos(lat_r) * math.sin(delta) * math.cos(theta))\n",
    "    lon_r2 = lon_r + math.atan2(math.sin(theta) * math.sin(delta) * math.cos(lat_r), \n",
    "                                math.cos(delta) - math.sin(lat_r) * math.sin(lat_r2))\n",
    "    return math.degrees(lat_r2), math.degrees(lon_r2)"
   ]
  },
  {
   "cell_type": "code",
   "execution_count": 29,
   "metadata": {},
   "outputs": [],
   "source": [
    "def x_meters_to_degrees(meters, lat, lon):\n",
    "    lat2, lon2 = delta_location(lat, lon, 90, meters)\n",
    "    return abs(lon - lon2)"
   ]
  },
  {
   "cell_type": "code",
   "execution_count": 30,
   "metadata": {},
   "outputs": [],
   "source": [
    "def y_meters_to_degrees(meters, lat, lon):\n",
    "    lat2, lon2 = delta_location(lat, lon, 0, meters)\n",
    "    return abs(lat - lat2)"
   ]
  },
  {
   "cell_type": "code",
   "execution_count": 33,
   "metadata": {},
   "outputs": [],
   "source": [
    "def calculate_Q(lat, lon, sigma_speed):\n",
    "    Q = np.zeros((4,4), dtype=np.float)\n",
    "    Q[2,2] = x_meters_to_degrees(sigma_speed, lat, lon) ** 2\n",
    "    Q[3,3] = y_meters_to_degrees(sigma_speed, lat, lon) ** 2\n",
    "    return Q"
   ]
  },
  {
   "cell_type": "code",
   "execution_count": null,
   "metadata": {},
   "outputs": [],
   "source": [
    "def calculate_R(lat, lon, sigma):\n",
    "    R = np.zeros((2,2), dtype=np.float)\n",
    "    R[0,0] = x_meters_to_degrees(lat, lon, sigma)\n",
    "    R[1,1] = y_meters_to_degrees(lat, lon, sigma)\n",
    "    return R"
   ]
  },
  {
   "cell_type": "code",
   "execution_count": 34,
   "metadata": {},
   "outputs": [],
   "source": [
    "def calculate_P(lat, lon, sigma, sigma_speed):\n",
    "    P = np.zeros((4,4), dtype=np.float)\n",
    "    P[0,0] = x_meters_to_degrees(sigma, lat, lon) ** 2\n",
    "    P[1,1] = y_meters_to_degrees(sigma, lat, lon) ** 2\n",
    "    P[2,2] = x_meters_to_degrees(sigma_speed, lat, lon) ** 2\n",
    "    P[3,3] = y_meters_to_degrees(sigma_speed, lat, lon) ** 2\n",
    "    return P"
   ]
  },
  {
   "cell_type": "code",
   "execution_count": 2,
   "metadata": {},
   "outputs": [],
   "source": [
    "def calculate_Kalman_gain(P, C, R):\n",
    "    num = np.matmul(P, np.transpose(C))\n",
    "    den = np.matmul(C, num) + R\n",
    "    return np.matmul(num, np.linalg.pinv(den))"
   ]
  },
  {
   "cell_type": "code",
   "execution_count": 1,
   "metadata": {},
   "outputs": [],
   "source": [
    "def predict_step(prev_x, prev_P):\n",
    "    next_x = np.matmul(measurement, prev_x)\n",
    "    next_P = np.matmul(np.matmul(measurement, prev_P), np.transpose(measurement)) +\n",
    "             calculate_Q(prev_x[0,0], prev_x[0,1], sigma_s)\n",
    "    return next_x, next_P"
   ]
  },
  {
   "cell_type": "code",
   "execution_count": 4,
   "metadata": {},
   "outputs": [],
   "source": [
    "def update_step(predicted_x, predicted_P, C, y):\n",
    "    lon = predicted_x[0,0]\n",
    "    lat = predicted_x[0,1]\n",
    "    R = calculate_R(lat, lon, sigma_x)\n",
    "    K = calculate_Kalman_gain(predicted_P, C, R)\n",
    "    updated_x = predicted_x + np.matmul(K, y - np.matmul(C, predicted_x))\n",
    "    I = np.eye(4)\n",
    "    updated_P = np.matmul(I - np.matmul(K, C), predicted_P)\n",
    "    return updated_x, updated_P"
   ]
  },
  {
   "cell_type": "code",
   "execution_count": null,
   "metadata": {},
   "outputs": [],
   "source": []
  },
  {
   "cell_type": "code",
   "execution_count": 19,
   "metadata": {},
   "outputs": [
    {
     "data": {
      "text/plain": [
       "(53.425326999976264, -6.236776621530276)"
      ]
     },
     "execution_count": 19,
     "metadata": {},
     "output_type": "execute_result"
    }
   ],
   "source": [
    "lon = -6.236852\n",
    "lat = 53.425327\n",
    "delta_location(lat, lon, 90, 5)"
   ]
  },
  {
   "cell_type": "code",
   "execution_count": 32,
   "metadata": {},
   "outputs": [
    {
     "data": {
      "text/plain": [
       "array([[0.00000000e+00, 0.00000000e+00, 0.00000000e+00, 0.00000000e+00],\n",
       "       [0.00000000e+00, 0.00000000e+00, 0.00000000e+00, 0.00000000e+00],\n",
       "       [0.00000000e+00, 0.00000000e+00, 3.63642477e-09, 0.00000000e+00],\n",
       "       [0.00000000e+00, 0.00000000e+00, 0.00000000e+00, 1.29115256e-09]])"
      ]
     },
     "execution_count": 32,
     "metadata": {},
     "output_type": "execute_result"
    }
   ],
   "source": [
    "calculate_Q(lat, lon, sigma_speed=1.0)"
   ]
  },
  {
   "cell_type": "code",
   "execution_count": 35,
   "metadata": {},
   "outputs": [
    {
     "data": {
      "text/plain": [
       "array([[3.63642477e-09, 0.00000000e+00, 0.00000000e+00, 0.00000000e+00],\n",
       "       [0.00000000e+00, 1.29115256e-09, 0.00000000e+00, 0.00000000e+00],\n",
       "       [0.00000000e+00, 0.00000000e+00, 2.27276548e-10, 0.00000000e+00],\n",
       "       [0.00000000e+00, 0.00000000e+00, 0.00000000e+00, 8.06970348e-11]])"
      ]
     },
     "execution_count": 35,
     "metadata": {},
     "output_type": "execute_result"
    }
   ],
   "source": [
    "calculate_P(lat, lon, sigma=4, sigma_speed=1.0)"
   ]
  },
  {
   "cell_type": "code",
   "execution_count": null,
   "metadata": {},
   "outputs": [],
   "source": []
  },
  {
   "cell_type": "code",
   "execution_count": 3,
   "metadata": {},
   "outputs": [],
   "source": [
    "df = load_day(1)"
   ]
  },
  {
   "cell_type": "code",
   "execution_count": 20,
   "metadata": {},
   "outputs": [],
   "source": [
    "# Measurement matrix\n",
    "measurement = np.array([[1, 0, 0, 0], [0, 1, 0, 0]])"
   ]
  },
  {
   "cell_type": "code",
   "execution_count": 21,
   "metadata": {},
   "outputs": [],
   "source": [
    "state = np.array([[0], [0], [0], [0]])"
   ]
  },
  {
   "cell_type": "code",
   "execution_count": null,
   "metadata": {},
   "outputs": [],
   "source": []
  },
  {
   "cell_type": "code",
   "execution_count": null,
   "metadata": {},
   "outputs": [],
   "source": [
    "sigma_s = 0.1\n",
    "sigma_x = 4.0"
   ]
  },
  {
   "cell_type": "code",
   "execution_count": null,
   "metadata": {},
   "outputs": [],
   "source": []
  },
  {
   "cell_type": "code",
   "execution_count": null,
   "metadata": {},
   "outputs": [],
   "source": []
  },
  {
   "cell_type": "code",
   "execution_count": null,
   "metadata": {},
   "outputs": [],
   "source": []
  },
  {
   "cell_type": "code",
   "execution_count": null,
   "metadata": {},
   "outputs": [],
   "source": []
  }
 ],
 "metadata": {
  "kernelspec": {
   "display_name": "Python 3",
   "language": "python",
   "name": "python3"
  },
  "language_info": {
   "codemirror_mode": {
    "name": "ipython",
    "version": 3
   },
   "file_extension": ".py",
   "mimetype": "text/x-python",
   "name": "python",
   "nbconvert_exporter": "python",
   "pygments_lexer": "ipython3",
   "version": "3.6.6"
  }
 },
 "nbformat": 4,
 "nbformat_minor": 2
}
