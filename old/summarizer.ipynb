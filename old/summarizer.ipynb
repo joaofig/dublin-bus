{
 "cells": [
  {
   "cell_type": "code",
   "execution_count": 1,
   "metadata": {},
   "outputs": [],
   "source": [
    "import numpy as np\n",
    "import pandas as pd"
   ]
  },
  {
   "cell_type": "code",
   "execution_count": 2,
   "metadata": {},
   "outputs": [],
   "source": [
    "def load_data():\n",
    "    df = pd.read_csv(\"data/201301.csv\", usecols=['timestamp', 'lon', 'lat', 'vehicle_id', 'stop_id', 'at_stop', 'speed'])\n",
    "    return df"
   ]
  },
  {
   "cell_type": "code",
   "execution_count": 3,
   "metadata": {},
   "outputs": [],
   "source": [
    "df = load_data()"
   ]
  },
  {
   "cell_type": "code",
   "execution_count": 4,
   "metadata": {},
   "outputs": [
    {
     "name": "stdout",
     "output_type": "stream",
     "text": [
      "<class 'pandas.core.frame.DataFrame'>\n",
      "RangeIndex: 43945706 entries, 0 to 43945705\n",
      "Data columns (total 7 columns):\n",
      "timestamp     object\n",
      "lon           float64\n",
      "lat           float64\n",
      "vehicle_id    int64\n",
      "stop_id       int64\n",
      "at_stop       int64\n",
      "speed         float64\n",
      "dtypes: float64(3), int64(3), object(1)\n",
      "memory usage: 2.3+ GB\n"
     ]
    }
   ],
   "source": [
    "df.info()"
   ]
  },
  {
   "cell_type": "code",
   "execution_count": 5,
   "metadata": {},
   "outputs": [
    {
     "data": {
      "text/html": [
       "<div>\n",
       "<style scoped>\n",
       "    .dataframe tbody tr th:only-of-type {\n",
       "        vertical-align: middle;\n",
       "    }\n",
       "\n",
       "    .dataframe tbody tr th {\n",
       "        vertical-align: top;\n",
       "    }\n",
       "\n",
       "    .dataframe thead th {\n",
       "        text-align: right;\n",
       "    }\n",
       "</style>\n",
       "<table border=\"1\" class=\"dataframe\">\n",
       "  <thead>\n",
       "    <tr style=\"text-align: right;\">\n",
       "      <th></th>\n",
       "      <th>timestamp</th>\n",
       "      <th>lon</th>\n",
       "      <th>lat</th>\n",
       "      <th>vehicle_id</th>\n",
       "      <th>stop_id</th>\n",
       "      <th>at_stop</th>\n",
       "      <th>speed</th>\n",
       "    </tr>\n",
       "  </thead>\n",
       "  <tbody>\n",
       "    <tr>\n",
       "      <th>0</th>\n",
       "      <td>2013-01-01 00:00:03</td>\n",
       "      <td>-6.236852</td>\n",
       "      <td>53.425327</td>\n",
       "      <td>40040</td>\n",
       "      <td>7411</td>\n",
       "      <td>0</td>\n",
       "      <td>0.000000</td>\n",
       "    </tr>\n",
       "    <tr>\n",
       "      <th>1</th>\n",
       "      <td>2013-01-01 00:00:05</td>\n",
       "      <td>-6.233417</td>\n",
       "      <td>53.342232</td>\n",
       "      <td>33521</td>\n",
       "      <td>395</td>\n",
       "      <td>0</td>\n",
       "      <td>0.000000</td>\n",
       "    </tr>\n",
       "    <tr>\n",
       "      <th>2</th>\n",
       "      <td>2013-01-01 00:00:07</td>\n",
       "      <td>-6.278250</td>\n",
       "      <td>53.416683</td>\n",
       "      <td>33142</td>\n",
       "      <td>6071</td>\n",
       "      <td>0</td>\n",
       "      <td>0.000000</td>\n",
       "    </tr>\n",
       "    <tr>\n",
       "      <th>3</th>\n",
       "      <td>2013-01-01 00:00:07</td>\n",
       "      <td>-6.231633</td>\n",
       "      <td>53.317768</td>\n",
       "      <td>43004</td>\n",
       "      <td>3222</td>\n",
       "      <td>1</td>\n",
       "      <td>0.000000</td>\n",
       "    </tr>\n",
       "    <tr>\n",
       "      <th>4</th>\n",
       "      <td>2013-01-01 00:00:11</td>\n",
       "      <td>-6.254617</td>\n",
       "      <td>53.355484</td>\n",
       "      <td>40039</td>\n",
       "      <td>1445</td>\n",
       "      <td>0</td>\n",
       "      <td>0.000000</td>\n",
       "    </tr>\n",
       "    <tr>\n",
       "      <th>5</th>\n",
       "      <td>2013-01-01 00:00:11</td>\n",
       "      <td>-6.233183</td>\n",
       "      <td>53.342201</td>\n",
       "      <td>33488</td>\n",
       "      <td>2379</td>\n",
       "      <td>0</td>\n",
       "      <td>0.000000</td>\n",
       "    </tr>\n",
       "    <tr>\n",
       "      <th>6</th>\n",
       "      <td>2013-01-01 00:00:17</td>\n",
       "      <td>-6.296867</td>\n",
       "      <td>53.347500</td>\n",
       "      <td>33604</td>\n",
       "      <td>4604</td>\n",
       "      <td>0</td>\n",
       "      <td>0.000000</td>\n",
       "    </tr>\n",
       "    <tr>\n",
       "      <th>7</th>\n",
       "      <td>2013-01-01 00:00:23</td>\n",
       "      <td>-6.238668</td>\n",
       "      <td>53.425789</td>\n",
       "      <td>40040</td>\n",
       "      <td>7411</td>\n",
       "      <td>0</td>\n",
       "      <td>23.553309</td>\n",
       "    </tr>\n",
       "    <tr>\n",
       "      <th>8</th>\n",
       "      <td>2013-01-01 00:00:25</td>\n",
       "      <td>-6.233400</td>\n",
       "      <td>53.342232</td>\n",
       "      <td>33521</td>\n",
       "      <td>395</td>\n",
       "      <td>0</td>\n",
       "      <td>0.203177</td>\n",
       "    </tr>\n",
       "    <tr>\n",
       "      <th>9</th>\n",
       "      <td>2013-01-01 00:00:27</td>\n",
       "      <td>-6.279000</td>\n",
       "      <td>53.416683</td>\n",
       "      <td>43043</td>\n",
       "      <td>7226</td>\n",
       "      <td>0</td>\n",
       "      <td>0.000000</td>\n",
       "    </tr>\n",
       "  </tbody>\n",
       "</table>\n",
       "</div>"
      ],
      "text/plain": [
       "             timestamp       lon        lat  vehicle_id  stop_id  at_stop  \\\n",
       "0  2013-01-01 00:00:03 -6.236852  53.425327       40040     7411        0   \n",
       "1  2013-01-01 00:00:05 -6.233417  53.342232       33521      395        0   \n",
       "2  2013-01-01 00:00:07 -6.278250  53.416683       33142     6071        0   \n",
       "3  2013-01-01 00:00:07 -6.231633  53.317768       43004     3222        1   \n",
       "4  2013-01-01 00:00:11 -6.254617  53.355484       40039     1445        0   \n",
       "5  2013-01-01 00:00:11 -6.233183  53.342201       33488     2379        0   \n",
       "6  2013-01-01 00:00:17 -6.296867  53.347500       33604     4604        0   \n",
       "7  2013-01-01 00:00:23 -6.238668  53.425789       40040     7411        0   \n",
       "8  2013-01-01 00:00:25 -6.233400  53.342232       33521      395        0   \n",
       "9  2013-01-01 00:00:27 -6.279000  53.416683       43043     7226        0   \n",
       "\n",
       "       speed  \n",
       "0   0.000000  \n",
       "1   0.000000  \n",
       "2   0.000000  \n",
       "3   0.000000  \n",
       "4   0.000000  \n",
       "5   0.000000  \n",
       "6   0.000000  \n",
       "7  23.553309  \n",
       "8   0.203177  \n",
       "9   0.000000  "
      ]
     },
     "execution_count": 5,
     "metadata": {},
     "output_type": "execute_result"
    }
   ],
   "source": [
    "df.head(10)"
   ]
  },
  {
   "cell_type": "code",
   "execution_count": 6,
   "metadata": {},
   "outputs": [],
   "source": [
    "selection = (df['stop_id'] == 395) # & (df['at_stop'] == 1)"
   ]
  },
  {
   "cell_type": "code",
   "execution_count": 7,
   "metadata": {},
   "outputs": [
    {
     "data": {
      "text/plain": [
       "60522"
      ]
     },
     "execution_count": 7,
     "metadata": {},
     "output_type": "execute_result"
    }
   ],
   "source": [
    "len(selection[selection])"
   ]
  },
  {
   "cell_type": "code",
   "execution_count": 17,
   "metadata": {},
   "outputs": [],
   "source": [
    "stop_location = df.loc[selection, ['lon', 'lat']]"
   ]
  },
  {
   "cell_type": "code",
   "execution_count": null,
   "metadata": {},
   "outputs": [],
   "source": []
  },
  {
   "cell_type": "code",
   "execution_count": 18,
   "metadata": {},
   "outputs": [],
   "source": [
    "stop_location.to_csv(\"data/s395.csv\", index=False)"
   ]
  },
  {
   "cell_type": "code",
   "execution_count": null,
   "metadata": {},
   "outputs": [],
   "source": []
  },
  {
   "cell_type": "code",
   "execution_count": null,
   "metadata": {},
   "outputs": [],
   "source": []
  }
 ],
 "metadata": {
  "kernelspec": {
   "display_name": "Python 3",
   "language": "python",
   "name": "python3"
  },
  "language_info": {
   "codemirror_mode": {
    "name": "ipython",
    "version": 3
   },
   "file_extension": ".py",
   "mimetype": "text/x-python",
   "name": "python",
   "nbconvert_exporter": "python",
   "pygments_lexer": "ipython3",
   "version": "3.6.7"
  }
 },
 "nbformat": 4,
 "nbformat_minor": 2
}
