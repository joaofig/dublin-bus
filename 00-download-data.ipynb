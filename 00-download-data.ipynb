{
 "cells": [
  {
   "cell_type": "markdown",
   "metadata": {},
   "source": [
    "# Dublin Buses - Download Data\n",
    "\n",
    "Use this notebook to download and consolidate the daily data sets into a single parquet file."
   ]
  },
  {
   "cell_type": "code",
   "execution_count": 1,
   "metadata": {},
   "outputs": [],
   "source": [
    "import numpy as np\n",
    "import pandas as pd\n",
    "import zipfile\n",
    "import urllib\n",
    "import os\n",
    "from ipywidgets import interact, interact_manual\n",
    "from tqdm import tqdm_notebook as tqdm"
   ]
  },
  {
   "cell_type": "code",
   "execution_count": null,
   "metadata": {},
   "outputs": [],
   "source": []
  },
  {
   "cell_type": "code",
   "execution_count": 2,
   "metadata": {},
   "outputs": [],
   "source": [
    "zip_file_name = \"data/sir010113-310113.zip\"\n",
    "parquet_file_name = \"data/sir010113-310113.parquet\""
   ]
  },
  {
   "cell_type": "code",
   "execution_count": 3,
   "metadata": {},
   "outputs": [],
   "source": [
    "def download_zip():\n",
    "    url = \"http://opendata.dublincity.ie/TrafficOpenData/sir010113-310113.zip\"\n",
    "    urllib.request.urlretrieve(url, zip_file_name)"
   ]
  },
  {
   "cell_type": "code",
   "execution_count": null,
   "metadata": {},
   "outputs": [],
   "source": []
  },
  {
   "cell_type": "code",
   "execution_count": 4,
   "metadata": {},
   "outputs": [],
   "source": [
    "def read_data_frame(filename):\n",
    "    header = ['Timestamp', 'LineID', 'Direction', 'PatternID', 'TimeFrame', \n",
    "              'JourneyID', 'Operator', 'Congestion', 'Lon', 'Lat', \n",
    "              'Delay', 'BlockID', 'VehicleID', 'StopID', 'AtStop']   \n",
    "    types = {'Timestamp': np.int64,\n",
    "             'JourneyID': np.int32,\n",
    "             'Congestion': np.int8,\n",
    "             'Lon': np.float64,\n",
    "             'Lat': np.float64,\n",
    "             'Delay': np.int8,\n",
    "             'VehicleID': np.int32,\n",
    "             'AtStop': np.int8}\n",
    "    df = pd.read_csv(filename, header=None, names=header, dtype=types, \n",
    "                     parse_dates=['TimeFrame'], infer_datetime_format=True)\n",
    "    return df"
   ]
  },
  {
   "cell_type": "code",
   "execution_count": null,
   "metadata": {},
   "outputs": [],
   "source": []
  },
  {
   "cell_type": "code",
   "execution_count": 5,
   "metadata": {},
   "outputs": [],
   "source": [
    "def get_day(ts):\n",
    "    return ts.day\n",
    "\n",
    "def get_hour(ts):\n",
    "    return ts.hour\n",
    "\n",
    "def get_minute(ts):\n",
    "    return ts.minute\n",
    "\n",
    "def prepare_data_frame(df): \n",
    "    null_replacements = {'LineID': 0, 'StopID': 0}\n",
    "    df = df.fillna(value=null_replacements)\n",
    "    df['LineID'] = df['LineID'].astype(np.int32)\n",
    "    df['StopID'] = df['StopID'].astype(np.int32)\n",
    "    df['DateTime'] = pd.to_datetime(df['Timestamp'], unit='us')\n",
    "#     df['Day'] = df['DateTime'].apply(get_day)\n",
    "#     df['Hour'] = df['DateTime'].apply(get_hour)\n",
    "#     df['Minute'] = df['DateTime'].apply(get_minute)\n",
    "    return df"
   ]
  },
  {
   "cell_type": "code",
   "execution_count": null,
   "metadata": {},
   "outputs": [],
   "source": []
  },
  {
   "cell_type": "markdown",
   "metadata": {},
   "source": [
    "Use this function to read in all the extracted files into a single DataFrame. The generator expression make the concatenation quite swift and preclude the use of other supporting variables."
   ]
  },
  {
   "cell_type": "code",
   "execution_count": 7,
   "metadata": {},
   "outputs": [],
   "source": [
    "def read_zip_file(filename):\n",
    "    final_df = None\n",
    "    file_names = []\n",
    "    with zipfile.ZipFile(filename) as z:\n",
    "        files = z.infolist()\n",
    "        for f in tqdm(files):\n",
    "            z.extract(f, path='data')\n",
    "            file_names.append(\"data/\" + f.filename)\n",
    "    \n",
    "    df = pd.concat((read_data_frame(file) for file in tqdm(file_names)), ignore_index=True)\n",
    "    for file in tqdm(file_names):\n",
    "        os.remove(file)\n",
    "    df = prepare_data_frame(df)\n",
    "    return df"
   ]
  },
  {
   "cell_type": "markdown",
   "metadata": {},
   "source": [
    "Create the data directory if it does not yet exist."
   ]
  },
  {
   "cell_type": "code",
   "execution_count": 8,
   "metadata": {},
   "outputs": [],
   "source": [
    "if not os.path.exists(\"data\"):\n",
    "    os.makedirs(\"data\")"
   ]
  },
  {
   "cell_type": "code",
   "execution_count": null,
   "metadata": {},
   "outputs": [],
   "source": []
  },
  {
   "cell_type": "code",
   "execution_count": null,
   "metadata": {},
   "outputs": [],
   "source": []
  },
  {
   "cell_type": "markdown",
   "metadata": {},
   "source": [
    "Conditionally download and process the data file. The download process can take a *long time*, so please make sure to retain the zip file for future use."
   ]
  },
  {
   "cell_type": "code",
   "execution_count": 9,
   "metadata": {},
   "outputs": [],
   "source": [
    "if not os.path.exists(zip_file_name):\n",
    "    download_zip()"
   ]
  },
  {
   "cell_type": "code",
   "execution_count": 10,
   "metadata": {},
   "outputs": [
    {
     "data": {
      "application/vnd.jupyter.widget-view+json": {
       "model_id": "460045423dfa4257afcff8c167fd3ece",
       "version_major": 2,
       "version_minor": 0
      },
      "text/plain": [
       "HBox(children=(IntProgress(value=0, max=31), HTML(value='')))"
      ]
     },
     "metadata": {},
     "output_type": "display_data"
    },
    {
     "name": "stdout",
     "output_type": "stream",
     "text": [
      "\n"
     ]
    },
    {
     "data": {
      "application/vnd.jupyter.widget-view+json": {
       "model_id": "aee4374c289047d0a46aa774a8e7833b",
       "version_major": 2,
       "version_minor": 0
      },
      "text/plain": [
       "HBox(children=(IntProgress(value=0, max=31), HTML(value='')))"
      ]
     },
     "metadata": {},
     "output_type": "display_data"
    },
    {
     "name": "stdout",
     "output_type": "stream",
     "text": [
      "\n"
     ]
    },
    {
     "data": {
      "application/vnd.jupyter.widget-view+json": {
       "model_id": "3735d96835e0446ebc797a542bb0e314",
       "version_major": 2,
       "version_minor": 0
      },
      "text/plain": [
       "HBox(children=(IntProgress(value=0, max=31), HTML(value='')))"
      ]
     },
     "metadata": {},
     "output_type": "display_data"
    },
    {
     "name": "stdout",
     "output_type": "stream",
     "text": [
      "\n"
     ]
    }
   ],
   "source": [
    "df = read_zip_file(zip_file_name)"
   ]
  },
  {
   "cell_type": "code",
   "execution_count": null,
   "metadata": {},
   "outputs": [],
   "source": []
  },
  {
   "cell_type": "code",
   "execution_count": null,
   "metadata": {},
   "outputs": [],
   "source": []
  },
  {
   "cell_type": "markdown",
   "metadata": {},
   "source": [
    "Save the consolidated DataFrame to a parquet-formatted file."
   ]
  },
  {
   "cell_type": "code",
   "execution_count": 11,
   "metadata": {},
   "outputs": [],
   "source": [
    "if not os.path.exists(parquet_file_name):\n",
    "    df.to_parquet(parquet_file_name, index=False)"
   ]
  },
  {
   "cell_type": "code",
   "execution_count": null,
   "metadata": {},
   "outputs": [],
   "source": []
  }
 ],
 "metadata": {
  "kernelspec": {
   "display_name": "Python 3",
   "language": "python",
   "name": "python3"
  },
  "language_info": {
   "codemirror_mode": {
    "name": "ipython",
    "version": 3
   },
   "file_extension": ".py",
   "mimetype": "text/x-python",
   "name": "python",
   "nbconvert_exporter": "python",
   "pygments_lexer": "ipython3",
   "version": "3.6.8"
  }
 },
 "nbformat": 4,
 "nbformat_minor": 4
}
