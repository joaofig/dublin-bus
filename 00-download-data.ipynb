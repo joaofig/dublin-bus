{
 "cells": [
  {
   "cell_type": "code",
   "execution_count": null,
   "metadata": {},
   "outputs": [],
   "source": []
  },
  {
   "cell_type": "code",
   "execution_count": 1,
   "metadata": {},
   "outputs": [],
   "source": [
    "import numpy as np\n",
    "import pandas as pd\n",
    "import zipfile\n",
    "import urllib\n",
    "import os"
   ]
  },
  {
   "cell_type": "code",
   "execution_count": null,
   "metadata": {},
   "outputs": [],
   "source": []
  },
  {
   "cell_type": "code",
   "execution_count": null,
   "metadata": {},
   "outputs": [],
   "source": []
  },
  {
   "cell_type": "code",
   "execution_count": 2,
   "metadata": {},
   "outputs": [],
   "source": [
    "def download_zip():\n",
    "    url = \"http://opendata.dublincity.ie/TrafficOpenData/sir010113-310113.zip\"\n",
    "    urllib.request.urlretrieve(url, \"data/sir010113-310113.zip\")"
   ]
  },
  {
   "cell_type": "code",
   "execution_count": null,
   "metadata": {},
   "outputs": [],
   "source": []
  },
  {
   "cell_type": "code",
   "execution_count": 3,
   "metadata": {},
   "outputs": [],
   "source": [
    "def read_data_frame(filename):\n",
    "    header = ['Timestamp', 'LineID', 'Direction', 'PatternID', 'TimeFrame', \n",
    "              'JourneyID', 'Operator', 'Congestion', 'Lon', 'Lat', \n",
    "              'Delay', 'BlockID', 'VehicleID', 'StopID', 'AtStop']   \n",
    "    types = {'Timestamp': np.int64,\n",
    "             'JourneyID': np.int32,\n",
    "             'Congestion': np.int8,\n",
    "             'Lon': np.float64,\n",
    "             'Lat': np.float64,\n",
    "             'Delay': np.int8,\n",
    "             'VehicleID': np.int32,\n",
    "             'AtStop': np.int8}\n",
    "    df = pd.read_csv(filename, header=None, names=header, dtype=types, \n",
    "                     parse_dates=['TimeFrame'], infer_datetime_format=True)\n",
    "    return df"
   ]
  },
  {
   "cell_type": "code",
   "execution_count": null,
   "metadata": {},
   "outputs": [],
   "source": []
  },
  {
   "cell_type": "code",
   "execution_count": 4,
   "metadata": {},
   "outputs": [],
   "source": [
    "def get_day(ts):\n",
    "    return ts.day\n",
    "\n",
    "def get_hour(ts):\n",
    "    return ts.hour\n",
    "\n",
    "def get_minute(ts):\n",
    "    return ts.minute\n",
    "\n",
    "def prepare_data_frame(df): \n",
    "    null_replacements = {'LineID': 0, 'StopID': 0}\n",
    "    df = df.fillna(value=null_replacements)\n",
    "    df['LineID'] = df['LineID'].astype(np.int32)\n",
    "    df['StopID'] = df['StopID'].astype(np.int32)\n",
    "    df['DateTime'] = pd.to_datetime(df['Timestamp'], unit='us')\n",
    "    df['Day'] = df['DateTime'].apply(get_day)\n",
    "    df['Hour'] = df['DateTime'].apply(get_hour)\n",
    "    df['Minute'] = df['DateTime'].apply(get_minute)\n",
    "    return df"
   ]
  },
  {
   "cell_type": "code",
   "execution_count": null,
   "metadata": {},
   "outputs": [],
   "source": []
  },
  {
   "cell_type": "code",
   "execution_count": null,
   "metadata": {},
   "outputs": [],
   "source": []
  },
  {
   "cell_type": "code",
   "execution_count": 5,
   "metadata": {},
   "outputs": [],
   "source": [
    "def read_zip_file(filename):\n",
    "    final_df = None\n",
    "    with zipfile.ZipFile(filename) as z:\n",
    "        files = z.infolist()\n",
    "        for f in files:\n",
    "            print(f.filename)\n",
    "            z.extract(f, path='data')\n",
    "            df = read_data_frame(\"data/\" + f.filename)\n",
    "            if final_df is None:\n",
    "                final_df = df\n",
    "            else:\n",
    "                final_df = final_df.append(df)\n",
    "    final_df = prepare_data_frame(final_df)\n",
    "    return final_df"
   ]
  },
  {
   "cell_type": "markdown",
   "metadata": {},
   "source": [
    "Create the data directory if it does not yet exist."
   ]
  },
  {
   "cell_type": "code",
   "execution_count": 6,
   "metadata": {},
   "outputs": [],
   "source": [
    "if not os.path.exists(\"data\"):\n",
    "    os.makedirs(\"data\")"
   ]
  },
  {
   "cell_type": "code",
   "execution_count": null,
   "metadata": {},
   "outputs": [],
   "source": []
  },
  {
   "cell_type": "code",
   "execution_count": 7,
   "metadata": {},
   "outputs": [],
   "source": [
    "file_name = \"data/sir010113-310113.zip\""
   ]
  },
  {
   "cell_type": "markdown",
   "metadata": {},
   "source": [
    "Conditionally download and process the data file."
   ]
  },
  {
   "cell_type": "code",
   "execution_count": 8,
   "metadata": {},
   "outputs": [],
   "source": [
    "if not os.path.exists(file_name):\n",
    "    download_zip()"
   ]
  },
  {
   "cell_type": "code",
   "execution_count": 9,
   "metadata": {},
   "outputs": [
    {
     "name": "stdout",
     "output_type": "stream",
     "text": [
      "siri.20130101.csv.gz\n",
      "siri.20130102.csv.gz\n",
      "siri.20130103.csv.gz\n",
      "siri.20130104.csv.gz\n",
      "siri.20130105.csv.gz\n",
      "siri.20130106.csv.gz\n",
      "siri.20130107.csv.gz\n",
      "siri.20130108.csv.gz\n",
      "siri.20130109.csv.gz\n",
      "siri.20130110.csv.gz\n",
      "siri.20130111.csv.gz\n",
      "siri.20130112.csv.gz\n",
      "siri.20130113.csv.gz\n",
      "siri.20130114.csv.gz\n",
      "siri.20130115.csv.gz\n",
      "siri.20130116.csv.gz\n",
      "siri.20130117.csv.gz\n",
      "siri.20130118.csv.gz\n",
      "siri.20130119.csv.gz\n",
      "siri.20130120.csv.gz\n",
      "siri.20130121.csv.gz\n",
      "siri.20130122.csv.gz\n",
      "siri.20130123.csv.gz\n",
      "siri.20130124.csv.gz\n",
      "siri.20130125.csv.gz\n",
      "siri.20130126.csv.gz\n",
      "siri.20130127.csv.gz\n",
      "siri.20130128.csv.gz\n",
      "siri.20130129.csv.gz\n",
      "siri.20130130.csv.gz\n",
      "siri.20130131.csv.gz\n"
     ]
    }
   ],
   "source": [
    "df = read_zip_file(file_name)"
   ]
  },
  {
   "cell_type": "code",
   "execution_count": null,
   "metadata": {},
   "outputs": [],
   "source": []
  },
  {
   "cell_type": "code",
   "execution_count": null,
   "metadata": {},
   "outputs": [],
   "source": []
  },
  {
   "cell_type": "code",
   "execution_count": null,
   "metadata": {},
   "outputs": [],
   "source": []
  },
  {
   "cell_type": "code",
   "execution_count": 10,
   "metadata": {},
   "outputs": [],
   "source": [
    "if not os.path.exists(\"data/sir010113-310113.parquet\"):\n",
    "    df.to_parquet(\"data/sir010113-310113.parquet\", index=False)"
   ]
  },
  {
   "cell_type": "code",
   "execution_count": null,
   "metadata": {},
   "outputs": [],
   "source": []
  },
  {
   "cell_type": "code",
   "execution_count": null,
   "metadata": {},
   "outputs": [],
   "source": []
  },
  {
   "cell_type": "code",
   "execution_count": null,
   "metadata": {},
   "outputs": [],
   "source": []
  },
  {
   "cell_type": "code",
   "execution_count": 11,
   "metadata": {},
   "outputs": [
    {
     "data": {
      "text/html": [
       "<div>\n",
       "<style scoped>\n",
       "    .dataframe tbody tr th:only-of-type {\n",
       "        vertical-align: middle;\n",
       "    }\n",
       "\n",
       "    .dataframe tbody tr th {\n",
       "        vertical-align: top;\n",
       "    }\n",
       "\n",
       "    .dataframe thead th {\n",
       "        text-align: right;\n",
       "    }\n",
       "</style>\n",
       "<table border=\"1\" class=\"dataframe\">\n",
       "  <thead>\n",
       "    <tr style=\"text-align: right;\">\n",
       "      <th></th>\n",
       "      <th>Timestamp</th>\n",
       "      <th>LineID</th>\n",
       "      <th>Direction</th>\n",
       "      <th>PatternID</th>\n",
       "      <th>TimeFrame</th>\n",
       "      <th>JourneyID</th>\n",
       "      <th>Operator</th>\n",
       "      <th>Congestion</th>\n",
       "      <th>Lon</th>\n",
       "      <th>Lat</th>\n",
       "      <th>Delay</th>\n",
       "      <th>BlockID</th>\n",
       "      <th>VehicleID</th>\n",
       "      <th>StopID</th>\n",
       "      <th>AtStop</th>\n",
       "      <th>DateTime</th>\n",
       "      <th>Day</th>\n",
       "      <th>Hour</th>\n",
       "      <th>Minute</th>\n",
       "    </tr>\n",
       "  </thead>\n",
       "  <tbody>\n",
       "    <tr>\n",
       "      <th>0</th>\n",
       "      <td>1356998403000000</td>\n",
       "      <td>747</td>\n",
       "      <td>0</td>\n",
       "      <td>07470001</td>\n",
       "      <td>2012-12-31</td>\n",
       "      <td>3493</td>\n",
       "      <td>SL</td>\n",
       "      <td>0</td>\n",
       "      <td>-6.236852</td>\n",
       "      <td>53.425327</td>\n",
       "      <td>59</td>\n",
       "      <td>747006</td>\n",
       "      <td>40040</td>\n",
       "      <td>7411</td>\n",
       "      <td>0</td>\n",
       "      <td>2013-01-01 00:00:03</td>\n",
       "      <td>1</td>\n",
       "      <td>0</td>\n",
       "      <td>0</td>\n",
       "    </tr>\n",
       "    <tr>\n",
       "      <th>1</th>\n",
       "      <td>1356998405000000</td>\n",
       "      <td>27</td>\n",
       "      <td>0</td>\n",
       "      <td>NaN</td>\n",
       "      <td>2012-12-31</td>\n",
       "      <td>3883</td>\n",
       "      <td>RD</td>\n",
       "      <td>0</td>\n",
       "      <td>-6.233417</td>\n",
       "      <td>53.342232</td>\n",
       "      <td>0</td>\n",
       "      <td>27017</td>\n",
       "      <td>33521</td>\n",
       "      <td>395</td>\n",
       "      <td>0</td>\n",
       "      <td>2013-01-01 00:00:05</td>\n",
       "      <td>1</td>\n",
       "      <td>0</td>\n",
       "      <td>0</td>\n",
       "    </tr>\n",
       "    <tr>\n",
       "      <th>2</th>\n",
       "      <td>1356998407000000</td>\n",
       "      <td>40</td>\n",
       "      <td>0</td>\n",
       "      <td>NaN</td>\n",
       "      <td>2012-12-31</td>\n",
       "      <td>2226</td>\n",
       "      <td>HN</td>\n",
       "      <td>0</td>\n",
       "      <td>-6.278250</td>\n",
       "      <td>53.416683</td>\n",
       "      <td>0</td>\n",
       "      <td>40206</td>\n",
       "      <td>33142</td>\n",
       "      <td>6071</td>\n",
       "      <td>0</td>\n",
       "      <td>2013-01-01 00:00:07</td>\n",
       "      <td>1</td>\n",
       "      <td>0</td>\n",
       "      <td>0</td>\n",
       "    </tr>\n",
       "    <tr>\n",
       "      <th>3</th>\n",
       "      <td>1356998407000000</td>\n",
       "      <td>7</td>\n",
       "      <td>0</td>\n",
       "      <td>00071003</td>\n",
       "      <td>2012-12-31</td>\n",
       "      <td>6106</td>\n",
       "      <td>D1</td>\n",
       "      <td>0</td>\n",
       "      <td>-6.231633</td>\n",
       "      <td>53.317768</td>\n",
       "      <td>0</td>\n",
       "      <td>7019</td>\n",
       "      <td>43004</td>\n",
       "      <td>3222</td>\n",
       "      <td>1</td>\n",
       "      <td>2013-01-01 00:00:07</td>\n",
       "      <td>1</td>\n",
       "      <td>0</td>\n",
       "      <td>0</td>\n",
       "    </tr>\n",
       "    <tr>\n",
       "      <th>4</th>\n",
       "      <td>1356998411000000</td>\n",
       "      <td>747</td>\n",
       "      <td>0</td>\n",
       "      <td>07471001</td>\n",
       "      <td>2012-12-31</td>\n",
       "      <td>3531</td>\n",
       "      <td>SL</td>\n",
       "      <td>0</td>\n",
       "      <td>-6.254617</td>\n",
       "      <td>53.355484</td>\n",
       "      <td>58</td>\n",
       "      <td>747007</td>\n",
       "      <td>40039</td>\n",
       "      <td>1445</td>\n",
       "      <td>0</td>\n",
       "      <td>2013-01-01 00:00:11</td>\n",
       "      <td>1</td>\n",
       "      <td>0</td>\n",
       "      <td>0</td>\n",
       "    </tr>\n",
       "  </tbody>\n",
       "</table>\n",
       "</div>"
      ],
      "text/plain": [
       "          Timestamp  LineID  Direction PatternID  TimeFrame  JourneyID  \\\n",
       "0  1356998403000000     747          0  07470001 2012-12-31       3493   \n",
       "1  1356998405000000      27          0       NaN 2012-12-31       3883   \n",
       "2  1356998407000000      40          0       NaN 2012-12-31       2226   \n",
       "3  1356998407000000       7          0  00071003 2012-12-31       6106   \n",
       "4  1356998411000000     747          0  07471001 2012-12-31       3531   \n",
       "\n",
       "  Operator  Congestion       Lon        Lat  Delay  BlockID  VehicleID  \\\n",
       "0       SL           0 -6.236852  53.425327     59   747006      40040   \n",
       "1       RD           0 -6.233417  53.342232      0    27017      33521   \n",
       "2       HN           0 -6.278250  53.416683      0    40206      33142   \n",
       "3       D1           0 -6.231633  53.317768      0     7019      43004   \n",
       "4       SL           0 -6.254617  53.355484     58   747007      40039   \n",
       "\n",
       "   StopID  AtStop            DateTime  Day  Hour  Minute  \n",
       "0    7411       0 2013-01-01 00:00:03    1     0       0  \n",
       "1     395       0 2013-01-01 00:00:05    1     0       0  \n",
       "2    6071       0 2013-01-01 00:00:07    1     0       0  \n",
       "3    3222       1 2013-01-01 00:00:07    1     0       0  \n",
       "4    1445       0 2013-01-01 00:00:11    1     0       0  "
      ]
     },
     "execution_count": 11,
     "metadata": {},
     "output_type": "execute_result"
    }
   ],
   "source": [
    "df.head()"
   ]
  },
  {
   "cell_type": "code",
   "execution_count": null,
   "metadata": {},
   "outputs": [],
   "source": []
  }
 ],
 "metadata": {
  "kernelspec": {
   "display_name": "Python 3",
   "language": "python",
   "name": "python3"
  },
  "language_info": {
   "codemirror_mode": {
    "name": "ipython",
    "version": 3
   },
   "file_extension": ".py",
   "mimetype": "text/x-python",
   "name": "python",
   "nbconvert_exporter": "python",
   "pygments_lexer": "ipython3",
   "version": "3.6.8"
  }
 },
 "nbformat": 4,
 "nbformat_minor": 2
}
