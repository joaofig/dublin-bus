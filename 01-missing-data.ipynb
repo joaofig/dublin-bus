{
 "cells": [
  {
   "cell_type": "code",
   "execution_count": 1,
   "metadata": {},
   "outputs": [],
   "source": [
    "import numpy as np\n",
    "import pandas as pd\n",
    "\n",
    "from geo.geomath import vec_haversine"
   ]
  },
  {
   "cell_type": "code",
   "execution_count": null,
   "metadata": {},
   "outputs": [],
   "source": []
  },
  {
   "cell_type": "code",
   "execution_count": 2,
   "metadata": {},
   "outputs": [],
   "source": [
    "df = pd.read_parquet(\"data/sir010113-310113.parquet\")"
   ]
  },
  {
   "cell_type": "code",
   "execution_count": 3,
   "metadata": {},
   "outputs": [],
   "source": [
    "df = df.sort_values(by=['VehicleID', 'Timestamp'])"
   ]
  },
  {
   "cell_type": "code",
   "execution_count": 4,
   "metadata": {},
   "outputs": [
    {
     "data": {
      "text/plain": [
       "(67,)"
      ]
     },
     "execution_count": 4,
     "metadata": {},
     "output_type": "execute_result"
    }
   ],
   "source": [
    "df['LineID'].unique().shape"
   ]
  },
  {
   "cell_type": "code",
   "execution_count": 5,
   "metadata": {},
   "outputs": [
    {
     "data": {
      "text/plain": [
       "(911,)"
      ]
     },
     "execution_count": 5,
     "metadata": {},
     "output_type": "execute_result"
    }
   ],
   "source": [
    "df['VehicleID'].unique().shape"
   ]
  },
  {
   "cell_type": "code",
   "execution_count": 6,
   "metadata": {},
   "outputs": [
    {
     "data": {
      "text/plain": [
       "(4728,)"
      ]
     },
     "execution_count": 6,
     "metadata": {},
     "output_type": "execute_result"
    }
   ],
   "source": [
    "df['StopID'].unique().shape"
   ]
  },
  {
   "cell_type": "code",
   "execution_count": 7,
   "metadata": {},
   "outputs": [
    {
     "data": {
      "text/plain": [
       "(18614,)"
      ]
     },
     "execution_count": 7,
     "metadata": {},
     "output_type": "execute_result"
    }
   ],
   "source": [
    "df['JourneyID'].dropna().unique().shape"
   ]
  },
  {
   "cell_type": "code",
   "execution_count": 8,
   "metadata": {},
   "outputs": [
    {
     "data": {
      "text/plain": [
       "(465,)"
      ]
     },
     "execution_count": 8,
     "metadata": {},
     "output_type": "execute_result"
    }
   ],
   "source": [
    "df['PatternID'].dropna().unique().shape"
   ]
  },
  {
   "cell_type": "code",
   "execution_count": 9,
   "metadata": {},
   "outputs": [
    {
     "data": {
      "text/plain": [
       "Timestamp           0\n",
       "LineID              0\n",
       "Direction           0\n",
       "PatternID     6649920\n",
       "TimeFrame           0\n",
       "JourneyID           0\n",
       "Operator            0\n",
       "Congestion          0\n",
       "Lon                 0\n",
       "Lat                 0\n",
       "Delay               0\n",
       "BlockID             0\n",
       "VehicleID           0\n",
       "StopID              0\n",
       "AtStop              0\n",
       "DateTime            0\n",
       "Day                 0\n",
       "Hour                0\n",
       "Minute              0\n",
       "dtype: int64"
      ]
     },
     "execution_count": 9,
     "metadata": {},
     "output_type": "execute_result"
    }
   ],
   "source": [
    "df.isnull().sum()"
   ]
  },
  {
   "cell_type": "code",
   "execution_count": 10,
   "metadata": {},
   "outputs": [
    {
     "data": {
      "text/plain": [
       "(44455133, 19)"
      ]
     },
     "execution_count": 10,
     "metadata": {},
     "output_type": "execute_result"
    }
   ],
   "source": [
    "df.shape"
   ]
  },
  {
   "cell_type": "code",
   "execution_count": 11,
   "metadata": {},
   "outputs": [
    {
     "data": {
      "text/html": [
       "<div>\n",
       "<style scoped>\n",
       "    .dataframe tbody tr th:only-of-type {\n",
       "        vertical-align: middle;\n",
       "    }\n",
       "\n",
       "    .dataframe tbody tr th {\n",
       "        vertical-align: top;\n",
       "    }\n",
       "\n",
       "    .dataframe thead th {\n",
       "        text-align: right;\n",
       "    }\n",
       "</style>\n",
       "<table border=\"1\" class=\"dataframe\">\n",
       "  <thead>\n",
       "    <tr style=\"text-align: right;\">\n",
       "      <th></th>\n",
       "      <th>Timestamp</th>\n",
       "      <th>LineID</th>\n",
       "      <th>Direction</th>\n",
       "      <th>PatternID</th>\n",
       "      <th>TimeFrame</th>\n",
       "      <th>JourneyID</th>\n",
       "      <th>Operator</th>\n",
       "      <th>Congestion</th>\n",
       "      <th>Lon</th>\n",
       "      <th>Lat</th>\n",
       "      <th>Delay</th>\n",
       "      <th>BlockID</th>\n",
       "      <th>VehicleID</th>\n",
       "      <th>StopID</th>\n",
       "      <th>AtStop</th>\n",
       "      <th>DateTime</th>\n",
       "      <th>Day</th>\n",
       "      <th>Hour</th>\n",
       "      <th>Minute</th>\n",
       "    </tr>\n",
       "  </thead>\n",
       "  <tbody>\n",
       "    <tr>\n",
       "      <th>828520</th>\n",
       "      <td>1357109254000000</td>\n",
       "      <td>44</td>\n",
       "      <td>0</td>\n",
       "      <td>None</td>\n",
       "      <td>2013-01-02</td>\n",
       "      <td>3997</td>\n",
       "      <td>D2</td>\n",
       "      <td>0</td>\n",
       "      <td>-6.236850</td>\n",
       "      <td>53.307999</td>\n",
       "      <td>0</td>\n",
       "      <td>44005</td>\n",
       "      <td>28047</td>\n",
       "      <td>0</td>\n",
       "      <td>0</td>\n",
       "      <td>2013-01-02 06:47:34</td>\n",
       "      <td>2</td>\n",
       "      <td>6</td>\n",
       "      <td>47</td>\n",
       "    </tr>\n",
       "    <tr>\n",
       "      <th>829863</th>\n",
       "      <td>1357109307000000</td>\n",
       "      <td>44</td>\n",
       "      <td>0</td>\n",
       "      <td>None</td>\n",
       "      <td>2013-01-02</td>\n",
       "      <td>3997</td>\n",
       "      <td>D2</td>\n",
       "      <td>0</td>\n",
       "      <td>-6.239767</td>\n",
       "      <td>53.305183</td>\n",
       "      <td>0</td>\n",
       "      <td>44005</td>\n",
       "      <td>28047</td>\n",
       "      <td>0</td>\n",
       "      <td>0</td>\n",
       "      <td>2013-01-02 06:48:27</td>\n",
       "      <td>2</td>\n",
       "      <td>6</td>\n",
       "      <td>48</td>\n",
       "    </tr>\n",
       "    <tr>\n",
       "      <th>830298</th>\n",
       "      <td>1357109328000000</td>\n",
       "      <td>44</td>\n",
       "      <td>0</td>\n",
       "      <td>None</td>\n",
       "      <td>2013-01-02</td>\n",
       "      <td>3997</td>\n",
       "      <td>D2</td>\n",
       "      <td>0</td>\n",
       "      <td>-6.239767</td>\n",
       "      <td>53.305183</td>\n",
       "      <td>0</td>\n",
       "      <td>44005</td>\n",
       "      <td>28047</td>\n",
       "      <td>0</td>\n",
       "      <td>0</td>\n",
       "      <td>2013-01-02 06:48:48</td>\n",
       "      <td>2</td>\n",
       "      <td>6</td>\n",
       "      <td>48</td>\n",
       "    </tr>\n",
       "    <tr>\n",
       "      <th>830481</th>\n",
       "      <td>1357109336000000</td>\n",
       "      <td>44</td>\n",
       "      <td>0</td>\n",
       "      <td>None</td>\n",
       "      <td>2013-01-02</td>\n",
       "      <td>3997</td>\n",
       "      <td>D2</td>\n",
       "      <td>0</td>\n",
       "      <td>-6.239767</td>\n",
       "      <td>53.305183</td>\n",
       "      <td>0</td>\n",
       "      <td>44005</td>\n",
       "      <td>28047</td>\n",
       "      <td>0</td>\n",
       "      <td>0</td>\n",
       "      <td>2013-01-02 06:48:56</td>\n",
       "      <td>2</td>\n",
       "      <td>6</td>\n",
       "      <td>48</td>\n",
       "    </tr>\n",
       "    <tr>\n",
       "      <th>830851</th>\n",
       "      <td>1357109346000000</td>\n",
       "      <td>44</td>\n",
       "      <td>0</td>\n",
       "      <td>None</td>\n",
       "      <td>2013-01-02</td>\n",
       "      <td>3997</td>\n",
       "      <td>D2</td>\n",
       "      <td>0</td>\n",
       "      <td>-6.245650</td>\n",
       "      <td>53.304966</td>\n",
       "      <td>0</td>\n",
       "      <td>44005</td>\n",
       "      <td>28047</td>\n",
       "      <td>0</td>\n",
       "      <td>0</td>\n",
       "      <td>2013-01-02 06:49:06</td>\n",
       "      <td>2</td>\n",
       "      <td>6</td>\n",
       "      <td>49</td>\n",
       "    </tr>\n",
       "    <tr>\n",
       "      <th>831694</th>\n",
       "      <td>1357109387000000</td>\n",
       "      <td>44</td>\n",
       "      <td>0</td>\n",
       "      <td>None</td>\n",
       "      <td>2013-01-02</td>\n",
       "      <td>3997</td>\n",
       "      <td>D2</td>\n",
       "      <td>0</td>\n",
       "      <td>-6.245800</td>\n",
       "      <td>53.300999</td>\n",
       "      <td>0</td>\n",
       "      <td>44005</td>\n",
       "      <td>28047</td>\n",
       "      <td>0</td>\n",
       "      <td>0</td>\n",
       "      <td>2013-01-02 06:49:47</td>\n",
       "      <td>2</td>\n",
       "      <td>6</td>\n",
       "      <td>49</td>\n",
       "    </tr>\n",
       "    <tr>\n",
       "      <th>831907</th>\n",
       "      <td>1357109397000000</td>\n",
       "      <td>44</td>\n",
       "      <td>0</td>\n",
       "      <td>None</td>\n",
       "      <td>2013-01-02</td>\n",
       "      <td>3997</td>\n",
       "      <td>D2</td>\n",
       "      <td>0</td>\n",
       "      <td>-6.245800</td>\n",
       "      <td>53.300999</td>\n",
       "      <td>0</td>\n",
       "      <td>44005</td>\n",
       "      <td>28047</td>\n",
       "      <td>0</td>\n",
       "      <td>0</td>\n",
       "      <td>2013-01-02 06:49:57</td>\n",
       "      <td>2</td>\n",
       "      <td>6</td>\n",
       "      <td>49</td>\n",
       "    </tr>\n",
       "    <tr>\n",
       "      <th>832331</th>\n",
       "      <td>1357109407000000</td>\n",
       "      <td>44</td>\n",
       "      <td>0</td>\n",
       "      <td>None</td>\n",
       "      <td>2013-01-02</td>\n",
       "      <td>3997</td>\n",
       "      <td>D2</td>\n",
       "      <td>0</td>\n",
       "      <td>-6.246500</td>\n",
       "      <td>53.298668</td>\n",
       "      <td>0</td>\n",
       "      <td>44005</td>\n",
       "      <td>28047</td>\n",
       "      <td>0</td>\n",
       "      <td>0</td>\n",
       "      <td>2013-01-02 06:50:07</td>\n",
       "      <td>2</td>\n",
       "      <td>6</td>\n",
       "      <td>50</td>\n",
       "    </tr>\n",
       "    <tr>\n",
       "      <th>833230</th>\n",
       "      <td>1357109446000000</td>\n",
       "      <td>44</td>\n",
       "      <td>0</td>\n",
       "      <td>None</td>\n",
       "      <td>2013-01-02</td>\n",
       "      <td>3997</td>\n",
       "      <td>D2</td>\n",
       "      <td>0</td>\n",
       "      <td>-6.245917</td>\n",
       "      <td>53.293999</td>\n",
       "      <td>0</td>\n",
       "      <td>44005</td>\n",
       "      <td>28047</td>\n",
       "      <td>0</td>\n",
       "      <td>0</td>\n",
       "      <td>2013-01-02 06:50:46</td>\n",
       "      <td>2</td>\n",
       "      <td>6</td>\n",
       "      <td>50</td>\n",
       "    </tr>\n",
       "    <tr>\n",
       "      <th>833551</th>\n",
       "      <td>1357109458000000</td>\n",
       "      <td>44</td>\n",
       "      <td>0</td>\n",
       "      <td>None</td>\n",
       "      <td>2013-01-02</td>\n",
       "      <td>4260</td>\n",
       "      <td>D2</td>\n",
       "      <td>0</td>\n",
       "      <td>-6.245917</td>\n",
       "      <td>53.293999</td>\n",
       "      <td>0</td>\n",
       "      <td>44005</td>\n",
       "      <td>28047</td>\n",
       "      <td>2825</td>\n",
       "      <td>0</td>\n",
       "      <td>2013-01-02 06:50:58</td>\n",
       "      <td>2</td>\n",
       "      <td>6</td>\n",
       "      <td>50</td>\n",
       "    </tr>\n",
       "    <tr>\n",
       "      <th>833882</th>\n",
       "      <td>1357109468000000</td>\n",
       "      <td>44</td>\n",
       "      <td>0</td>\n",
       "      <td>044B0001</td>\n",
       "      <td>2013-01-02</td>\n",
       "      <td>4260</td>\n",
       "      <td>D2</td>\n",
       "      <td>0</td>\n",
       "      <td>-6.246233</td>\n",
       "      <td>53.292801</td>\n",
       "      <td>0</td>\n",
       "      <td>44005</td>\n",
       "      <td>28047</td>\n",
       "      <td>2825</td>\n",
       "      <td>0</td>\n",
       "      <td>2013-01-02 06:51:08</td>\n",
       "      <td>2</td>\n",
       "      <td>6</td>\n",
       "      <td>51</td>\n",
       "    </tr>\n",
       "    <tr>\n",
       "      <th>834240</th>\n",
       "      <td>1357109485000000</td>\n",
       "      <td>44</td>\n",
       "      <td>0</td>\n",
       "      <td>044B0001</td>\n",
       "      <td>2013-01-02</td>\n",
       "      <td>4260</td>\n",
       "      <td>D2</td>\n",
       "      <td>0</td>\n",
       "      <td>-6.245633</td>\n",
       "      <td>53.291851</td>\n",
       "      <td>0</td>\n",
       "      <td>44005</td>\n",
       "      <td>28047</td>\n",
       "      <td>2825</td>\n",
       "      <td>0</td>\n",
       "      <td>2013-01-02 06:51:25</td>\n",
       "      <td>2</td>\n",
       "      <td>6</td>\n",
       "      <td>51</td>\n",
       "    </tr>\n",
       "    <tr>\n",
       "      <th>835076</th>\n",
       "      <td>1357109519000000</td>\n",
       "      <td>44</td>\n",
       "      <td>0</td>\n",
       "      <td>044B0001</td>\n",
       "      <td>2013-01-02</td>\n",
       "      <td>4260</td>\n",
       "      <td>D2</td>\n",
       "      <td>0</td>\n",
       "      <td>-6.245633</td>\n",
       "      <td>53.291851</td>\n",
       "      <td>0</td>\n",
       "      <td>44005</td>\n",
       "      <td>28047</td>\n",
       "      <td>2828</td>\n",
       "      <td>0</td>\n",
       "      <td>2013-01-02 06:51:59</td>\n",
       "      <td>2</td>\n",
       "      <td>6</td>\n",
       "      <td>51</td>\n",
       "    </tr>\n",
       "    <tr>\n",
       "      <th>835412</th>\n",
       "      <td>1357109526000000</td>\n",
       "      <td>44</td>\n",
       "      <td>0</td>\n",
       "      <td>044B0001</td>\n",
       "      <td>2013-01-02</td>\n",
       "      <td>4260</td>\n",
       "      <td>D2</td>\n",
       "      <td>0</td>\n",
       "      <td>-6.243450</td>\n",
       "      <td>53.289284</td>\n",
       "      <td>0</td>\n",
       "      <td>44005</td>\n",
       "      <td>28047</td>\n",
       "      <td>2828</td>\n",
       "      <td>0</td>\n",
       "      <td>2013-01-02 06:52:06</td>\n",
       "      <td>2</td>\n",
       "      <td>6</td>\n",
       "      <td>52</td>\n",
       "    </tr>\n",
       "    <tr>\n",
       "      <th>835744</th>\n",
       "      <td>1357109546000000</td>\n",
       "      <td>44</td>\n",
       "      <td>0</td>\n",
       "      <td>044B0001</td>\n",
       "      <td>2013-01-02</td>\n",
       "      <td>4260</td>\n",
       "      <td>D2</td>\n",
       "      <td>0</td>\n",
       "      <td>-6.242600</td>\n",
       "      <td>53.288502</td>\n",
       "      <td>0</td>\n",
       "      <td>44005</td>\n",
       "      <td>28047</td>\n",
       "      <td>2828</td>\n",
       "      <td>0</td>\n",
       "      <td>2013-01-02 06:52:26</td>\n",
       "      <td>2</td>\n",
       "      <td>6</td>\n",
       "      <td>52</td>\n",
       "    </tr>\n",
       "    <tr>\n",
       "      <th>836739</th>\n",
       "      <td>1357109580000000</td>\n",
       "      <td>44</td>\n",
       "      <td>0</td>\n",
       "      <td>044B0001</td>\n",
       "      <td>2013-01-02</td>\n",
       "      <td>4260</td>\n",
       "      <td>D2</td>\n",
       "      <td>0</td>\n",
       "      <td>-6.242600</td>\n",
       "      <td>53.288502</td>\n",
       "      <td>0</td>\n",
       "      <td>44005</td>\n",
       "      <td>28047</td>\n",
       "      <td>2831</td>\n",
       "      <td>0</td>\n",
       "      <td>2013-01-02 06:53:00</td>\n",
       "      <td>2</td>\n",
       "      <td>6</td>\n",
       "      <td>53</td>\n",
       "    </tr>\n",
       "    <tr>\n",
       "      <th>836813</th>\n",
       "      <td>1357109585000000</td>\n",
       "      <td>44</td>\n",
       "      <td>0</td>\n",
       "      <td>044B0001</td>\n",
       "      <td>2013-01-02</td>\n",
       "      <td>4260</td>\n",
       "      <td>D2</td>\n",
       "      <td>0</td>\n",
       "      <td>-6.238417</td>\n",
       "      <td>53.285885</td>\n",
       "      <td>0</td>\n",
       "      <td>44005</td>\n",
       "      <td>28047</td>\n",
       "      <td>2831</td>\n",
       "      <td>0</td>\n",
       "      <td>2013-01-02 06:53:05</td>\n",
       "      <td>2</td>\n",
       "      <td>6</td>\n",
       "      <td>53</td>\n",
       "    </tr>\n",
       "    <tr>\n",
       "      <th>837930</th>\n",
       "      <td>1357109627000000</td>\n",
       "      <td>44</td>\n",
       "      <td>0</td>\n",
       "      <td>044B0001</td>\n",
       "      <td>2013-01-02</td>\n",
       "      <td>4260</td>\n",
       "      <td>D2</td>\n",
       "      <td>0</td>\n",
       "      <td>-6.237588</td>\n",
       "      <td>53.284946</td>\n",
       "      <td>110</td>\n",
       "      <td>44005</td>\n",
       "      <td>28047</td>\n",
       "      <td>2828</td>\n",
       "      <td>0</td>\n",
       "      <td>2013-01-02 06:53:47</td>\n",
       "      <td>2</td>\n",
       "      <td>6</td>\n",
       "      <td>53</td>\n",
       "    </tr>\n",
       "    <tr>\n",
       "      <th>838588</th>\n",
       "      <td>1357109646000000</td>\n",
       "      <td>44</td>\n",
       "      <td>0</td>\n",
       "      <td>044B0001</td>\n",
       "      <td>2013-01-02</td>\n",
       "      <td>4260</td>\n",
       "      <td>D2</td>\n",
       "      <td>0</td>\n",
       "      <td>-6.234720</td>\n",
       "      <td>53.283562</td>\n",
       "      <td>110</td>\n",
       "      <td>44005</td>\n",
       "      <td>28047</td>\n",
       "      <td>2829</td>\n",
       "      <td>0</td>\n",
       "      <td>2013-01-02 06:54:06</td>\n",
       "      <td>2</td>\n",
       "      <td>6</td>\n",
       "      <td>54</td>\n",
       "    </tr>\n",
       "    <tr>\n",
       "      <th>839018</th>\n",
       "      <td>1357109664000000</td>\n",
       "      <td>44</td>\n",
       "      <td>0</td>\n",
       "      <td>044B0001</td>\n",
       "      <td>2013-01-02</td>\n",
       "      <td>4260</td>\n",
       "      <td>D2</td>\n",
       "      <td>0</td>\n",
       "      <td>-6.232942</td>\n",
       "      <td>53.281441</td>\n",
       "      <td>110</td>\n",
       "      <td>44005</td>\n",
       "      <td>28047</td>\n",
       "      <td>2830</td>\n",
       "      <td>0</td>\n",
       "      <td>2013-01-02 06:54:24</td>\n",
       "      <td>2</td>\n",
       "      <td>6</td>\n",
       "      <td>54</td>\n",
       "    </tr>\n",
       "  </tbody>\n",
       "</table>\n",
       "</div>"
      ],
      "text/plain": [
       "               Timestamp  LineID  Direction PatternID  TimeFrame  JourneyID  \\\n",
       "828520  1357109254000000      44          0      None 2013-01-02       3997   \n",
       "829863  1357109307000000      44          0      None 2013-01-02       3997   \n",
       "830298  1357109328000000      44          0      None 2013-01-02       3997   \n",
       "830481  1357109336000000      44          0      None 2013-01-02       3997   \n",
       "830851  1357109346000000      44          0      None 2013-01-02       3997   \n",
       "831694  1357109387000000      44          0      None 2013-01-02       3997   \n",
       "831907  1357109397000000      44          0      None 2013-01-02       3997   \n",
       "832331  1357109407000000      44          0      None 2013-01-02       3997   \n",
       "833230  1357109446000000      44          0      None 2013-01-02       3997   \n",
       "833551  1357109458000000      44          0      None 2013-01-02       4260   \n",
       "833882  1357109468000000      44          0  044B0001 2013-01-02       4260   \n",
       "834240  1357109485000000      44          0  044B0001 2013-01-02       4260   \n",
       "835076  1357109519000000      44          0  044B0001 2013-01-02       4260   \n",
       "835412  1357109526000000      44          0  044B0001 2013-01-02       4260   \n",
       "835744  1357109546000000      44          0  044B0001 2013-01-02       4260   \n",
       "836739  1357109580000000      44          0  044B0001 2013-01-02       4260   \n",
       "836813  1357109585000000      44          0  044B0001 2013-01-02       4260   \n",
       "837930  1357109627000000      44          0  044B0001 2013-01-02       4260   \n",
       "838588  1357109646000000      44          0  044B0001 2013-01-02       4260   \n",
       "839018  1357109664000000      44          0  044B0001 2013-01-02       4260   \n",
       "\n",
       "       Operator  Congestion       Lon        Lat  Delay  BlockID  VehicleID  \\\n",
       "828520       D2           0 -6.236850  53.307999      0    44005      28047   \n",
       "829863       D2           0 -6.239767  53.305183      0    44005      28047   \n",
       "830298       D2           0 -6.239767  53.305183      0    44005      28047   \n",
       "830481       D2           0 -6.239767  53.305183      0    44005      28047   \n",
       "830851       D2           0 -6.245650  53.304966      0    44005      28047   \n",
       "831694       D2           0 -6.245800  53.300999      0    44005      28047   \n",
       "831907       D2           0 -6.245800  53.300999      0    44005      28047   \n",
       "832331       D2           0 -6.246500  53.298668      0    44005      28047   \n",
       "833230       D2           0 -6.245917  53.293999      0    44005      28047   \n",
       "833551       D2           0 -6.245917  53.293999      0    44005      28047   \n",
       "833882       D2           0 -6.246233  53.292801      0    44005      28047   \n",
       "834240       D2           0 -6.245633  53.291851      0    44005      28047   \n",
       "835076       D2           0 -6.245633  53.291851      0    44005      28047   \n",
       "835412       D2           0 -6.243450  53.289284      0    44005      28047   \n",
       "835744       D2           0 -6.242600  53.288502      0    44005      28047   \n",
       "836739       D2           0 -6.242600  53.288502      0    44005      28047   \n",
       "836813       D2           0 -6.238417  53.285885      0    44005      28047   \n",
       "837930       D2           0 -6.237588  53.284946    110    44005      28047   \n",
       "838588       D2           0 -6.234720  53.283562    110    44005      28047   \n",
       "839018       D2           0 -6.232942  53.281441    110    44005      28047   \n",
       "\n",
       "        StopID  AtStop            DateTime  Day  Hour  Minute  \n",
       "828520       0       0 2013-01-02 06:47:34    2     6      47  \n",
       "829863       0       0 2013-01-02 06:48:27    2     6      48  \n",
       "830298       0       0 2013-01-02 06:48:48    2     6      48  \n",
       "830481       0       0 2013-01-02 06:48:56    2     6      48  \n",
       "830851       0       0 2013-01-02 06:49:06    2     6      49  \n",
       "831694       0       0 2013-01-02 06:49:47    2     6      49  \n",
       "831907       0       0 2013-01-02 06:49:57    2     6      49  \n",
       "832331       0       0 2013-01-02 06:50:07    2     6      50  \n",
       "833230       0       0 2013-01-02 06:50:46    2     6      50  \n",
       "833551    2825       0 2013-01-02 06:50:58    2     6      50  \n",
       "833882    2825       0 2013-01-02 06:51:08    2     6      51  \n",
       "834240    2825       0 2013-01-02 06:51:25    2     6      51  \n",
       "835076    2828       0 2013-01-02 06:51:59    2     6      51  \n",
       "835412    2828       0 2013-01-02 06:52:06    2     6      52  \n",
       "835744    2828       0 2013-01-02 06:52:26    2     6      52  \n",
       "836739    2831       0 2013-01-02 06:53:00    2     6      53  \n",
       "836813    2831       0 2013-01-02 06:53:05    2     6      53  \n",
       "837930    2828       0 2013-01-02 06:53:47    2     6      53  \n",
       "838588    2829       0 2013-01-02 06:54:06    2     6      54  \n",
       "839018    2830       0 2013-01-02 06:54:24    2     6      54  "
      ]
     },
     "execution_count": 11,
     "metadata": {},
     "output_type": "execute_result"
    }
   ],
   "source": [
    "df.sort_values(by=['VehicleID', 'Timestamp']).head(20)"
   ]
  },
  {
   "cell_type": "code",
   "execution_count": 12,
   "metadata": {},
   "outputs": [
    {
     "data": {
      "text/html": [
       "<div>\n",
       "<style scoped>\n",
       "    .dataframe tbody tr th:only-of-type {\n",
       "        vertical-align: middle;\n",
       "    }\n",
       "\n",
       "    .dataframe tbody tr th {\n",
       "        vertical-align: top;\n",
       "    }\n",
       "\n",
       "    .dataframe thead th {\n",
       "        text-align: right;\n",
       "    }\n",
       "</style>\n",
       "<table border=\"1\" class=\"dataframe\">\n",
       "  <thead>\n",
       "    <tr style=\"text-align: right;\">\n",
       "      <th></th>\n",
       "      <th>Timestamp</th>\n",
       "      <th>LineID</th>\n",
       "      <th>Direction</th>\n",
       "      <th>JourneyID</th>\n",
       "      <th>Congestion</th>\n",
       "      <th>Lon</th>\n",
       "      <th>Lat</th>\n",
       "      <th>Delay</th>\n",
       "      <th>BlockID</th>\n",
       "      <th>VehicleID</th>\n",
       "      <th>StopID</th>\n",
       "      <th>AtStop</th>\n",
       "      <th>Day</th>\n",
       "      <th>Hour</th>\n",
       "      <th>Minute</th>\n",
       "    </tr>\n",
       "  </thead>\n",
       "  <tbody>\n",
       "    <tr>\n",
       "      <th>count</th>\n",
       "      <td>4.445513e+07</td>\n",
       "      <td>4.445513e+07</td>\n",
       "      <td>44455133.0</td>\n",
       "      <td>4.445513e+07</td>\n",
       "      <td>4.445513e+07</td>\n",
       "      <td>4.445513e+07</td>\n",
       "      <td>4.445513e+07</td>\n",
       "      <td>4.445513e+07</td>\n",
       "      <td>4.445513e+07</td>\n",
       "      <td>4.445513e+07</td>\n",
       "      <td>4.445513e+07</td>\n",
       "      <td>4.445513e+07</td>\n",
       "      <td>4.445513e+07</td>\n",
       "      <td>4.445513e+07</td>\n",
       "      <td>4.445513e+07</td>\n",
       "    </tr>\n",
       "    <tr>\n",
       "      <th>mean</th>\n",
       "      <td>1.358318e+15</td>\n",
       "      <td>7.796518e+01</td>\n",
       "      <td>0.0</td>\n",
       "      <td>9.417119e+03</td>\n",
       "      <td>1.163260e-02</td>\n",
       "      <td>-6.272803e+00</td>\n",
       "      <td>5.334513e+01</td>\n",
       "      <td>-2.668891e-01</td>\n",
       "      <td>1.092438e+05</td>\n",
       "      <td>3.542925e+04</td>\n",
       "      <td>2.634347e+03</td>\n",
       "      <td>2.335773e-01</td>\n",
       "      <td>1.567200e+01</td>\n",
       "      <td>1.388823e+01</td>\n",
       "      <td>2.946707e+01</td>\n",
       "    </tr>\n",
       "    <tr>\n",
       "      <th>std</th>\n",
       "      <td>7.394928e+11</td>\n",
       "      <td>1.146405e+02</td>\n",
       "      <td>0.0</td>\n",
       "      <td>6.159842e+04</td>\n",
       "      <td>1.072254e-01</td>\n",
       "      <td>8.389026e-02</td>\n",
       "      <td>5.488355e-02</td>\n",
       "      <td>6.585882e+01</td>\n",
       "      <td>1.921244e+05</td>\n",
       "      <td>3.281093e+03</td>\n",
       "      <td>2.236428e+03</td>\n",
       "      <td>4.231063e-01</td>\n",
       "      <td>8.563509e+00</td>\n",
       "      <td>4.921609e+00</td>\n",
       "      <td>1.729009e+01</td>\n",
       "    </tr>\n",
       "    <tr>\n",
       "      <th>min</th>\n",
       "      <td>1.356998e+15</td>\n",
       "      <td>0.000000e+00</td>\n",
       "      <td>0.0</td>\n",
       "      <td>1.000000e+00</td>\n",
       "      <td>0.000000e+00</td>\n",
       "      <td>-6.617517e+00</td>\n",
       "      <td>5.306802e+01</td>\n",
       "      <td>-1.280000e+02</td>\n",
       "      <td>3.900000e+02</td>\n",
       "      <td>2.804700e+04</td>\n",
       "      <td>0.000000e+00</td>\n",
       "      <td>0.000000e+00</td>\n",
       "      <td>1.000000e+00</td>\n",
       "      <td>0.000000e+00</td>\n",
       "      <td>0.000000e+00</td>\n",
       "    </tr>\n",
       "    <tr>\n",
       "      <th>25%</th>\n",
       "      <td>1.357679e+15</td>\n",
       "      <td>2.500000e+01</td>\n",
       "      <td>0.0</td>\n",
       "      <td>2.536000e+03</td>\n",
       "      <td>0.000000e+00</td>\n",
       "      <td>-6.308650e+00</td>\n",
       "      <td>5.332005e+01</td>\n",
       "      <td>-4.800000e+01</td>\n",
       "      <td>1.602000e+04</td>\n",
       "      <td>3.330800e+04</td>\n",
       "      <td>7.560000e+02</td>\n",
       "      <td>0.000000e+00</td>\n",
       "      <td>8.000000e+00</td>\n",
       "      <td>1.000000e+01</td>\n",
       "      <td>1.500000e+01</td>\n",
       "    </tr>\n",
       "    <tr>\n",
       "      <th>50%</th>\n",
       "      <td>1.358327e+15</td>\n",
       "      <td>4.000000e+01</td>\n",
       "      <td>0.0</td>\n",
       "      <td>4.718000e+03</td>\n",
       "      <td>0.000000e+00</td>\n",
       "      <td>-6.261600e+00</td>\n",
       "      <td>5.334645e+01</td>\n",
       "      <td>0.000000e+00</td>\n",
       "      <td>4.020500e+04</td>\n",
       "      <td>3.352500e+04</td>\n",
       "      <td>2.030000e+03</td>\n",
       "      <td>0.000000e+00</td>\n",
       "      <td>1.600000e+01</td>\n",
       "      <td>1.400000e+01</td>\n",
       "      <td>2.900000e+01</td>\n",
       "    </tr>\n",
       "    <tr>\n",
       "      <th>75%</th>\n",
       "      <td>1.358955e+15</td>\n",
       "      <td>8.300000e+01</td>\n",
       "      <td>0.0</td>\n",
       "      <td>6.769000e+03</td>\n",
       "      <td>0.000000e+00</td>\n",
       "      <td>-6.233166e+00</td>\n",
       "      <td>5.337533e+01</td>\n",
       "      <td>4.700000e+01</td>\n",
       "      <td>8.400400e+04</td>\n",
       "      <td>3.802500e+04</td>\n",
       "      <td>4.384000e+03</td>\n",
       "      <td>0.000000e+00</td>\n",
       "      <td>2.300000e+01</td>\n",
       "      <td>1.800000e+01</td>\n",
       "      <td>4.400000e+01</td>\n",
       "    </tr>\n",
       "    <tr>\n",
       "      <th>max</th>\n",
       "      <td>1.359633e+15</td>\n",
       "      <td>7.470000e+02</td>\n",
       "      <td>0.0</td>\n",
       "      <td>9.998560e+05</td>\n",
       "      <td>1.000000e+00</td>\n",
       "      <td>-6.052917e+00</td>\n",
       "      <td>5.360873e+01</td>\n",
       "      <td>1.270000e+02</td>\n",
       "      <td>8.350020e+05</td>\n",
       "      <td>4.307800e+04</td>\n",
       "      <td>7.552000e+03</td>\n",
       "      <td>1.000000e+00</td>\n",
       "      <td>3.100000e+01</td>\n",
       "      <td>2.300000e+01</td>\n",
       "      <td>5.900000e+01</td>\n",
       "    </tr>\n",
       "  </tbody>\n",
       "</table>\n",
       "</div>"
      ],
      "text/plain": [
       "          Timestamp        LineID   Direction     JourneyID    Congestion  \\\n",
       "count  4.445513e+07  4.445513e+07  44455133.0  4.445513e+07  4.445513e+07   \n",
       "mean   1.358318e+15  7.796518e+01         0.0  9.417119e+03  1.163260e-02   \n",
       "std    7.394928e+11  1.146405e+02         0.0  6.159842e+04  1.072254e-01   \n",
       "min    1.356998e+15  0.000000e+00         0.0  1.000000e+00  0.000000e+00   \n",
       "25%    1.357679e+15  2.500000e+01         0.0  2.536000e+03  0.000000e+00   \n",
       "50%    1.358327e+15  4.000000e+01         0.0  4.718000e+03  0.000000e+00   \n",
       "75%    1.358955e+15  8.300000e+01         0.0  6.769000e+03  0.000000e+00   \n",
       "max    1.359633e+15  7.470000e+02         0.0  9.998560e+05  1.000000e+00   \n",
       "\n",
       "                Lon           Lat         Delay       BlockID     VehicleID  \\\n",
       "count  4.445513e+07  4.445513e+07  4.445513e+07  4.445513e+07  4.445513e+07   \n",
       "mean  -6.272803e+00  5.334513e+01 -2.668891e-01  1.092438e+05  3.542925e+04   \n",
       "std    8.389026e-02  5.488355e-02  6.585882e+01  1.921244e+05  3.281093e+03   \n",
       "min   -6.617517e+00  5.306802e+01 -1.280000e+02  3.900000e+02  2.804700e+04   \n",
       "25%   -6.308650e+00  5.332005e+01 -4.800000e+01  1.602000e+04  3.330800e+04   \n",
       "50%   -6.261600e+00  5.334645e+01  0.000000e+00  4.020500e+04  3.352500e+04   \n",
       "75%   -6.233166e+00  5.337533e+01  4.700000e+01  8.400400e+04  3.802500e+04   \n",
       "max   -6.052917e+00  5.360873e+01  1.270000e+02  8.350020e+05  4.307800e+04   \n",
       "\n",
       "             StopID        AtStop           Day          Hour        Minute  \n",
       "count  4.445513e+07  4.445513e+07  4.445513e+07  4.445513e+07  4.445513e+07  \n",
       "mean   2.634347e+03  2.335773e-01  1.567200e+01  1.388823e+01  2.946707e+01  \n",
       "std    2.236428e+03  4.231063e-01  8.563509e+00  4.921609e+00  1.729009e+01  \n",
       "min    0.000000e+00  0.000000e+00  1.000000e+00  0.000000e+00  0.000000e+00  \n",
       "25%    7.560000e+02  0.000000e+00  8.000000e+00  1.000000e+01  1.500000e+01  \n",
       "50%    2.030000e+03  0.000000e+00  1.600000e+01  1.400000e+01  2.900000e+01  \n",
       "75%    4.384000e+03  0.000000e+00  2.300000e+01  1.800000e+01  4.400000e+01  \n",
       "max    7.552000e+03  1.000000e+00  3.100000e+01  2.300000e+01  5.900000e+01  "
      ]
     },
     "execution_count": 12,
     "metadata": {},
     "output_type": "execute_result"
    }
   ],
   "source": [
    "df.describe()"
   ]
  },
  {
   "cell_type": "code",
   "execution_count": null,
   "metadata": {},
   "outputs": [],
   "source": []
  },
  {
   "cell_type": "code",
   "execution_count": 13,
   "metadata": {},
   "outputs": [
    {
     "data": {
      "text/plain": [
       "array([ 44,  63,  59, 111,  14,  46,  75, 451,  17,  27,  56,  15,   1,\n",
       "        49, 150,  65,   0, 271,  83,  67,  25, 122,  38, 120,  66,   9,\n",
       "        39, 220,  37,  40,  13,  32, 130,  31,  29,  42,  53, 142, 171,\n",
       "       238, 272,  41, 332,  33, 140, 102,  18, 114, 145, 118,   4,  84,\n",
       "         7,  11,  54, 116,  79, 151,  76,  68,  51,  16, 747, 123, 331,\n",
       "       104,  86])"
      ]
     },
     "execution_count": 13,
     "metadata": {},
     "output_type": "execute_result"
    }
   ],
   "source": [
    "df['LineID'].unique()"
   ]
  },
  {
   "cell_type": "code",
   "execution_count": null,
   "metadata": {},
   "outputs": [],
   "source": []
  },
  {
   "cell_type": "markdown",
   "metadata": {},
   "source": [
    "## Calculate the Time and Distance Between Consecutive Points\n",
    "The distance between consecutive points will first be approximated by the geodesic distance using the [haversine formula](https://en.wikipedia.org/wiki/Haversine_formula). See also [here](https://www.movable-type.co.uk/scripts/latlong.html)."
   ]
  },
  {
   "cell_type": "markdown",
   "metadata": {},
   "source": [
    "Calculations are performed on a per vehicle basis, with records sorted in ascending order by timeframe."
   ]
  },
  {
   "cell_type": "code",
   "execution_count": 14,
   "metadata": {},
   "outputs": [],
   "source": [
    "vehicles = df['VehicleID']"
   ]
  },
  {
   "cell_type": "code",
   "execution_count": null,
   "metadata": {},
   "outputs": [],
   "source": []
  },
  {
   "cell_type": "code",
   "execution_count": 15,
   "metadata": {},
   "outputs": [],
   "source": [
    "\n",
    "df['dt'] = df['Timestamp'].diff()\n",
    "df['dt'] = df['dt'].fillna(value=0.0)\n",
    "df['dt'] = df['dt'] / 1000000"
   ]
  },
  {
   "cell_type": "code",
   "execution_count": 16,
   "metadata": {},
   "outputs": [
    {
     "data": {
      "text/html": [
       "<div>\n",
       "<style scoped>\n",
       "    .dataframe tbody tr th:only-of-type {\n",
       "        vertical-align: middle;\n",
       "    }\n",
       "\n",
       "    .dataframe tbody tr th {\n",
       "        vertical-align: top;\n",
       "    }\n",
       "\n",
       "    .dataframe thead th {\n",
       "        text-align: right;\n",
       "    }\n",
       "</style>\n",
       "<table border=\"1\" class=\"dataframe\">\n",
       "  <thead>\n",
       "    <tr style=\"text-align: right;\">\n",
       "      <th></th>\n",
       "      <th>Timestamp</th>\n",
       "      <th>LineID</th>\n",
       "      <th>Direction</th>\n",
       "      <th>PatternID</th>\n",
       "      <th>TimeFrame</th>\n",
       "      <th>JourneyID</th>\n",
       "      <th>Operator</th>\n",
       "      <th>Congestion</th>\n",
       "      <th>Lon</th>\n",
       "      <th>Lat</th>\n",
       "      <th>...</th>\n",
       "      <th>BlockID</th>\n",
       "      <th>VehicleID</th>\n",
       "      <th>StopID</th>\n",
       "      <th>AtStop</th>\n",
       "      <th>DateTime</th>\n",
       "      <th>Day</th>\n",
       "      <th>Hour</th>\n",
       "      <th>Minute</th>\n",
       "      <th>dx</th>\n",
       "      <th>dt</th>\n",
       "    </tr>\n",
       "  </thead>\n",
       "  <tbody>\n",
       "    <tr>\n",
       "      <th>828520</th>\n",
       "      <td>1357109254000000</td>\n",
       "      <td>44</td>\n",
       "      <td>0</td>\n",
       "      <td>None</td>\n",
       "      <td>2013-01-02</td>\n",
       "      <td>3997</td>\n",
       "      <td>D2</td>\n",
       "      <td>0</td>\n",
       "      <td>-6.236850</td>\n",
       "      <td>53.307999</td>\n",
       "      <td>...</td>\n",
       "      <td>44005</td>\n",
       "      <td>28047</td>\n",
       "      <td>0</td>\n",
       "      <td>0</td>\n",
       "      <td>2013-01-02 06:47:34</td>\n",
       "      <td>2</td>\n",
       "      <td>6</td>\n",
       "      <td>47</td>\n",
       "      <td>0.0</td>\n",
       "      <td>0.0</td>\n",
       "    </tr>\n",
       "    <tr>\n",
       "      <th>829863</th>\n",
       "      <td>1357109307000000</td>\n",
       "      <td>44</td>\n",
       "      <td>0</td>\n",
       "      <td>None</td>\n",
       "      <td>2013-01-02</td>\n",
       "      <td>3997</td>\n",
       "      <td>D2</td>\n",
       "      <td>0</td>\n",
       "      <td>-6.239767</td>\n",
       "      <td>53.305183</td>\n",
       "      <td>...</td>\n",
       "      <td>44005</td>\n",
       "      <td>28047</td>\n",
       "      <td>0</td>\n",
       "      <td>0</td>\n",
       "      <td>2013-01-02 06:48:27</td>\n",
       "      <td>2</td>\n",
       "      <td>6</td>\n",
       "      <td>48</td>\n",
       "      <td>0.0</td>\n",
       "      <td>53.0</td>\n",
       "    </tr>\n",
       "    <tr>\n",
       "      <th>830298</th>\n",
       "      <td>1357109328000000</td>\n",
       "      <td>44</td>\n",
       "      <td>0</td>\n",
       "      <td>None</td>\n",
       "      <td>2013-01-02</td>\n",
       "      <td>3997</td>\n",
       "      <td>D2</td>\n",
       "      <td>0</td>\n",
       "      <td>-6.239767</td>\n",
       "      <td>53.305183</td>\n",
       "      <td>...</td>\n",
       "      <td>44005</td>\n",
       "      <td>28047</td>\n",
       "      <td>0</td>\n",
       "      <td>0</td>\n",
       "      <td>2013-01-02 06:48:48</td>\n",
       "      <td>2</td>\n",
       "      <td>6</td>\n",
       "      <td>48</td>\n",
       "      <td>0.0</td>\n",
       "      <td>21.0</td>\n",
       "    </tr>\n",
       "    <tr>\n",
       "      <th>830481</th>\n",
       "      <td>1357109336000000</td>\n",
       "      <td>44</td>\n",
       "      <td>0</td>\n",
       "      <td>None</td>\n",
       "      <td>2013-01-02</td>\n",
       "      <td>3997</td>\n",
       "      <td>D2</td>\n",
       "      <td>0</td>\n",
       "      <td>-6.239767</td>\n",
       "      <td>53.305183</td>\n",
       "      <td>...</td>\n",
       "      <td>44005</td>\n",
       "      <td>28047</td>\n",
       "      <td>0</td>\n",
       "      <td>0</td>\n",
       "      <td>2013-01-02 06:48:56</td>\n",
       "      <td>2</td>\n",
       "      <td>6</td>\n",
       "      <td>48</td>\n",
       "      <td>0.0</td>\n",
       "      <td>8.0</td>\n",
       "    </tr>\n",
       "    <tr>\n",
       "      <th>830851</th>\n",
       "      <td>1357109346000000</td>\n",
       "      <td>44</td>\n",
       "      <td>0</td>\n",
       "      <td>None</td>\n",
       "      <td>2013-01-02</td>\n",
       "      <td>3997</td>\n",
       "      <td>D2</td>\n",
       "      <td>0</td>\n",
       "      <td>-6.245650</td>\n",
       "      <td>53.304966</td>\n",
       "      <td>...</td>\n",
       "      <td>44005</td>\n",
       "      <td>28047</td>\n",
       "      <td>0</td>\n",
       "      <td>0</td>\n",
       "      <td>2013-01-02 06:49:06</td>\n",
       "      <td>2</td>\n",
       "      <td>6</td>\n",
       "      <td>49</td>\n",
       "      <td>0.0</td>\n",
       "      <td>10.0</td>\n",
       "    </tr>\n",
       "  </tbody>\n",
       "</table>\n",
       "<p>5 rows × 21 columns</p>\n",
       "</div>"
      ],
      "text/plain": [
       "               Timestamp  LineID  Direction PatternID  TimeFrame  JourneyID  \\\n",
       "828520  1357109254000000      44          0      None 2013-01-02       3997   \n",
       "829863  1357109307000000      44          0      None 2013-01-02       3997   \n",
       "830298  1357109328000000      44          0      None 2013-01-02       3997   \n",
       "830481  1357109336000000      44          0      None 2013-01-02       3997   \n",
       "830851  1357109346000000      44          0      None 2013-01-02       3997   \n",
       "\n",
       "       Operator  Congestion       Lon        Lat  ...  BlockID  VehicleID  \\\n",
       "828520       D2           0 -6.236850  53.307999  ...    44005      28047   \n",
       "829863       D2           0 -6.239767  53.305183  ...    44005      28047   \n",
       "830298       D2           0 -6.239767  53.305183  ...    44005      28047   \n",
       "830481       D2           0 -6.239767  53.305183  ...    44005      28047   \n",
       "830851       D2           0 -6.245650  53.304966  ...    44005      28047   \n",
       "\n",
       "        StopID  AtStop            DateTime Day  Hour  Minute   dx    dt  \n",
       "828520       0       0 2013-01-02 06:47:34   2     6      47  0.0   0.0  \n",
       "829863       0       0 2013-01-02 06:48:27   2     6      48  0.0  53.0  \n",
       "830298       0       0 2013-01-02 06:48:48   2     6      48  0.0  21.0  \n",
       "830481       0       0 2013-01-02 06:48:56   2     6      48  0.0   8.0  \n",
       "830851       0       0 2013-01-02 06:49:06   2     6      49  0.0  10.0  \n",
       "\n",
       "[5 rows x 21 columns]"
      ]
     },
     "execution_count": 16,
     "metadata": {},
     "output_type": "execute_result"
    }
   ],
   "source": [
    "df.head()"
   ]
  },
  {
   "cell_type": "code",
   "execution_count": 17,
   "metadata": {},
   "outputs": [],
   "source": [
    "df['dx'] = 0.0\n",
    "lat0 = df['Lat'][:-1].to_numpy()\n",
    "lon0 = df['Lon'][:-1].to_numpy()\n",
    "lat1 = df['Lat'][1:].to_numpy()\n",
    "lon1 = df['Lon'][1:].to_numpy()\n",
    "dist = vec_haversine(lat0, lon0, lat1, lon1)\n",
    "df['dx'] = np.insert(dist, 0, 0.0)"
   ]
  },
  {
   "cell_type": "code",
   "execution_count": 18,
   "metadata": {},
   "outputs": [
    {
     "data": {
      "text/plain": [
       "(44455132,)"
      ]
     },
     "execution_count": 18,
     "metadata": {},
     "output_type": "execute_result"
    }
   ],
   "source": [
    "dist.shape"
   ]
  },
  {
   "cell_type": "code",
   "execution_count": 19,
   "metadata": {},
   "outputs": [
    {
     "data": {
      "text/plain": [
       "((44455132,), (44455132,), (44455132,), (44455132,))"
      ]
     },
     "execution_count": 19,
     "metadata": {},
     "output_type": "execute_result"
    }
   ],
   "source": [
    "lat0.shape, lon1.shape, lat1.shape, lon1.shape"
   ]
  },
  {
   "cell_type": "code",
   "execution_count": null,
   "metadata": {},
   "outputs": [],
   "source": []
  },
  {
   "cell_type": "code",
   "execution_count": 20,
   "metadata": {},
   "outputs": [
    {
     "data": {
      "text/plain": [
       "(44455132,)"
      ]
     },
     "execution_count": 20,
     "metadata": {},
     "output_type": "execute_result"
    }
   ],
   "source": [
    "dist.shape"
   ]
  },
  {
   "cell_type": "code",
   "execution_count": 21,
   "metadata": {},
   "outputs": [
    {
     "data": {
      "text/plain": [
       "(44455133, 21)"
      ]
     },
     "execution_count": 21,
     "metadata": {},
     "output_type": "execute_result"
    }
   ],
   "source": [
    "df.shape"
   ]
  },
  {
   "cell_type": "code",
   "execution_count": 22,
   "metadata": {},
   "outputs": [
    {
     "data": {
      "text/plain": [
       "(44455132,)"
      ]
     },
     "execution_count": 22,
     "metadata": {},
     "output_type": "execute_result"
    }
   ],
   "source": [
    "lon1.shape"
   ]
  },
  {
   "cell_type": "code",
   "execution_count": null,
   "metadata": {},
   "outputs": [],
   "source": []
  },
  {
   "cell_type": "code",
   "execution_count": null,
   "metadata": {},
   "outputs": [],
   "source": []
  },
  {
   "cell_type": "markdown",
   "metadata": {},
   "source": [
    "Here we set the `dx` column to the calculated distances, making sure that we keep the appropriate dimension. The vehicle transitions are reset to zero using a very simple trick. The `vehicles` series contains the sequence of vehicle identifiers in the same order as in the base data frame. When the difference of two sequential vehicle identifiers is not zero, we are at a border between different vehicle identifiers. Here we can safely set the differences to zero."
   ]
  },
  {
   "cell_type": "code",
   "execution_count": 23,
   "metadata": {},
   "outputs": [],
   "source": [
    "df.loc[vehicles.diff() != 0, ['dx', 'dt']] = 0.0"
   ]
  },
  {
   "cell_type": "code",
   "execution_count": 24,
   "metadata": {},
   "outputs": [],
   "source": [
    "unique_vehicles = df['VehicleID'].unique()"
   ]
  },
  {
   "cell_type": "code",
   "execution_count": 49,
   "metadata": {},
   "outputs": [],
   "source": [
    "# df[df['VehicleID'] == unique_vehicles[10]].head(20)"
   ]
  },
  {
   "cell_type": "code",
   "execution_count": 26,
   "metadata": {},
   "outputs": [],
   "source": [
    "def naive_speed(row):\n",
    "    if row['dt'] == 0.0:\n",
    "        return 0.0\n",
    "    else:\n",
    "        return row['dx'] / row['dt'] * 3.6"
   ]
  },
  {
   "cell_type": "code",
   "execution_count": 32,
   "metadata": {},
   "outputs": [],
   "source": []
  },
  {
   "cell_type": "code",
   "execution_count": 35,
   "metadata": {},
   "outputs": [],
   "source": [
    "df['v'] = 0.0\n",
    "dx = df['dx'].to_numpy()\n",
    "dt = df['dt'].to_numpy()\n",
    "v = np.zeros_like(dx)\n",
    "zi = dt > 0\n",
    "v[zi] = dx[zi] / dt[zi] * 3.6\n",
    "df['v'] = v"
   ]
  },
  {
   "cell_type": "code",
   "execution_count": 36,
   "metadata": {},
   "outputs": [],
   "source": []
  },
  {
   "cell_type": "code",
   "execution_count": 42,
   "metadata": {},
   "outputs": [],
   "source": []
  },
  {
   "cell_type": "code",
   "execution_count": 43,
   "metadata": {},
   "outputs": [],
   "source": []
  },
  {
   "cell_type": "code",
   "execution_count": 55,
   "metadata": {},
   "outputs": [
    {
     "data": {
      "text/plain": [
       "<matplotlib.axes._subplots.AxesSubplot at 0x14b9bf550>"
      ]
     },
     "execution_count": 55,
     "metadata": {},
     "output_type": "execute_result"
    },
    {
     "data": {
      "image/png": "[encoded data removed]",
      "text/plain": [
       "<Figure size 432x432 with 1 Axes>"
      ]
     },
     "metadata": {
      "needs_background": "light"
     },
     "output_type": "display_data"
    }
   ],
   "source": [
    "%matplotlib inline\n",
    "df.boxplot(['v'], figsize=(6,6))"
   ]
  },
  {
   "cell_type": "code",
   "execution_count": 56,
   "metadata": {},
   "outputs": [],
   "source": [
    "# df['v'].plot.kde()"
   ]
  },
  {
   "cell_type": "code",
   "execution_count": null,
   "metadata": {},
   "outputs": [],
   "source": []
  },
  {
   "cell_type": "code",
   "execution_count": 62,
   "metadata": {},
   "outputs": [
    {
     "data": {
      "text/plain": [
       "(402278, 22)"
      ]
     },
     "execution_count": 62,
     "metadata": {},
     "output_type": "execute_result"
    }
   ],
   "source": [
    "df[df['v'] > 120].shape"
   ]
  },
  {
   "cell_type": "code",
   "execution_count": 138,
   "metadata": {},
   "outputs": [],
   "source": [
    "vt = df.loc[(df['VehicleID'] == 43055) & (df['Day'] == 2) & (df['Hour'] == 16),['Timestamp', 'dt', 'Lat', 'Lon', 'dx']].sort_values(['Timestamp'])"
   ]
  },
  {
   "cell_type": "code",
   "execution_count": 139,
   "metadata": {},
   "outputs": [],
   "source": [
    "vt.to_csv(\"data/43055.csv\", index=False)"
   ]
  },
  {
   "cell_type": "code",
   "execution_count": null,
   "metadata": {},
   "outputs": [],
   "source": []
  },
  {
   "cell_type": "code",
   "execution_count": 130,
   "metadata": {},
   "outputs": [],
   "source": [
    "import folium"
   ]
  },
  {
   "cell_type": "code",
   "execution_count": 131,
   "metadata": {},
   "outputs": [],
   "source": [
    "points = list(zip(vt['Lat'].to_numpy(), vt['Lon'].to_numpy()))"
   ]
  },
  {
   "cell_type": "code",
   "execution_count": null,
   "metadata": {},
   "outputs": [],
   "source": []
  },
  {
   "cell_type": "code",
   "execution_count": 132,
   "metadata": {},
   "outputs": [],
   "source": [
    "map = folium.Map()"
   ]
  },
  {
   "cell_type": "code",
   "execution_count": 133,
   "metadata": {},
   "outputs": [],
   "source": [
    "polyline = folium.vector_layers.PolyLine(points)"
   ]
  },
  {
   "cell_type": "code",
   "execution_count": 134,
   "metadata": {},
   "outputs": [],
   "source": [
    "map.fit_bounds(points)"
   ]
  },
  {
   "cell_type": "code",
   "execution_count": 135,
   "metadata": {},
   "outputs": [],
   "source": [
    "# polyline.add_to(map)"
   ]
  },
  {
   "cell_type": "code",
   "execution_count": 136,
   "metadata": {},
   "outputs": [],
   "source": [
    "for p in points:\n",
    "    folium.map.Marker(p).add_to(map)"
   ]
  },
  {
   "cell_type": "code",
   "execution_count": 137,
   "metadata": {},
   "outputs": [
    {
     "data": {
      "text/html": [
       "<div style=\"width:100%;\"><div style=\"position:relative;width:100%;height:0;padding-bottom:60%;\"><iframe src=\"data:text/html;charset=utf-8;base64,PCFET0NUWVBFIGh0bWw+CjxoZWFkPiAgICAKICAgIDxtZXRhIGh0dHAtZXF1aXY9ImNvbnRlbnQtdHlwZSIgY29udGVudD0idGV4dC9odG1sOyBjaGFyc2V0PVVURi04IiAvPgogICAgCiAgICAgICAgPHNjcmlwdD4KICAgICAgICAgICAgTF9OT19UT1VDSCA9IGZhbHNlOwogICAgICAgICAgICBMX0RJU0FCTEVfM0QgPSBmYWxzZTsKICAgICAgICA8L3NjcmlwdD4KICAgIAogICAgPHNjcmlwdCBzcmM9Imh0dHBzOi8vY2RuLmpzZGVsaXZyLm5ldC9ucG0vbGVhZmxldEAxLjQuMC9kaXN0L2xlYWZsZXQuanMiPjwvc2NyaXB0PgogICAgPHNjcmlwdCBzcmM9Imh0dHBzOi8vY29kZS5qcXVlcnkuY29tL2pxdWVyeS0xLjEyLjQubWluLmpzIj48L3NjcmlwdD4KICAgIDxzY3JpcHQgc3JjPSJodHRwczovL21heGNkbi5ib290c3RyYXBjZG4uY29tL2Jvb3RzdHJhcC8zLjIuMC9qcy9ib290c3RyYXAubWluLmpzIj48L3NjcmlwdD4KICAgIDxzY3JpcHQgc3JjPSJodHRwczovL2NkbmpzLmNsb3VkZmxhcmUuY29tL2FqYXgvbGlicy9MZWFmbGV0LmF3ZXNvbWUtbWFya2Vycy8yLjAuMi9sZWFmbGV0LmF3ZXNvbWUtbWFya2Vycy5qcyI+PC9zY3JpcHQ+CiAgICA8bGluayByZWw9InN0eWxlc2hlZXQiIGhyZWY9Imh0dHBzOi8vY2RuLmpzZGVsaXZyLm5ldC9ucG0vbGVhZmxldEAxLjQuMC9kaXN0L2xlYWZsZXQuY3NzIi8+CiAgICA8bGluayByZWw9InN0eWxlc2hlZXQiIGhyZWY9Imh0dHBzOi8vbWF4Y2RuLmJvb3RzdHJhcGNkbi5jb20vYm9vdHN0cmFwLzMuMi4wL2Nzcy9ib290c3RyYXAubWluLmNzcyIvPgogICAgPGxpbmsgcmVsPSJzdHlsZXNoZWV0IiBocmVmPSJodHRwczovL21heGNkbi5ib290c3RyYXBjZG4uY29tL2Jvb3RzdHJhcC8zLjIuMC9jc3MvYm9vdHN0cmFwLXRoZW1lLm1pbi5jc3MiLz4KICAgIDxsaW5rIHJlbD0ic3R5bGVzaGVldCIgaHJlZj0iaHR0cHM6Ly9tYXhjZG4uYm9vdHN0cmFwY2RuLmNvbS9mb250LWF3ZXNvbWUvNC42LjMvY3NzL2ZvbnQtYXdlc29tZS5taW4uY3NzIi8+CiAgICA8bGluayByZWw9InN0eWxlc2hlZXQiIGhyZWY9Imh0dHBzOi8vY2RuanMuY2xvdWRmbGFyZS5jb20vYWpheC9saWJzL0xlYWZsZXQuYXdlc29tZS1tYXJrZXJzLzIuMC4yL2xlYWZsZXQuYXdlc29tZS1tYXJrZXJzLmNzcyIvPgogICAgPGxpbmsgcmVsPSJzdHlsZXNoZWV0IiBocmVmPSJodHRwczovL3Jhd2Nkbi5naXRoYWNrLmNvbS9weXRob24tdmlzdWFsaXphdGlvbi9mb2xpdW0vbWFzdGVyL2ZvbGl1bS90ZW1wbGF0ZXMvbGVhZmxldC5hd2Vzb21lLnJvdGF0ZS5jc3MiLz4KICAgIDxzdHlsZT5odG1sLCBib2R5IHt3aWR0aDogMTAwJTtoZWlnaHQ6IDEwMCU7bWFyZ2luOiAwO3BhZGRpbmc6IDA7fTwvc3R5bGU+CiAgICA8c3R5bGU+I21hcCB7cG9zaXRpb246YWJzb2x1dGU7dG9wOjA7Ym90dG9tOjA7cmlnaHQ6MDtsZWZ0OjA7fTwvc3R5bGU+CiAgICAKICAgICAgICAgICAgPG1ldGEgbmFtZT0idmlld3BvcnQiIGNvbnRlbnQ9IndpZHRoPWRldmljZS13aWR0aCwKICAgICAgICAgICAgICAgIGluaXRpYWwtc2NhbGU9MS4wLCBtYXhpbXVtLXNjYWxlPTEuMCwgdXNlci1zY2FsYWJsZT1ubyIgLz4KICAgICAgICAgICAgPHN0eWxlPgogICAgICAgICAgICAgICAgI21hcF8yNTY4ZmU0MzQ4MjY0ODJhYWNkYWZhZDZkN2RlNzUxYiB7CiAgICAgICAgICAgICAgICAgICAgcG9zaXRpb246IHJlbGF0aXZlOwogICAgICAgICAgICAgICAgICAgIHdpZHRoOiAxMDAuMCU7CiAgICAgICAgICAgICAgICAgICAgaGVpZ2h0OiAxMDAuMCU7CiAgICAgICAgICAgICAgICAgICAgbGVmdDogMC4wJTsKICAgICAgICAgICAgICAgICAgICB0b3A6IDAuMCU7CiAgICAgICAgICAgICAgICB9CiAgICAgICAgICAgIDwvc3R5bGU+CiAgICAgICAgCjwvaGVhZD4KPGJvZHk+ICAgIAogICAgCiAgICAgICAgICAgIDxkaXYgY2xhc3M9ImZvbGl1bS1tYXAiIGlkPSJtYXBfMjU2OGZlNDM0ODI2NDgyYWFjZGFmYWQ2ZDdkZTc1MWIiID48L2Rpdj4KICAgICAgICAKPC9ib2R5Pgo8c2NyaXB0PiAgICAKICAgIAogICAgICAgICAgICB2YXIgbWFwXzI1NjhmZTQzNDgyNjQ4MmFhY2RhZmFkNmQ3ZGU3NTFiID0gTC5tYXAoCiAgICAgICAgICAgICAgICAibWFwXzI1NjhmZTQzNDgyNjQ4MmFhY2RhZmFkNmQ3ZGU3NTFiIiwKICAgICAgICAgICAgICAgIHsKICAgICAgICAgICAgICAgICAgICBjZW50ZXI6IFswLCAwXSwKICAgICAgICAgICAgICAgICAgICBjcnM6IEwuQ1JTLkVQU0czODU3LAogICAgICAgICAgICAgICAgICAgIHpvb206IDEsCiAgICAgICAgICAgICAgICAgICAgem9vbUNvbnRyb2w6IHRydWUsCiAgICAgICAgICAgICAgICAgICAgcHJlZmVyQ2FudmFzOiBmYWxzZSwKICAgICAgICAgICAgICAgIH0KICAgICAgICAgICAgKTsKCiAgICAgICAgICAgIAoKICAgICAgICAKICAgIAogICAgICAgICAgICB2YXIgdGlsZV9sYXllcl8yMzI0NzBmNjMzZWM0MTNmOGM4OTg2MDBjZmUwMzMyYSA9IEwudGlsZUxheWVyKAogICAgICAgICAgICAgICAgImh0dHBzOi8ve3N9LnRpbGUub3BlbnN0cmVldG1hcC5vcmcve3p9L3t4fS97eX0ucG5nIiwKICAgICAgICAgICAgICAgIHsiYXR0cmlidXRpb24iOiAiRGF0YSBieSBcdTAwMjZjb3B5OyBcdTAwM2NhIGhyZWY9XCJodHRwOi8vb3BlbnN0cmVldG1hcC5vcmdcIlx1MDAzZU9wZW5TdHJlZXRNYXBcdTAwM2MvYVx1MDAzZSwgdW5kZXIgXHUwMDNjYSBocmVmPVwiaHR0cDovL3d3dy5vcGVuc3RyZWV0bWFwLm9yZy9jb3B5cmlnaHRcIlx1MDAzZU9EYkxcdTAwM2MvYVx1MDAzZS4iLCAiZGV0ZWN0UmV0aW5hIjogZmFsc2UsICJtYXhOYXRpdmVab29tIjogMTgsICJtYXhab29tIjogMTgsICJtaW5ab29tIjogMCwgIm5vV3JhcCI6IGZhbHNlLCAib3BhY2l0eSI6IDEsICJzdWJkb21haW5zIjogImFiYyIsICJ0bXMiOiBmYWxzZX0KICAgICAgICAgICAgKS5hZGRUbyhtYXBfMjU2OGZlNDM0ODI2NDgyYWFjZGFmYWQ2ZDdkZTc1MWIpOwogICAgICAgIAogICAgCiAgICAgICAgICAgIG1hcF8yNTY4ZmU0MzQ4MjY0ODJhYWNkYWZhZDZkN2RlNzUxYi5maXRCb3VuZHMoCiAgICAgICAgICAgICAgICBbWzUzLjM0MzI1LCAtNi4yODk5ODddLCBbNTMuMzQzMjUsIC02LjI4OTk4N10sIFs1My40NTIzMTYsIC02LjIyNDg1XSwgWzUzLjUxNzkwMiwgLTYuMTIzNjddLCBbNTMuNTE3OTAyLCAtNi4xMjM2N10sIFs1My41MTc5MDIsIC02LjEyMzY3XSwgWzUzLjUxNzkwMiwgLTYuMTIzNjddLCBbNTMuNTE3OTAyLCAtNi4xMjM2N10sIFs1My41MTc5MDIsIC02LjEyMzY3XSwgWzUzLjUxNzc2NTAwMDAwMDAwNCwgLTYuMTIyNDQ3XSwgWzUzLjUxNzc2NTAwMDAwMDAwNCwgLTYuMTIyNDQ3XSwgWzUzLjUxNzY3Mjk5OTk5OTk5NSwgLTYuMTIwNjU1OTk5OTk5OTk5XSwgWzUzLjUxNzcyNywgLTYuMTE5OTAyXSwgWzUzLjUxNzcyNywgLTYuMTE5OTAyXSwgWzUzLjUxNzg0OSwgLTYuMTE5MTQyXSwgWzUzLjUxNzg0OSwgLTYuMTE5MTQyXSwgWzUzLjUxNzg0OSwgLTYuMTE5MTQyXSwgWzUzLjUxODM1MzAwMDAwMDAwNSwgLTYuMTE3MDU2XSwgWzUzLjUxODM1MzAwMDAwMDAwNSwgLTYuMTE3MDU2XSwgWzUzLjUyMTI3MSwgLTYuMTA3MTA0XSwgWzUzLjUyMTI3MSwgLTYuMTA3MTA0XSwgWzUzLjUyMTI3MSwgLTYuMTA3MTA0XSwgWzUzLjUyMTI3MSwgLTYuMTA3MTA0XSwgWzUzLjUyMTI3MSwgLTYuMTA3MTA0XSwgWzUzLjUyMTI3MSwgLTYuMTA3MTA0XSwgWzUzLjUyMTI3MSwgLTYuMTA3MTA0XSwgWzUzLjUyMTI3MSwgLTYuMTA3MTA0XSwgWzUzLjUyMTQ1LCAtNi4xMDYxNzhdLCBbNTMuNTIyODQyMDAwMDAwMDA0LCAtNi4xMDAxODJdLCBbNTMuNTIyODQyMDAwMDAwMDA0LCAtNi4xMDAxODJdLCBbNTMuNTIyODM5MDAwMDAwMDA1LCAtNi4xMDAwOTFdLCBbNTMuNTIyODM5MDAwMDAwMDA1LCAtNi4xMDAwOTFdLCBbNTMuNTIyODM5MDAwMDAwMDA1LCAtNi4xMDAwOTFdLCBbNTMuNTIyODMxMDAwMDAwMDA0LCAtNi4wOTk5NF0sIFs1My41MjI3MTMsIC02LjA5NzU2NjAwMDAwMDAwMDVdLCBbNTMuNTIyNzEzLCAtNi4wOTc1NjYwMDAwMDAwMDA1XSwgWzUzLjUyMjUwMywgLTYuMDk1NzIyXSwgWzUzLjUyMjUwMywgLTYuMDk1NzIyXSwgWzUzLjUyNDE1MSwgLTYuMDkxMzNdLCBbNTMuNTI2ODM1OTk5OTk5OTk2LCAtNi4wOTExMzNdLCBbNTMuNTI2ODM1OTk5OTk5OTk2LCAtNi4wOTExMzNdLCBbNTMuNTI4NDY4OTk5OTk5OTk0LCAtNi4wOTEyODA5OTk5OTk5OTk1XSwgWzUzLjUyODQ2ODk5OTk5OTk5NCwgLTYuMDkxMjgwOTk5OTk5OTk5NV0sIFs1My41MzEzLCAtNi4wOTE0ODldLCBbNTMuNTMyNzQyMDAwMDAwMDA2LCAtNi4wOTEwNDNdLCBbNTMuNTMyNzQyMDAwMDAwMDA2LCAtNi4wOTEwNDNdLCBbNTMuNTM1OSwgLTYuMDkwMjQ3XSwgWzUzLjUzNTksIC02LjA5MDI0N10sIFs1My41NDA2MjcsIC02LjA5NDIzMzk5OTk5OTk5OV0sIFs1My41NDM1MzcsIC02LjA5NzQ4NV0sIFs1My41NDM1MzcsIC02LjA5NzQ4NV0sIFs1My41NDQzMDQwMDAwMDAwMDQsIC02LjA5ODM0MTAwMDAwMDAwMDVdLCBbNTMuNTQ0MzA0MDAwMDAwMDA0LCAtNi4wOTgzNDEwMDAwMDAwMDA1XSwgWzUzLjU0NzU1Nzk5OTk5OTk5NSwgLTYuMTAxMzE1MDAwMDAwMDAwNV0sIFs1My41NDg2NDksIC02LjEwMTUzNl0sIFs1My41NDg2NDksIC02LjEwMTUzNl0sIFs1My41NTE2OTMwMDAwMDAwMSwgLTYuMTAyMTA5XSwgWzUzLjU1MTY5MzAwMDAwMDAxLCAtNi4xMDIxMDldLCBbNTMuNTU1MTk1LCAtNi4xMDE3NV0sIFs1My41NTUxOTUsIC02LjEwMTc1XSwgWzUzLjU1NTM5MywgLTYuMTAxNzI4XSwgWzUzLjU1NTM5MywgLTYuMTAxNzI4XSwgWzUzLjU1NTM5MywgLTYuMTAxNzI4XSwgWzUzLjU1NTQ3MywgLTYuMTAxNzE5XSwgWzUzLjU1NTQ3MywgLTYuMTAxNzE5XSwgWzUzLjU1NTgyNCwgLTYuMTAxNjhdLCBbNTMuNTU4NjQzMDAwMDAwMDA0LCAtNi4xMDI1NDVdLCBbNTMuNTU4NjQzMDAwMDAwMDA0LCAtNi4xMDI1NDVdLCBbNTMuNTU4NjQzMDAwMDAwMDA0LCAtNi4xMDI1NDVdLCBbNTMuNTU4NjQzMDAwMDAwMDA0LCAtNi4xMDI1NDVdLCBbNTMuNTU4NjY5OTk5OTk5OTksIC02LjEwMjU1Nl0sIFs1My41NTg2Njk5OTk5OTk5OSwgLTYuMTAyNTU2XSwgWzUzLjU1ODY2OTk5OTk5OTk5LCAtNi4xMDI1NTZdLCBbNTMuNTU4ODE1LCAtNi4xMDI2MzFdLCBbNTMuNTU4ODE1LCAtNi4xMDI2MzFdLCBbNTMuNTU5MzgzLCAtNi4xMDMwNzhdLCBbNTMuNTU5MzgzLCAtNi4xMDMwNzhdLCBbNTMuNTU5MzgzLCAtNi4xMDMwNzhdLCBbNTMuNTU5MzgzLCAtNi4xMDMwNzhdLCBbNTMuNTU5MzgzLCAtNi4xMDMwNzhdLCBbNTMuNTU5MzgzLCAtNi4xMDMwNzhdLCBbNTMuNTU5MzgzLCAtNi4xMDMwNzhdLCBbNTMuNTU5MzgzLCAtNi4xMDMwNzhdLCBbNTMuNTYwMjgzOTk5OTk5OTk2LCAtNi4xMDM3MTIwMDAwMDAwMDFdLCBbNTMuNTYwMjgzOTk5OTk5OTk2LCAtNi4xMDM3MTIwMDAwMDAwMDFdLCBbNTMuNTYyMzc4LCAtNi4xMDM0NzM5OTk5OTk5OTldLCBbNTMuNTYzMzYyLCAtNi4xMDMyMTYwMDAwMDAwMDFdLCBbNTMuNTYzMzYyLCAtNi4xMDMyMTYwMDAwMDAwMDFdLCBbNTMuNTY0OTA3LCAtNi4xMDI3MjJdLCBbNTMuNTY0OTA3LCAtNi4xMDI3MjJdLCBbNTMuNTY2NDc5LCAtNi4xMDIyNDNdLCBbNTMuNTY2NjE5OTk5OTk5OTksIC02LjEwMjIwMV0sIFs1My41NjY2MTk5OTk5OTk5OSwgLTYuMTAyMjAxXSwgWzUzLjU2NzA3NCwgLTYuMTAyMDY0XSwgWzUzLjU2NzA3NCwgLTYuMTAyMDY0XSwgWzUzLjU2NzgxNCwgLTYuMTAxODQxOTk5OTk5OTk5NV0sIFs1My41Njg5NTc5OTk5OTk5OTUsIC02LjEwMTQ5OF0sIFs1My41NzExMSwgLTYuMTAwNTcwOTk5OTk5OTk5NV0sIFs1My41NzMyOTksIC02LjEwMjM0ODk5OTk5OTk5OV0sIFs1My41NzQyMzgsIC02LjEwMzUzOV0sIFs1My41NzQ4MDIwMDAwMDAwMDUsIC02LjEwNDE1MV0sIFs1My41NzQ4MDIwMDAwMDAwMDUsIC02LjEwNDE1MV0sIFs1My41NzQ4MDIwMDAwMDAwMDUsIC02LjEwNDE1MV0sIFs1My41NzQ4MDIwMDAwMDAwMDUsIC02LjEwNDE1MV0sIFs1My41NzQ4MDIwMDAwMDAwMDUsIC02LjEwNDE1MV0sIFs1My41NzQ4MDIwMDAwMDAwMDUsIC02LjEwNDE1MV0sIFs1My41NzQ4MDIwMDAwMDAwMDUsIC02LjEwNDE1MV0sIFs1My41NzQ4MDIwMDAwMDAwMDUsIC02LjEwNDE1MV0sIFs1My41NzQ4MDIwMDAwMDAwMDUsIC02LjEwNDE1MV0sIFs1My41NzQ4MDIwMDAwMDAwMDUsIC02LjEwNDE1MV0sIFs1My41NzQ4MDIwMDAwMDAwMDUsIC02LjEwNDE1MV0sIFs1My41NzQ4MDIwMDAwMDAwMDUsIC02LjEwNDE1MV0sIFs1My41NzQ4MDIwMDAwMDAwMDUsIC02LjEwNDE1MV0sIFs1My41NzQ4MDIwMDAwMDAwMDUsIC02LjEwNDE1MV0sIFs1My41NzQ4MDIwMDAwMDAwMDUsIC02LjEwNDE1MV0sIFs1My41NzQ4MDIwMDAwMDAwMDUsIC02LjEwNDE1MV0sIFs1My41NzQ4MDIwMDAwMDAwMDUsIC02LjEwNDE1MV0sIFs1My41NzQ4MDIwMDAwMDAwMDUsIC02LjEwNDE1MV0sIFs1My41NzQ4MDIwMDAwMDAwMDUsIC02LjEwNDE1MV0sIFs1My41NzQ4MDIwMDAwMDAwMDUsIC02LjEwNDE1MV0sIFs1My41NzQ4MDIwMDAwMDAwMDUsIC02LjEwNDE1MV0sIFs1My41NzQ4MDIwMDAwMDAwMDUsIC02LjEwNDE1MV0sIFs1My41NzQ4MDIwMDAwMDAwMDUsIC02LjEwNDE1MV0sIFs1My41NzQ4MDIwMDAwMDAwMDUsIC02LjEwNDE1MV0sIFs1My41NzQ4MDIwMDAwMDAwMDUsIC02LjEwNDE1MV0sIFs1My41NzQ4MDIwMDAwMDAwMDUsIC02LjEwNDE1MV0sIFs1My4zMjE2ODE5OTk5OTk5OTYsIC02LjMzMTg4M10sIFs1My41MjE5NjUsIC02LjE0ODA2N10sIFs1My4zMjE2ODE5OTk5OTk5OTYsIC02LjMzMTg4M10sIFs1My41MjEzNTEsIC02LjE0NDIzM10sIFs1My4zMjE2NjcwMDAwMDAwMDUsIC02LjMzMTldLCBbNTMuMzIxNjY3MDAwMDAwMDA1LCAtNi4zMzE5XSwgWzUzLjMyMTcwMTAwMDAwMDAwNCwgLTYuMzMxODgzXSwgWzUzLjMyMTcwMTAwMDAwMDAwNCwgLTYuMzMxODgzXSwgWzUzLjUxODc2ODAwMDAwMDAxLCAtNi4xMzE5NjY5OTk5OTk5OTk1XSwgWzUzLjMyMTcwMTAwMDAwMDAwNCwgLTYuMzMxODgzXSwgWzUzLjMyMTcwMTAwMDAwMDAwNCwgLTYuMzMxOV0sIFs1My41MTgwNTEsIC02LjEyNDldLCBbNTMuMzIxNzAxMDAwMDAwMDA0LCAtNi4zMzE4ODNdLCBbNTMuNTE3NywgLTYuMTIxMDE3XSwgWzUzLjMyMTcwMTAwMDAwMDAwNCwgLTYuMzMxODgzXSwgWzUzLjMyMTY4MTk5OTk5OTk5NiwgLTYuMzMxODgzXSwgWzUzLjUxODkxNywgLTYuMTE2MTVdLCBbNTMuMzIxNzAxMDAwMDAwMDA0LCAtNi4zMzE4ODNdLCBbNTMuNTE5NzgzLCAtNi4xMTQ2MzRdLCBbNTMuMzIxNzAxMDAwMDAwMDA0LCAtNi4zMzE4ODNdLCBbNTMuMzIxNzAxMDAwMDAwMDA0LCAtNi4zMzE4ODNdLCBbNTMuNTIwOTUsIC02LjEwOTFdLCBbNTMuMzIxNzAxMDAwMDAwMDA0LCAtNi4zMzE4ODNdLCBbNTMuMzIxNzAxMDAwMDAwMDA0LCAtNi4zMzE4ODNdLCBbNTMuNTIxNDY1LCAtNi4xMDYzMzNdLCBbNTMuMzIxNzAxMDAwMDAwMDA0LCAtNi4zMzE4NjddLCBbNTMuMzIxNjgxOTk5OTk5OTk2LCAtNi4zMzE4ODNdLCBbNTMuNTIxOTE1LCAtNi4xMDM5ODNdLCBbNTMuMzIxNjgxOTk5OTk5OTk2LCAtNi4zMzE4ODNdLCBbNTMuMzIxNjgxOTk5OTk5OTk2LCAtNi4zMzE5XSwgWzUzLjMyMTY4MTk5OTk5OTk5NiwgLTYuMzMxODgzXSwgWzUzLjUyMjY4MTk5OTk5OTk5NiwgLTYuMTAxMzE2MDAwMDAwMDAxXSwgWzUzLjMyMTY4MTk5OTk5OTk5NiwgLTYuMzMxODgzXSwgWzUzLjUyMjc4NSwgLTYuMTAxMDVdLCBbNTMuMzIxNjgxOTk5OTk5OTk2LCAtNi4zMzE4ODNdLCBbNTMuMzIxNjgxOTk5OTk5OTk2LCAtNi4zMzE5XSwgWzUzLjUyMjcxNzAwMDAwMDAxLCAtNi4wOTY5NV0sIFs1My4zMjE3MDEwMDAwMDAwMDQsIC02LjMzMTldLCBbNTMuMzIxNzAxMDAwMDAwMDA0LCAtNi4zMzE5XSwgWzUzLjUyMjUzMjk5OTk5OTk5NiwgLTYuMDk1Nl0sIFs1My4zMjE2ODE5OTk5OTk5OTYsIC02LjMzMTg4M10sIFs1My4zMjE2ODE5OTk5OTk5OTYsIC02LjMzMTldLCBbNTMuNTIyMDQ4OTk5OTk5OTk2LCAtNi4wOTIxNjddLCBbNTMuMzIxNjY3MDAwMDAwMDA1LCAtNi4zMzE5XSwgWzUzLjMyMTY2NzAwMDAwMDAwNSwgLTYuMzMxOV0sIFs1My41MjIwMzQsIC02LjA5MjE4M10sIFs1My4zMjE2NjcwMDAwMDAwMDUsIC02LjMzMTg4M10sIFs1My4zMjE2ODE5OTk5OTk5OTYsIC02LjMzMTldLCBbNTMuNTIyMDgyOTk5OTk5OTk1LCAtNi4wOTExODNdLCBbNTMuMzIxNjgxOTk5OTk5OTk2LCAtNi4zMzE5XSwgWzUzLjMyMTY4MTk5OTk5OTk5NiwgLTYuMzMxOV0sIFs1My41MjQwMTcwMDAwMDAwMSwgLTYuMDkxMzVdLCBbNTMuMzIxNzAxMDAwMDAwMDA0LCAtNi4zMzE5XSwgWzUzLjMyMTcwMTAwMDAwMDAwNCwgLTYuMzMxOV0sIFs1My41Mjg3MzIsIC02LjA5MTMxN10sIFs1My4zMjE1ODMsIC02LjMzMTU1XSwgWzUzLjMyMTU4MywgLTYuMzMxNTVdLCBbNTMuNTI5NzMxOTk5OTk5OTk2LCAtNi4wOTE0ODNdLCBbNTMuMzIxNTgzLCAtNi4zMzE1NV0sIFs1My4zMjE1NjgwMDAwMDAwMDYsIC02LjMzMTU1XSwgWzUzLjUzMjkxNzAwMDAwMDAwNSwgLTYuMDkxMDE3XSwgWzUzLjUzMzg1MiwgLTYuMDkwNl0sIFs1My4zMjE1ODMsIC02LjMzMTU1XSwgWzUzLjMyMTU4MywgLTYuMzMxNTVdLCBbNTMuNTM2NzUxLCAtNi4wOTA1XSwgWzUzLjMyMTU2ODAwMDAwMDAwNiwgLTYuMzMxNTE3XSwgWzUzLjUzODc4NCwgLTYuMDkyMl0sIFs1My4zMjE1NjgwMDAwMDAwMDYsIC02LjMzMTVdLCBbNTMuMzIxNTgzLCAtNi4zMzE1MTddLCBbNTMuNTM5NTE2MDAwMDAwMDA2LCAtNi4wOTMwMzNdLCBbNTMuMzIxNTgzLCAtNi4zMzE1MTddLCBbNTMuMzIxNTgzLCAtNi4zMzE1MTddLCBbNTMuNTQxNTE1MDAwMDAwMDA0LCAtNi4wOTUyMTddLCBbNTMuMzIxNTgzLCAtNi4zMzE1MTddLCBbNTMuNTQ1OTE4MDAwMDAwMDEsIC02LjEwMDExN10sIFs1My4zMjE2MDIsIC02LjMzMTUxN10sIFs1My4zMjE2MDIsIC02LjMzMTUxN10sIFs1My41NDY4NjcwMDAwMDAwMDYsIC02LjEwMTEzM10sIFs1My4zMjE2MDIsIC02LjMzMTUxN10sIFs1My4zMjE1ODMsIC02LjMzMTVdLCBbNTMuNTQ5LCAtNi4xMDE2NV0sIFs1My4zMjE1NjgwMDAwMDAwMDYsIC02LjMzMTQ4M10sIFs1My4zMjE1NjgwMDAwMDAwMDYsIC02LjMzMTQ4M10sIFs1My41NTEzMzQsIC02LjEwMjExN10sIFs1My41NTEzMzQsIC02LjEwMjExN10sIFs1My4zMjE1ODMsIC02LjMzMTUxN10sIFs1My41NTYzMTYsIC02LjEwMTYzNF0sIFs1My4zMjE1ODMsIC02LjMzMTVdLCBbNTMuNTU4NzY1LCAtNi4xMDI2XSwgWzUzLjMyMTU4MywgLTYuMzMxNV0sIFs1My4zMjE1ODMsIC02LjMzMTVdLCBbNTMuMzIxNTgzLCAtNi4zMzE1MTddLCBbNTMuNTYzNDgzOTk5OTk5OTk1LCAtNi4xMDMxNV0sIFs1My41NjM0ODM5OTk5OTk5OTUsIC02LjEwMzE1XSwgWzUzLjU2NTg2OCwgLTYuMTAyNDgzXSwgWzUzLjU2NTg2OCwgLTYuMTAyNDgzXSwgWzUzLjU2NTg2OCwgLTYuMTAyNDgzXSwgWzUzLjU2NTg2OCwgLTYuMTAyNDgzXSwgWzUzLjQ1MjI3Mzk5OTk5OTk5NiwgLTYuMjI0ODIwOTk5OTk5OTk5NV0sIFs1My40NTIyNzM5OTk5OTk5OTYsIC02LjIyNDgyMDk5OTk5OTk5OTVdLCBbNTMuNTcyODM0LCAtNi4xMDE3XSwgWzUzLjU3MjgzNCwgLTYuMTAxN10sIFs1My41NzI4MzQsIC02LjEwMTddLCBbNTMuNTc1ODAyLCAtNi4xMDQ3NV0sIFs1My41NzU4MDIsIC02LjEwNDc1XSwgWzUzLjU3NzIxNzAwMDAwMDAwNSwgLTYuMTA1Nl0sIFs1My41NzcyMTcwMDAwMDAwMDUsIC02LjEwNTZdLCBbNTMuNTc3MjE3MDAwMDAwMDA1LCAtNi4xMDU2XSwgWzUzLjU3ODgxNTAwMDAwMDAwNiwgLTYuMTA2MzVdLCBbNTMuNTc4ODE1MDAwMDAwMDA2LCAtNi4xMDYzNV0sIFs1My41ODAyLCAtNi4xMDY4MzNdLCBbNTMuNTgwMiwgLTYuMTA2ODMzXSwgWzUzLjU4MDIsIC02LjEwNjgzM10sIFs1My41ODA2MzUsIC02LjEwNzA4M10sIFs1My41ODA2MzUsIC02LjEwNzA4M10sIFs1My41ODA0MTgsIC02LjEwODkxN10sIFs1My40NTU1MTMsIC02LjIyMjE2OTk5OTk5OTk5OV0sIFs1My40NTU1MTMsIC02LjIyMjE2OTk5OTk5OTk5OV0sIFs1My40NTk0NDYsIC02LjIxOTM4Ml0sIFs1My40NTk1ODI5OTk5OTk5OTUsIC02LjIxOTA5Ml0sIFs1My40NTk1ODI5OTk5OTk5OTUsIC02LjIxOTA5Ml0sIFs1My40NTk1ODI5OTk5OTk5OTUsIC02LjIxOTA5Ml0sIFs1My40NTk1ODI5OTk5OTk5OTUsIC02LjIxOTA5Ml0sIFs1My40NjAwOTEwMDAwMDAwMDYsIC02LjIxODkxOTAwMDAwMDAwMDVdLCBbNTMuNDYxMzY5LCAtNi4yMTg0ODFdLCBbNTMuNDYxMzY5LCAtNi4yMTg0ODFdLCBbNTMuNDYxMzY5LCAtNi4yMTg0ODFdLCBbNTMuNDYzNTg0OTk5OTk5OTk1LCAtNi4yMTcxNzRdLCBbNTMuNDY0ODU5LCAtNi4yMTYxNjEwMDAwMDAwMDA1XSwgWzUzLjQ2NDg1OSwgLTYuMjE2MTYxMDAwMDAwMDAwNV0sIFs1My40Njg2NDMwMDAwMDAwMSwgLTYuMjEzMzExXSwgWzUzLjQ2ODY0MzAwMDAwMDAxLCAtNi4yMTMzMTFdLCBbNTMuNDY4Njc0LCAtNi4yMTMyODc5OTk5OTk5OTk1XSwgWzUzLjQ2ODc2ODk5OTk5OTk5NSwgLTYuMjEzMjIzXSwgWzUzLjQ2ODc2ODk5OTk5OTk5NSwgLTYuMjEzMjIzXSwgWzUzLjQ2OTg3OTAwMDAwMDAwNiwgLTYuMjEyNDM5XSwgWzUzLjQ2OTg3OTAwMDAwMDAwNiwgLTYuMjEyNDM5XSwgWzUzLjQ3MjgzNiwgLTYuMjEwMjI0XSwgWzUzLjQ3NDM4OCwgLTYuMjA4ODM2XSwgWzUzLjQ3NDM4OCwgLTYuMjA4ODM2XSwgWzUzLjQ3OTk1NDAwMDAwMDAwNiwgLTYuMjAzNjVdLCBbNTMuNDgwODY1LCAtNi4yMDI5NjVdLCBbNTMuNDgxNzUsIC02LjIwMjM1NTAwMDAwMDAwMV0sIFs1My40ODE3NSwgLTYuMjAyMzU1MDAwMDAwMDAxXSwgWzUzLjQ5MTAwMTAwMDAwMDAwNCwgLTYuMTk2MDkyXSwgWzUzLjQ5MTAwMTAwMDAwMDAwNCwgLTYuMTk2MDkyXSwgWzUzLjQ5NDI2OTk5OTk5OTk5LCAtNi4xOTUwNTVdLCBbNTMuNDk1MjM1LCAtNi4xOTQ0OTE5OTk5OTk5OTldLCBbNTMuNDk1MjM1LCAtNi4xOTQ0OTE5OTk5OTk5OTldLCBbNTMuNTAyNDE4OTk5OTk5OTk2LCAtNi4xOTE4NjNdLCBbNTMuNTAyNDE4OTk5OTk5OTk2LCAtNi4xOTE4NjNdLCBbNTMuNTAzMjAxMDAwMDAwMDA0LCAtNi4xOTAyNDldLCBbNTMuNTA1MjcyLCAtNi4xODY5MTVdLCBbNTMuNTA1MjcyLCAtNi4xODY5MTVdLCBbNTMuNTA3MjMyOTk5OTk5OTksIC02LjE4NTEzN10sIFs1My41MDcyMzI5OTk5OTk5OSwgLTYuMTg1MTM3XSwgWzUzLjUwODI2NjAwMDAwMDAwNiwgLTYuMTg0MDE5XSwgWzUzLjUwOTI5MzAwMDAwMDAxLCAtNi4xODE4NTZdLCBbNTMuNTEwODQxMDAwMDAwMDA2LCAtNi4xNzgxMTZdLCBbNTMuNTE1NTIyLCAtNi4xNzI2ODM5OTk5OTk5OTldLCBbNTMuNTE1NjQwMDAwMDAwMDA1LCAtNi4xNzI2MTJdLCBbNTMuNTE1NjQwMDAwMDAwMDA1LCAtNi4xNzI2MTJdXSwKICAgICAgICAgICAgICAgIHt9CiAgICAgICAgICAgICk7CiAgICAgICAgCiAgICAKICAgICAgICAgICAgdmFyIG1hcmtlcl8wMjAwZTJlNGMxY2Q0ODc3OWMzMTFhMDViM2I1Nzc0NiA9IEwubWFya2VyKAogICAgICAgICAgICAgICAgWzUzLjM0MzI1LCAtNi4yODk5ODddLAogICAgICAgICAgICAgICAge30KICAgICAgICAgICAgKS5hZGRUbyhtYXBfMjU2OGZlNDM0ODI2NDgyYWFjZGFmYWQ2ZDdkZTc1MWIpOwogICAgICAgIAogICAgCiAgICAgICAgICAgIHZhciBtYXJrZXJfZTI2Yjk2YWI4NDYzNGM0MDlhZjA5ZjE5MTRkM2Q3NjYgPSBMLm1hcmtlcigKICAgICAgICAgICAgICAgIFs1My4zNDMyNSwgLTYuMjg5OTg3XSwKICAgICAgICAgICAgICAgIHt9CiAgICAgICAgICAgICkuYWRkVG8obWFwXzI1NjhmZTQzNDgyNjQ4MmFhY2RhZmFkNmQ3ZGU3NTFiKTsKICAgICAgICAKICAgIAogICAgICAgICAgICB2YXIgbWFya2VyX2RiYWY4OTcyZTNhNzRlNjM4MDI0ZjhjOTA2MDgzOWQxID0gTC5tYXJrZXIoCiAgICAgICAgICAgICAgICBbNTMuNDUyMzE2LCAtNi4yMjQ4NV0sCiAgICAgICAgICAgICAgICB7fQogICAgICAgICAgICApLmFkZFRvKG1hcF8yNTY4ZmU0MzQ4MjY0ODJhYWNkYWZhZDZkN2RlNzUxYik7CiAgICAgICAgCiAgICAKICAgICAgICAgICAgdmFyIG1hcmtlcl83NjkwZDcyOGFkMWY0ZDBiYjNkNmIzMzlmYzc5YmRlNSA9IEwubWFya2VyKAogICAgICAgICAgICAgICAgWzUzLjUxNzkwMiwgLTYuMTIzNjddLAogICAgICAgICAgICAgICAge30KICAgICAgICAgICAgKS5hZGRUbyhtYXBfMjU2OGZlNDM0ODI2NDgyYWFjZGFmYWQ2ZDdkZTc1MWIpOwogICAgICAgIAogICAgCiAgICAgICAgICAgIHZhciBtYXJrZXJfMzFmMWE4MGVkNGU3NGUwZGFjY2FhYzliZGRjNGQ0MWQgPSBMLm1hcmtlcigKICAgICAgICAgICAgICAgIFs1My41MTc5MDIsIC02LjEyMzY3XSwKICAgICAgICAgICAgICAgIHt9CiAgICAgICAgICAgICkuYWRkVG8obWFwXzI1NjhmZTQzNDgyNjQ4MmFhY2RhZmFkNmQ3ZGU3NTFiKTsKICAgICAgICAKICAgIAogICAgICAgICAgICB2YXIgbWFya2VyX2NiYTU4ZDlkYWJmYjQxODA5YTM3ZTAwNzJhMjZmMDI4ID0gTC5tYXJrZXIoCiAgICAgICAgICAgICAgICBbNTMuNTE3OTAyLCAtNi4xMjM2N10sCiAgICAgICAgICAgICAgICB7fQogICAgICAgICAgICApLmFkZFRvKG1hcF8yNTY4ZmU0MzQ4MjY0ODJhYWNkYWZhZDZkN2RlNzUxYik7CiAgICAgICAgCiAgICAKICAgICAgICAgICAgdmFyIG1hcmtlcl80MTU3NjcwYTlmOTQ0OWY2OGRiMzkzZDUzM2Q3OWFhZCA9IEwubWFya2VyKAogICAgICAgICAgICAgICAgWzUzLjUxNzkwMiwgLTYuMTIzNjddLAogICAgICAgICAgICAgICAge30KICAgICAgICAgICAgKS5hZGRUbyhtYXBfMjU2OGZlNDM0ODI2NDgyYWFjZGFmYWQ2ZDdkZTc1MWIpOwogICAgICAgIAogICAgCiAgICAgICAgICAgIHZhciBtYXJrZXJfYzU5NDU5NzY2NDRmNDM2NTgxZWQ0NjFlMDIzMGRjMWUgPSBMLm1hcmtlcigKICAgICAgICAgICAgICAgIFs1My41MTc5MDIsIC02LjEyMzY3XSwKICAgICAgICAgICAgICAgIHt9CiAgICAgICAgICAgICkuYWRkVG8obWFwXzI1NjhmZTQzNDgyNjQ4MmFhY2RhZmFkNmQ3ZGU3NTFiKTsKICAgICAgICAKICAgIAogICAgICAgICAgICB2YXIgbWFya2VyX2YzYmY1NGVkMWZiYjRlZGI4ZTUyMGQzMDRlY2QxYjZlID0gTC5tYXJrZXIoCiAgICAgICAgICAgICAgICBbNTMuNTE3OTAyLCAtNi4xMjM2N10sCiAgICAgICAgICAgICAgICB7fQogICAgICAgICAgICApLmFkZFRvKG1hcF8yNTY4ZmU0MzQ4MjY0ODJhYWNkYWZhZDZkN2RlNzUxYik7CiAgICAgICAgCiAgICAKICAgICAgICAgICAgdmFyIG1hcmtlcl9lZmZiOThkNzJiMGY0ZjNmOTQ4YzM0NTU2ZWNiMzZhNyA9IEwubWFya2VyKAogICAgICAgICAgICAgICAgWzUzLjUxNzc2NTAwMDAwMDAwNCwgLTYuMTIyNDQ3XSwKICAgICAgICAgICAgICAgIHt9CiAgICAgICAgICAgICkuYWRkVG8obWFwXzI1NjhmZTQzNDgyNjQ4MmFhY2RhZmFkNmQ3ZGU3NTFiKTsKICAgICAgICAKICAgIAogICAgICAgICAgICB2YXIgbWFya2VyXzg2NmU1YTA2YWQwOTRmN2M4NmFhNzJlZGRkODY2ZTE0ID0gTC5tYXJrZXIoCiAgICAgICAgICAgICAgICBbNTMuNTE3NzY1MDAwMDAwMDA0LCAtNi4xMjI0NDddLAogICAgICAgICAgICAgICAge30KICAgICAgICAgICAgKS5hZGRUbyhtYXBfMjU2OGZlNDM0ODI2NDgyYWFjZGFmYWQ2ZDdkZTc1MWIpOwogICAgICAgIAogICAgCiAgICAgICAgICAgIHZhciBtYXJrZXJfMWY0ZTViM2M2YjVlNDcxMThhMzA5OGJjYmViZDZkNmQgPSBMLm1hcmtlcigKICAgICAgICAgICAgICAgIFs1My41MTc2NzI5OTk5OTk5OTUsIC02LjEyMDY1NTk5OTk5OTk5OV0sCiAgICAgICAgICAgICAgICB7fQogICAgICAgICAgICApLmFkZFRvKG1hcF8yNTY4ZmU0MzQ4MjY0ODJhYWNkYWZhZDZkN2RlNzUxYik7CiAgICAgICAgCiAgICAKICAgICAgICAgICAgdmFyIG1hcmtlcl8yMGIwOGMwNWFjOTM0YTRhOWI2NTE0MDZkMjQ4MDE0ZCA9IEwubWFya2VyKAogICAgICAgICAgICAgICAgWzUzLjUxNzcyNywgLTYuMTE5OTAyXSwKICAgICAgICAgICAgICAgIHt9CiAgICAgICAgICAgICkuYWRkVG8obWFwXzI1NjhmZTQzNDgyNjQ4MmFhY2RhZmFkNmQ3ZGU3NTFiKTsKICAgICAgICAKICAgIAogICAgICAgICAgICB2YXIgbWFya2VyXzhmOTExMDg3NTJjYzRkMTg5MTM1OGZjYWQxN2NiOGMxID0gTC5tYXJrZXIoCiAgICAgICAgICAgICAgICBbNTMuNTE3NzI3LCAtNi4xMTk5MDJdLAogICAgICAgICAgICAgICAge30KICAgICAgICAgICAgKS5hZGRUbyhtYXBfMjU2OGZlNDM0ODI2NDgyYWFjZGFmYWQ2ZDdkZTc1MWIpOwogICAgICAgIAogICAgCiAgICAgICAgICAgIHZhciBtYXJrZXJfODU1NjU1YjVhM2E5NGU0MGFiYTBmZGRhM2YxMDNkNmMgPSBMLm1hcmtlcigKICAgICAgICAgICAgICAgIFs1My41MTc4NDksIC02LjExOTE0Ml0sCiAgICAgICAgICAgICAgICB7fQogICAgICAgICAgICApLmFkZFRvKG1hcF8yNTY4ZmU0MzQ4MjY0ODJhYWNkYWZhZDZkN2RlNzUxYik7CiAgICAgICAgCiAgICAKICAgICAgICAgICAgdmFyIG1hcmtlcl8yNmE2NjI3NTI4MmI0ZmU4YTU0N2E2ZjQ4YzA5Yzk4MiA9IEwubWFya2VyKAogICAgICAgICAgICAgICAgWzUzLjUxNzg0OSwgLTYuMTE5MTQyXSwKICAgICAgICAgICAgICAgIHt9CiAgICAgICAgICAgICkuYWRkVG8obWFwXzI1NjhmZTQzNDgyNjQ4MmFhY2RhZmFkNmQ3ZGU3NTFiKTsKICAgICAgICAKICAgIAogICAgICAgICAgICB2YXIgbWFya2VyX2M2OTViM2NjNzc0MTRhZThhZDFhMmQxOWYxMGFhZGY2ID0gTC5tYXJrZXIoCiAgICAgICAgICAgICAgICBbNTMuNTE3ODQ5LCAtNi4xMTkxNDJdLAogICAgICAgICAgICAgICAge30KICAgICAgICAgICAgKS5hZGRUbyhtYXBfMjU2OGZlNDM0ODI2NDgyYWFjZGFmYWQ2ZDdkZTc1MWIpOwogICAgICAgIAogICAgCiAgICAgICAgICAgIHZhciBtYXJrZXJfZTE4ZjllN2Q2NzM5NDFmODg1MDg3Y2U4ZjMwMDY0NGIgPSBMLm1hcmtlcigKICAgICAgICAgICAgICAgIFs1My41MTgzNTMwMDAwMDAwMDUsIC02LjExNzA1Nl0sCiAgICAgICAgICAgICAgICB7fQogICAgICAgICAgICApLmFkZFRvKG1hcF8yNTY4ZmU0MzQ4MjY0ODJhYWNkYWZhZDZkN2RlNzUxYik7CiAgICAgICAgCiAgICAKICAgICAgICAgICAgdmFyIG1hcmtlcl9iNGFjNmQ4ODhjYzY0ZWJhYmI1N2YyN2QzNzBjOGEwMiA9IEwubWFya2VyKAogICAgICAgICAgICAgICAgWzUzLjUxODM1MzAwMDAwMDAwNSwgLTYuMTE3MDU2XSwKICAgICAgICAgICAgICAgIHt9CiAgICAgICAgICAgICkuYWRkVG8obWFwXzI1NjhmZTQzNDgyNjQ4MmFhY2RhZmFkNmQ3ZGU3NTFiKTsKICAgICAgICAKICAgIAogICAgICAgICAgICB2YXIgbWFya2VyX2NiN2QxNjAzNTg3NzQxZWRhNzZkZWM4MzgyNmFjYmZjID0gTC5tYXJrZXIoCiAgICAgICAgICAgICAgICBbNTMuNTIxMjcxLCAtNi4xMDcxMDRdLAogICAgICAgICAgICAgICAge30KICAgICAgICAgICAgKS5hZGRUbyhtYXBfMjU2OGZlNDM0ODI2NDgyYWFjZGFmYWQ2ZDdkZTc1MWIpOwogICAgICAgIAogICAgCiAgICAgICAgICAgIHZhciBtYXJrZXJfODRjM2JkOGI5NGEzNDgwNzg3YjFmOTNjYjkyMGJkYTggPSBMLm1hcmtlcigKICAgICAgICAgICAgICAgIFs1My41MjEyNzEsIC02LjEwNzEwNF0sCiAgICAgICAgICAgICAgICB7fQogICAgICAgICAgICApLmFkZFRvKG1hcF8yNTY4ZmU0MzQ4MjY0ODJhYWNkYWZhZDZkN2RlNzUxYik7CiAgICAgICAgCiAgICAKICAgICAgICAgICAgdmFyIG1hcmtlcl9mMjU3NTgzZjU4Njk0ZDNkOTc2OGE5MzI4NDUxNGE4MSA9IEwubWFya2VyKAogICAgICAgICAgICAgICAgWzUzLjUyMTI3MSwgLTYuMTA3MTA0XSwKICAgICAgICAgICAgICAgIHt9CiAgICAgICAgICAgICkuYWRkVG8obWFwXzI1NjhmZTQzNDgyNjQ4MmFhY2RhZmFkNmQ3ZGU3NTFiKTsKICAgICAgICAKICAgIAogICAgICAgICAgICB2YXIgbWFya2VyXzFiMjg3YmE4YTBmZDQ0ZDk4N2ExNDg2NGM0NDcyNTM5ID0gTC5tYXJrZXIoCiAgICAgICAgICAgICAgICBbNTMuNTIxMjcxLCAtNi4xMDcxMDRdLAogICAgICAgICAgICAgICAge30KICAgICAgICAgICAgKS5hZGRUbyhtYXBfMjU2OGZlNDM0ODI2NDgyYWFjZGFmYWQ2ZDdkZTc1MWIpOwogICAgICAgIAogICAgCiAgICAgICAgICAgIHZhciBtYXJrZXJfZWQwMjJjMTQ4N2ZkNGZlMzgyMjkwNTA5MTVkMjkwZjEgPSBMLm1hcmtlcigKICAgICAgICAgICAgICAgIFs1My41MjEyNzEsIC02LjEwNzEwNF0sCiAgICAgICAgICAgICAgICB7fQogICAgICAgICAgICApLmFkZFRvKG1hcF8yNTY4ZmU0MzQ4MjY0ODJhYWNkYWZhZDZkN2RlNzUxYik7CiAgICAgICAgCiAgICAKICAgICAgICAgICAgdmFyIG1hcmtlcl83OThkNGNjM2Y0NmU0YmVjODAyOTIyMjVjOTYwMDVlZCA9IEwubWFya2VyKAogICAgICAgICAgICAgICAgWzUzLjUyMTI3MSwgLTYuMTA3MTA0XSwKICAgICAgICAgICAgICAgIHt9CiAgICAgICAgICAgICkuYWRkVG8obWFwXzI1NjhmZTQzNDgyNjQ4MmFhY2RhZmFkNmQ3ZGU3NTFiKTsKICAgICAgICAKICAgIAogICAgICAgICAgICB2YXIgbWFya2VyXzU3MzllMzNiMTYyNjQ5M2Y5MzMzOWM2OWI0ZTY0NzZhID0gTC5tYXJrZXIoCiAgICAgICAgICAgICAgICBbNTMuNTIxMjcxLCAtNi4xMDcxMDRdLAogICAgICAgICAgICAgICAge30KICAgICAgICAgICAgKS5hZGRUbyhtYXBfMjU2OGZlNDM0ODI2NDgyYWFjZGFmYWQ2ZDdkZTc1MWIpOwogICAgICAgIAogICAgCiAgICAgICAgICAgIHZhciBtYXJrZXJfNjkwODMzNzIwNGM4NDA5NDljODc3M2NkYTQ4ODY1NDMgPSBMLm1hcmtlcigKICAgICAgICAgICAgICAgIFs1My41MjEyNzEsIC02LjEwNzEwNF0sCiAgICAgICAgICAgICAgICB7fQogICAgICAgICAgICApLmFkZFRvKG1hcF8yNTY4ZmU0MzQ4MjY0ODJhYWNkYWZhZDZkN2RlNzUxYik7CiAgICAgICAgCiAgICAKICAgICAgICAgICAgdmFyIG1hcmtlcl8zZjEwNmViYzk4ZDU0ZDZiODZkYjhiYmFkOGIxZmI2MCA9IEwubWFya2VyKAogICAgICAgICAgICAgICAgWzUzLjUyMTQ1LCAtNi4xMDYxNzhdLAogICAgICAgICAgICAgICAge30KICAgICAgICAgICAgKS5hZGRUbyhtYXBfMjU2OGZlNDM0ODI2NDgyYWFjZGFmYWQ2ZDdkZTc1MWIpOwogICAgICAgIAogICAgCiAgICAgICAgICAgIHZhciBtYXJrZXJfNWMyNDAzOGNkODc5NDhiMzhiMWIxZDg3ODg2OTQyYzAgPSBMLm1hcmtlcigKICAgICAgICAgICAgICAgIFs1My41MjI4NDIwMDAwMDAwMDQsIC02LjEwMDE4Ml0sCiAgICAgICAgICAgICAgICB7fQogICAgICAgICAgICApLmFkZFRvKG1hcF8yNTY4ZmU0MzQ4MjY0ODJhYWNkYWZhZDZkN2RlNzUxYik7CiAgICAgICAgCiAgICAKICAgICAgICAgICAgdmFyIG1hcmtlcl9jYzE4NmZlNzZhYTE0Y2MwOWE5Y2Y5MWY3Y2ZhNGQyNiA9IEwubWFya2VyKAogICAgICAgICAgICAgICAgWzUzLjUyMjg0MjAwMDAwMDAwNCwgLTYuMTAwMTgyXSwKICAgICAgICAgICAgICAgIHt9CiAgICAgICAgICAgICkuYWRkVG8obWFwXzI1NjhmZTQzNDgyNjQ4MmFhY2RhZmFkNmQ3ZGU3NTFiKTsKICAgICAgICAKICAgIAogICAgICAgICAgICB2YXIgbWFya2VyX2Y4ZGRlZmJhZDg5MDQyM2E5ODI2MGY3Y2YwOTUzODFjID0gTC5tYXJrZXIoCiAgICAgICAgICAgICAgICBbNTMuNTIyODM5MDAwMDAwMDA1LCAtNi4xMDAwOTFdLAogICAgICAgICAgICAgICAge30KICAgICAgICAgICAgKS5hZGRUbyhtYXBfMjU2OGZlNDM0ODI2NDgyYWFjZGFmYWQ2ZDdkZTc1MWIpOwogICAgICAgIAogICAgCiAgICAgICAgICAgIHZhciBtYXJrZXJfNjk3NWE5MjlkYTQxNGZjM2JjNGRlZTM3ZDA1ZDg3YjUgPSBMLm1hcmtlcigKICAgICAgICAgICAgICAgIFs1My41MjI4MzkwMDAwMDAwMDUsIC02LjEwMDA5MV0sCiAgICAgICAgICAgICAgICB7fQogICAgICAgICAgICApLmFkZFRvKG1hcF8yNTY4ZmU0MzQ4MjY0ODJhYWNkYWZhZDZkN2RlNzUxYik7CiAgICAgICAgCiAgICAKICAgICAgICAgICAgdmFyIG1hcmtlcl82ZWZmZjU5YmNjNTc0ZTA2YmM1ODhhNDM4YmRmYjQ3MiA9IEwubWFya2VyKAogICAgICAgICAgICAgICAgWzUzLjUyMjgzOTAwMDAwMDAwNSwgLTYuMTAwMDkxXSwKICAgICAgICAgICAgICAgIHt9CiAgICAgICAgICAgICkuYWRkVG8obWFwXzI1NjhmZTQzNDgyNjQ4MmFhY2RhZmFkNmQ3ZGU3NTFiKTsKICAgICAgICAKICAgIAogICAgICAgICAgICB2YXIgbWFya2VyXzg2YTY5NzcyNDRmZjRiYTg5NGM2NzM5MTU4YjM4NTUyID0gTC5tYXJrZXIoCiAgICAgICAgICAgICAgICBbNTMuNTIyODMxMDAwMDAwMDA0LCAtNi4wOTk5NF0sCiAgICAgICAgICAgICAgICB7fQogICAgICAgICAgICApLmFkZFRvKG1hcF8yNTY4ZmU0MzQ4MjY0ODJhYWNkYWZhZDZkN2RlNzUxYik7CiAgICAgICAgCiAgICAKICAgICAgICAgICAgdmFyIG1hcmtlcl9mYzkyYjhiNmIzMDg0MWY3YjUxYmRjMGJjMjdjMjVjZiA9IEwubWFya2VyKAogICAgICAgICAgICAgICAgWzUzLjUyMjcxMywgLTYuMDk3NTY2MDAwMDAwMDAwNV0sCiAgICAgICAgICAgICAgICB7fQogICAgICAgICAgICApLmFkZFRvKG1hcF8yNTY4ZmU0MzQ4MjY0ODJhYWNkYWZhZDZkN2RlNzUxYik7CiAgICAgICAgCiAgICAKICAgICAgICAgICAgdmFyIG1hcmtlcl8wOGM1ZTljNzhhMWI0NzcxYmJhMmFiMTlmZTgyNDMyZCA9IEwubWFya2VyKAogICAgICAgICAgICAgICAgWzUzLjUyMjcxMywgLTYuMDk3NTY2MDAwMDAwMDAwNV0sCiAgICAgICAgICAgICAgICB7fQogICAgICAgICAgICApLmFkZFRvKG1hcF8yNTY4ZmU0MzQ4MjY0ODJhYWNkYWZhZDZkN2RlNzUxYik7CiAgICAgICAgCiAgICAKICAgICAgICAgICAgdmFyIG1hcmtlcl84ZDgyOGE1ODZiZWU0NjcwYjcyOWVmNzQ4MThhY2Y2OCA9IEwubWFya2VyKAogICAgICAgICAgICAgICAgWzUzLjUyMjUwMywgLTYuMDk1NzIyXSwKICAgICAgICAgICAgICAgIHt9CiAgICAgICAgICAgICkuYWRkVG8obWFwXzI1NjhmZTQzNDgyNjQ4MmFhY2RhZmFkNmQ3ZGU3NTFiKTsKICAgICAgICAKICAgIAogICAgICAgICAgICB2YXIgbWFya2VyXzYxZDFhNDNhMmEzMjQ0ZDY4NDgwMmM0MjExNGRkNzIzID0gTC5tYXJrZXIoCiAgICAgICAgICAgICAgICBbNTMuNTIyNTAzLCAtNi4wOTU3MjJdLAogICAgICAgICAgICAgICAge30KICAgICAgICAgICAgKS5hZGRUbyhtYXBfMjU2OGZlNDM0ODI2NDgyYWFjZGFmYWQ2ZDdkZTc1MWIpOwogICAgICAgIAogICAgCiAgICAgICAgICAgIHZhciBtYXJrZXJfNjBjOWI5NmJlMmM2NGJlZjhkZWVkZmQ0NWZmZWRmYjQgPSBMLm1hcmtlcigKICAgICAgICAgICAgICAgIFs1My41MjQxNTEsIC02LjA5MTMzXSwKICAgICAgICAgICAgICAgIHt9CiAgICAgICAgICAgICkuYWRkVG8obWFwXzI1NjhmZTQzNDgyNjQ4MmFhY2RhZmFkNmQ3ZGU3NTFiKTsKICAgICAgICAKICAgIAogICAgICAgICAgICB2YXIgbWFya2VyXzNmMmQ0NmJmMmE5MTQyYWQ5ZmY3YzkwNTA5NTAxY2EzID0gTC5tYXJrZXIoCiAgICAgICAgICAgICAgICBbNTMuNTI2ODM1OTk5OTk5OTk2LCAtNi4wOTExMzNdLAogICAgICAgICAgICAgICAge30KICAgICAgICAgICAgKS5hZGRUbyhtYXBfMjU2OGZlNDM0ODI2NDgyYWFjZGFmYWQ2ZDdkZTc1MWIpOwogICAgICAgIAogICAgCiAgICAgICAgICAgIHZhciBtYXJrZXJfYjI1ODFhMTU0ZjAyNDBmNGFlYmZlNWZlZTZjMWVmZGUgPSBMLm1hcmtlcigKICAgICAgICAgICAgICAgIFs1My41MjY4MzU5OTk5OTk5OTYsIC02LjA5MTEzM10sCiAgICAgICAgICAgICAgICB7fQogICAgICAgICAgICApLmFkZFRvKG1hcF8yNTY4ZmU0MzQ4MjY0ODJhYWNkYWZhZDZkN2RlNzUxYik7CiAgICAgICAgCiAgICAKICAgICAgICAgICAgdmFyIG1hcmtlcl80ZjA4Y2I5NGUxNTg0YWRjOGYyZDg3ZmEwMzEyNGVhNSA9IEwubWFya2VyKAogICAgICAgICAgICAgICAgWzUzLjUyODQ2ODk5OTk5OTk5NCwgLTYuMDkxMjgwOTk5OTk5OTk5NV0sCiAgICAgICAgICAgICAgICB7fQogICAgICAgICAgICApLmFkZFRvKG1hcF8yNTY4ZmU0MzQ4MjY0ODJhYWNkYWZhZDZkN2RlNzUxYik7CiAgICAgICAgCiAgICAKICAgICAgICAgICAgdmFyIG1hcmtlcl9hNmZjNjEwZjBiNTU0OTA3OGU2ZWVmZThlOWY3MzNlYSA9IEwubWFya2VyKAogICAgICAgICAgICAgICAgWzUzLjUyODQ2ODk5OTk5OTk5NCwgLTYuMDkxMjgwOTk5OTk5OTk5NV0sCiAgICAgICAgICAgICAgICB7fQogICAgICAgICAgICApLmFkZFRvKG1hcF8yNTY4ZmU0MzQ4MjY0ODJhYWNkYWZhZDZkN2RlNzUxYik7CiAgICAgICAgCiAgICAKICAgICAgICAgICAgdmFyIG1hcmtlcl84NjdlYjRlOTJkYWI0OWQzYWU2OTlhZjFkM2Q5OTc2ZCA9IEwubWFya2VyKAogICAgICAgICAgICAgICAgWzUzLjUzMTMsIC02LjA5MTQ4OV0sCiAgICAgICAgICAgICAgICB7fQogICAgICAgICAgICApLmFkZFRvKG1hcF8yNTY4ZmU0MzQ4MjY0ODJhYWNkYWZhZDZkN2RlNzUxYik7CiAgICAgICAgCiAgICAKICAgICAgICAgICAgdmFyIG1hcmtlcl80ZDhiODljMTlhZDk0MDk3ODMxYzAxNWNhNjdiNTE4NSA9IEwubWFya2VyKAogICAgICAgICAgICAgICAgWzUzLjUzMjc0MjAwMDAwMDAwNiwgLTYuMDkxMDQzXSwKICAgICAgICAgICAgICAgIHt9CiAgICAgICAgICAgICkuYWRkVG8obWFwXzI1NjhmZTQzNDgyNjQ4MmFhY2RhZmFkNmQ3ZGU3NTFiKTsKICAgICAgICAKICAgIAogICAgICAgICAgICB2YXIgbWFya2VyXzkyNmVmYzI4NjIxZTQ3N2Y5NGI1OGExOGVmNDRmOGZjID0gTC5tYXJrZXIoCiAgICAgICAgICAgICAgICBbNTMuNTMyNzQyMDAwMDAwMDA2LCAtNi4wOTEwNDNdLAogICAgICAgICAgICAgICAge30KICAgICAgICAgICAgKS5hZGRUbyhtYXBfMjU2OGZlNDM0ODI2NDgyYWFjZGFmYWQ2ZDdkZTc1MWIpOwogICAgICAgIAogICAgCiAgICAgICAgICAgIHZhciBtYXJrZXJfOWY0OTU1MDQyNWU4NDk1NmE1NDZiODM0YjA5MTEzNDcgPSBMLm1hcmtlcigKICAgICAgICAgICAgICAgIFs1My41MzU5LCAtNi4wOTAyNDddLAogICAgICAgICAgICAgICAge30KICAgICAgICAgICAgKS5hZGRUbyhtYXBfMjU2OGZlNDM0ODI2NDgyYWFjZGFmYWQ2ZDdkZTc1MWIpOwogICAgICAgIAogICAgCiAgICAgICAgICAgIHZhciBtYXJrZXJfNzNlZDdhMDc1NDgyNDg1OWE4NDEyZmE4MmFhYWUzNzIgPSBMLm1hcmtlcigKICAgICAgICAgICAgICAgIFs1My41MzU5LCAtNi4wOTAyNDddLAogICAgICAgICAgICAgICAge30KICAgICAgICAgICAgKS5hZGRUbyhtYXBfMjU2OGZlNDM0ODI2NDgyYWFjZGFmYWQ2ZDdkZTc1MWIpOwogICAgICAgIAogICAgCiAgICAgICAgICAgIHZhciBtYXJrZXJfODc5NzA4OTdkYzEyNGE2ZTllYTVlYzVjYjdkZjhiNTEgPSBMLm1hcmtlcigKICAgICAgICAgICAgICAgIFs1My41NDA2MjcsIC02LjA5NDIzMzk5OTk5OTk5OV0sCiAgICAgICAgICAgICAgICB7fQogICAgICAgICAgICApLmFkZFRvKG1hcF8yNTY4ZmU0MzQ4MjY0ODJhYWNkYWZhZDZkN2RlNzUxYik7CiAgICAgICAgCiAgICAKICAgICAgICAgICAgdmFyIG1hcmtlcl9jNTI0YWJkZWFhZmI0NzVlYTdiZDIzOTcyN2M2MTRhNSA9IEwubWFya2VyKAogICAgICAgICAgICAgICAgWzUzLjU0MzUzNywgLTYuMDk3NDg1XSwKICAgICAgICAgICAgICAgIHt9CiAgICAgICAgICAgICkuYWRkVG8obWFwXzI1NjhmZTQzNDgyNjQ4MmFhY2RhZmFkNmQ3ZGU3NTFiKTsKICAgICAgICAKICAgIAogICAgICAgICAgICB2YXIgbWFya2VyX2Y4YzQwYjFkMTE0ZTRjOGI4NGUxZTUyZGU5YTE5NDU1ID0gTC5tYXJrZXIoCiAgICAgICAgICAgICAgICBbNTMuNTQzNTM3LCAtNi4wOTc0ODVdLAogICAgICAgICAgICAgICAge30KICAgICAgICAgICAgKS5hZGRUbyhtYXBfMjU2OGZlNDM0ODI2NDgyYWFjZGFmYWQ2ZDdkZTc1MWIpOwogICAgICAgIAogICAgCiAgICAgICAgICAgIHZhciBtYXJrZXJfNGNhOGM5MDBjNzhjNGFiMjhmNTVkZmU3ZmNjOGFmZTYgPSBMLm1hcmtlcigKICAgICAgICAgICAgICAgIFs1My41NDQzMDQwMDAwMDAwMDQsIC02LjA5ODM0MTAwMDAwMDAwMDVdLAogICAgICAgICAgICAgICAge30KICAgICAgICAgICAgKS5hZGRUbyhtYXBfMjU2OGZlNDM0ODI2NDgyYWFjZGFmYWQ2ZDdkZTc1MWIpOwogICAgICAgIAogICAgCiAgICAgICAgICAgIHZhciBtYXJrZXJfNDUzMDZlYThmZjM0NDM0YWJiZDU0OGRjYWM5ZjhlNTIgPSBMLm1hcmtlcigKICAgICAgICAgICAgICAgIFs1My41NDQzMDQwMDAwMDAwMDQsIC02LjA5ODM0MTAwMDAwMDAwMDVdLAogICAgICAgICAgICAgICAge30KICAgICAgICAgICAgKS5hZGRUbyhtYXBfMjU2OGZlNDM0ODI2NDgyYWFjZGFmYWQ2ZDdkZTc1MWIpOwogICAgICAgIAogICAgCiAgICAgICAgICAgIHZhciBtYXJrZXJfNWIyM2VhZWExOWVjNDZjOTk1MmMyMDE0ODZlZjM2OWMgPSBMLm1hcmtlcigKICAgICAgICAgICAgICAgIFs1My41NDc1NTc5OTk5OTk5OTUsIC02LjEwMTMxNTAwMDAwMDAwMDVdLAogICAgICAgICAgICAgICAge30KICAgICAgICAgICAgKS5hZGRUbyhtYXBfMjU2OGZlNDM0ODI2NDgyYWFjZGFmYWQ2ZDdkZTc1MWIpOwogICAgICAgIAogICAgCiAgICAgICAgICAgIHZhciBtYXJrZXJfZGM2MjYzN2JhNjRkNGQyZDkwNzM3ZDgxNjJiOTM5YzUgPSBMLm1hcmtlcigKICAgICAgICAgICAgICAgIFs1My41NDg2NDksIC02LjEwMTUzNl0sCiAgICAgICAgICAgICAgICB7fQogICAgICAgICAgICApLmFkZFRvKG1hcF8yNTY4ZmU0MzQ4MjY0ODJhYWNkYWZhZDZkN2RlNzUxYik7CiAgICAgICAgCiAgICAKICAgICAgICAgICAgdmFyIG1hcmtlcl85MzI4OWQ2YWFkZTk0ODU3ODU2NmIxYjA4OGQyOGUyNyA9IEwubWFya2VyKAogICAgICAgICAgICAgICAgWzUzLjU0ODY0OSwgLTYuMTAxNTM2XSwKICAgICAgICAgICAgICAgIHt9CiAgICAgICAgICAgICkuYWRkVG8obWFwXzI1NjhmZTQzNDgyNjQ4MmFhY2RhZmFkNmQ3ZGU3NTFiKTsKICAgICAgICAKICAgIAogICAgICAgICAgICB2YXIgbWFya2VyX2I5MzE4ZGFjZWIzYjQwZTE5MjVlMDA3ODBiOTIwNWYxID0gTC5tYXJrZXIoCiAgICAgICAgICAgICAgICBbNTMuNTUxNjkzMDAwMDAwMDEsIC02LjEwMjEwOV0sCiAgICAgICAgICAgICAgICB7fQogICAgICAgICAgICApLmFkZFRvKG1hcF8yNTY4ZmU0MzQ4MjY0ODJhYWNkYWZhZDZkN2RlNzUxYik7CiAgICAgICAgCiAgICAKICAgICAgICAgICAgdmFyIG1hcmtlcl80NjkyMTY4ZGIwMWY0MmMyYjYzZGY4MzZhZGUxNjBiYSA9IEwubWFya2VyKAogICAgICAgICAgICAgICAgWzUzLjU1MTY5MzAwMDAwMDAxLCAtNi4xMDIxMDldLAogICAgICAgICAgICAgICAge30KICAgICAgICAgICAgKS5hZGRUbyhtYXBfMjU2OGZlNDM0ODI2NDgyYWFjZGFmYWQ2ZDdkZTc1MWIpOwogICAgICAgIAogICAgCiAgICAgICAgICAgIHZhciBtYXJrZXJfNDdiNzFmMjBjZmM3NDE5Zjg1MDMyMmRjMmIzN2I0YzUgPSBMLm1hcmtlcigKICAgICAgICAgICAgICAgIFs1My41NTUxOTUsIC02LjEwMTc1XSwKICAgICAgICAgICAgICAgIHt9CiAgICAgICAgICAgICkuYWRkVG8obWFwXzI1NjhmZTQzNDgyNjQ4MmFhY2RhZmFkNmQ3ZGU3NTFiKTsKICAgICAgICAKICAgIAogICAgICAgICAgICB2YXIgbWFya2VyXzFlMDI4NDk1ZGJiMzQ3MTFiMmIxMmZlNjkyYmZlZjViID0gTC5tYXJrZXIoCiAgICAgICAgICAgICAgICBbNTMuNTU1MTk1LCAtNi4xMDE3NV0sCiAgICAgICAgICAgICAgICB7fQogICAgICAgICAgICApLmFkZFRvKG1hcF8yNTY4ZmU0MzQ4MjY0ODJhYWNkYWZhZDZkN2RlNzUxYik7CiAgICAgICAgCiAgICAKICAgICAgICAgICAgdmFyIG1hcmtlcl83MzU1Mjg2YjNmMGE0NjBjOThiNGE2MTY3OTY4YWM2ZCA9IEwubWFya2VyKAogICAgICAgICAgICAgICAgWzUzLjU1NTM5MywgLTYuMTAxNzI4XSwKICAgICAgICAgICAgICAgIHt9CiAgICAgICAgICAgICkuYWRkVG8obWFwXzI1NjhmZTQzNDgyNjQ4MmFhY2RhZmFkNmQ3ZGU3NTFiKTsKICAgICAgICAKICAgIAogICAgICAgICAgICB2YXIgbWFya2VyXzdhYzYzMDQyODk5OTRiMjlhNDgzZDY1ZTFmODM4NDg5ID0gTC5tYXJrZXIoCiAgICAgICAgICAgICAgICBbNTMuNTU1MzkzLCAtNi4xMDE3MjhdLAogICAgICAgICAgICAgICAge30KICAgICAgICAgICAgKS5hZGRUbyhtYXBfMjU2OGZlNDM0ODI2NDgyYWFjZGFmYWQ2ZDdkZTc1MWIpOwogICAgICAgIAogICAgCiAgICAgICAgICAgIHZhciBtYXJrZXJfODZlMTQ0YmNlM2U4NDFlNmI2ZGZhNTk5MzlmNjk1MzQgPSBMLm1hcmtlcigKICAgICAgICAgICAgICAgIFs1My41NTUzOTMsIC02LjEwMTcyOF0sCiAgICAgICAgICAgICAgICB7fQogICAgICAgICAgICApLmFkZFRvKG1hcF8yNTY4ZmU0MzQ4MjY0ODJhYWNkYWZhZDZkN2RlNzUxYik7CiAgICAgICAgCiAgICAKICAgICAgICAgICAgdmFyIG1hcmtlcl85M2QyOTBjYjUxMDg0Y2VmOWQ2MjYxODRkZmE0MjIxOSA9IEwubWFya2VyKAogICAgICAgICAgICAgICAgWzUzLjU1NTQ3MywgLTYuMTAxNzE5XSwKICAgICAgICAgICAgICAgIHt9CiAgICAgICAgICAgICkuYWRkVG8obWFwXzI1NjhmZTQzNDgyNjQ4MmFhY2RhZmFkNmQ3ZGU3NTFiKTsKICAgICAgICAKICAgIAogICAgICAgICAgICB2YXIgbWFya2VyX2Y3YTNiZDFmMWQ2MDQ3MWNhNmQ1ODNjNTQxYjhiNjdmID0gTC5tYXJrZXIoCiAgICAgICAgICAgICAgICBbNTMuNTU1NDczLCAtNi4xMDE3MTldLAogICAgICAgICAgICAgICAge30KICAgICAgICAgICAgKS5hZGRUbyhtYXBfMjU2OGZlNDM0ODI2NDgyYWFjZGFmYWQ2ZDdkZTc1MWIpOwogICAgICAgIAogICAgCiAgICAgICAgICAgIHZhciBtYXJrZXJfYmUwNDFlNGU0NGY2NGQ2N2JmNTk1YWFhMTc2MWNlZjMgPSBMLm1hcmtlcigKICAgICAgICAgICAgICAgIFs1My41NTU4MjQsIC02LjEwMTY4XSwKICAgICAgICAgICAgICAgIHt9CiAgICAgICAgICAgICkuYWRkVG8obWFwXzI1NjhmZTQzNDgyNjQ4MmFhY2RhZmFkNmQ3ZGU3NTFiKTsKICAgICAgICAKICAgIAogICAgICAgICAgICB2YXIgbWFya2VyXzUwMTg3MjE1NGVkZTQ3MzViZjFiNjBlZDViNjFlODRmID0gTC5tYXJrZXIoCiAgICAgICAgICAgICAgICBbNTMuNTU4NjQzMDAwMDAwMDA0LCAtNi4xMDI1NDVdLAogICAgICAgICAgICAgICAge30KICAgICAgICAgICAgKS5hZGRUbyhtYXBfMjU2OGZlNDM0ODI2NDgyYWFjZGFmYWQ2ZDdkZTc1MWIpOwogICAgICAgIAogICAgCiAgICAgICAgICAgIHZhciBtYXJrZXJfMWIyNmNmZGQxMTFhNGVjYWE0ZWZjN2I0NmUxYjdhMTYgPSBMLm1hcmtlcigKICAgICAgICAgICAgICAgIFs1My41NTg2NDMwMDAwMDAwMDQsIC02LjEwMjU0NV0sCiAgICAgICAgICAgICAgICB7fQogICAgICAgICAgICApLmFkZFRvKG1hcF8yNTY4ZmU0MzQ4MjY0ODJhYWNkYWZhZDZkN2RlNzUxYik7CiAgICAgICAgCiAgICAKICAgICAgICAgICAgdmFyIG1hcmtlcl9hMGIwMDUyZDczYTY0ZDNhYjRiNGNjMzIzODc0MDIwMSA9IEwubWFya2VyKAogICAgICAgICAgICAgICAgWzUzLjU1ODY0MzAwMDAwMDAwNCwgLTYuMTAyNTQ1XSwKICAgICAgICAgICAgICAgIHt9CiAgICAgICAgICAgICkuYWRkVG8obWFwXzI1NjhmZTQzNDgyNjQ4MmFhY2RhZmFkNmQ3ZGU3NTFiKTsKICAgICAgICAKICAgIAogICAgICAgICAgICB2YXIgbWFya2VyX2MyNTc4OGExNWFhODQ3ZDViNTE4N2I3YmY2MjFlNDZkID0gTC5tYXJrZXIoCiAgICAgICAgICAgICAgICBbNTMuNTU4NjQzMDAwMDAwMDA0LCAtNi4xMDI1NDVdLAogICAgICAgICAgICAgICAge30KICAgICAgICAgICAgKS5hZGRUbyhtYXBfMjU2OGZlNDM0ODI2NDgyYWFjZGFmYWQ2ZDdkZTc1MWIpOwogICAgICAgIAogICAgCiAgICAgICAgICAgIHZhciBtYXJrZXJfNmMzNTcxM2Y3MDhkNDQyYWFiYjY4NmM0YjFlNzVmZWIgPSBMLm1hcmtlcigKICAgICAgICAgICAgICAgIFs1My41NTg2Njk5OTk5OTk5OSwgLTYuMTAyNTU2XSwKICAgICAgICAgICAgICAgIHt9CiAgICAgICAgICAgICkuYWRkVG8obWFwXzI1NjhmZTQzNDgyNjQ4MmFhY2RhZmFkNmQ3ZGU3NTFiKTsKICAgICAgICAKICAgIAogICAgICAgICAgICB2YXIgbWFya2VyX2M5OTY0YWZiYTllOTQ2MjRhOGE4MDMzNTE0OTM3ZTAwID0gTC5tYXJrZXIoCiAgICAgICAgICAgICAgICBbNTMuNTU4NjY5OTk5OTk5OTksIC02LjEwMjU1Nl0sCiAgICAgICAgICAgICAgICB7fQogICAgICAgICAgICApLmFkZFRvKG1hcF8yNTY4ZmU0MzQ4MjY0ODJhYWNkYWZhZDZkN2RlNzUxYik7CiAgICAgICAgCiAgICAKICAgICAgICAgICAgdmFyIG1hcmtlcl8wN2EzMmZlNmRhYTk0OGRmODIwZTNmZjRiN2E1ZTRiYiA9IEwubWFya2VyKAogICAgICAgICAgICAgICAgWzUzLjU1ODY2OTk5OTk5OTk5LCAtNi4xMDI1NTZdLAogICAgICAgICAgICAgICAge30KICAgICAgICAgICAgKS5hZGRUbyhtYXBfMjU2OGZlNDM0ODI2NDgyYWFjZGFmYWQ2ZDdkZTc1MWIpOwogICAgICAgIAogICAgCiAgICAgICAgICAgIHZhciBtYXJrZXJfM2NkODI2YjY2NWRhNGUwNzg2MTJjZDFkMzYxMWVjOGIgPSBMLm1hcmtlcigKICAgICAgICAgICAgICAgIFs1My41NTg4MTUsIC02LjEwMjYzMV0sCiAgICAgICAgICAgICAgICB7fQogICAgICAgICAgICApLmFkZFRvKG1hcF8yNTY4ZmU0MzQ4MjY0ODJhYWNkYWZhZDZkN2RlNzUxYik7CiAgICAgICAgCiAgICAKICAgICAgICAgICAgdmFyIG1hcmtlcl8wNjUxM2U2OGFhZjg0ZDQ5ODM4NWVjMTJkMjNjZjFmMCA9IEwubWFya2VyKAogICAgICAgICAgICAgICAgWzUzLjU1ODgxNSwgLTYuMTAyNjMxXSwKICAgICAgICAgICAgICAgIHt9CiAgICAgICAgICAgICkuYWRkVG8obWFwXzI1NjhmZTQzNDgyNjQ4MmFhY2RhZmFkNmQ3ZGU3NTFiKTsKICAgICAgICAKICAgIAogICAgICAgICAgICB2YXIgbWFya2VyXzE1NjQ3MDgxMzc0NzQxZTE5MDY0OTIyYzEwNDYwNGZmID0gTC5tYXJrZXIoCiAgICAgICAgICAgICAgICBbNTMuNTU5MzgzLCAtNi4xMDMwNzhdLAogICAgICAgICAgICAgICAge30KICAgICAgICAgICAgKS5hZGRUbyhtYXBfMjU2OGZlNDM0ODI2NDgyYWFjZGFmYWQ2ZDdkZTc1MWIpOwogICAgICAgIAogICAgCiAgICAgICAgICAgIHZhciBtYXJrZXJfNjc1MGNjNTE5ZmY5NGZmNmIwYzE4MjZmMmU3ZWMxMGIgPSBMLm1hcmtlcigKICAgICAgICAgICAgICAgIFs1My41NTkzODMsIC02LjEwMzA3OF0sCiAgICAgICAgICAgICAgICB7fQogICAgICAgICAgICApLmFkZFRvKG1hcF8yNTY4ZmU0MzQ4MjY0ODJhYWNkYWZhZDZkN2RlNzUxYik7CiAgICAgICAgCiAgICAKICAgICAgICAgICAgdmFyIG1hcmtlcl9kYTI3MmE3YTQ4ZGM0ZWEzYjNhYWM5MWY0MGRiNGU0MyA9IEwubWFya2VyKAogICAgICAgICAgICAgICAgWzUzLjU1OTM4MywgLTYuMTAzMDc4XSwKICAgICAgICAgICAgICAgIHt9CiAgICAgICAgICAgICkuYWRkVG8obWFwXzI1NjhmZTQzNDgyNjQ4MmFhY2RhZmFkNmQ3ZGU3NTFiKTsKICAgICAgICAKICAgIAogICAgICAgICAgICB2YXIgbWFya2VyX2EwZjYxOTZjNjJkMjQxMDBiMDA3M2MyY2Y5YjhmNTUyID0gTC5tYXJrZXIoCiAgICAgICAgICAgICAgICBbNTMuNTU5MzgzLCAtNi4xMDMwNzhdLAogICAgICAgICAgICAgICAge30KICAgICAgICAgICAgKS5hZGRUbyhtYXBfMjU2OGZlNDM0ODI2NDgyYWFjZGFmYWQ2ZDdkZTc1MWIpOwogICAgICAgIAogICAgCiAgICAgICAgICAgIHZhciBtYXJrZXJfMDk4YzZmYzg2ZThiNDM1MTg3OGM1ZmY3YzBjMzVmM2YgPSBMLm1hcmtlcigKICAgICAgICAgICAgICAgIFs1My41NTkzODMsIC02LjEwMzA3OF0sCiAgICAgICAgICAgICAgICB7fQogICAgICAgICAgICApLmFkZFRvKG1hcF8yNTY4ZmU0MzQ4MjY0ODJhYWNkYWZhZDZkN2RlNzUxYik7CiAgICAgICAgCiAgICAKICAgICAgICAgICAgdmFyIG1hcmtlcl8yOGQzZTA5N2ZmODY0ZTdiOGNlNzczY2RlN2Q0ODA0NSA9IEwubWFya2VyKAogICAgICAgICAgICAgICAgWzUzLjU1OTM4MywgLTYuMTAzMDc4XSwKICAgICAgICAgICAgICAgIHt9CiAgICAgICAgICAgICkuYWRkVG8obWFwXzI1NjhmZTQzNDgyNjQ4MmFhY2RhZmFkNmQ3ZGU3NTFiKTsKICAgICAgICAKICAgIAogICAgICAgICAgICB2YXIgbWFya2VyXzJkMTE5MDIwMmQ5MjRlM2ZiYzkxNGY2M2QwMWNlZGU5ID0gTC5tYXJrZXIoCiAgICAgICAgICAgICAgICBbNTMuNTU5MzgzLCAtNi4xMDMwNzhdLAogICAgICAgICAgICAgICAge30KICAgICAgICAgICAgKS5hZGRUbyhtYXBfMjU2OGZlNDM0ODI2NDgyYWFjZGFmYWQ2ZDdkZTc1MWIpOwogICAgICAgIAogICAgCiAgICAgICAgICAgIHZhciBtYXJrZXJfOWNhOGQ3NmNkNThjNGFlM2JlZDBmNDM2MDI3MDEwOTYgPSBMLm1hcmtlcigKICAgICAgICAgICAgICAgIFs1My41NTkzODMsIC02LjEwMzA3OF0sCiAgICAgICAgICAgICAgICB7fQogICAgICAgICAgICApLmFkZFRvKG1hcF8yNTY4ZmU0MzQ4MjY0ODJhYWNkYWZhZDZkN2RlNzUxYik7CiAgICAgICAgCiAgICAKICAgICAgICAgICAgdmFyIG1hcmtlcl9hNDIxMTA5ZjdhZDg0NTE0YmY4MzlmMTk0YjhhMDA0NCA9IEwubWFya2VyKAogICAgICAgICAgICAgICAgWzUzLjU2MDI4Mzk5OTk5OTk5NiwgLTYuMTAzNzEyMDAwMDAwMDAxXSwKICAgICAgICAgICAgICAgIHt9CiAgICAgICAgICAgICkuYWRkVG8obWFwXzI1NjhmZTQzNDgyNjQ4MmFhY2RhZmFkNmQ3ZGU3NTFiKTsKICAgICAgICAKICAgIAogICAgICAgICAgICB2YXIgbWFya2VyX2RmN2Y4ZjQ1OWRmNjRkN2ViMTNlYTIxODMxYjhhNDBmID0gTC5tYXJrZXIoCiAgICAgICAgICAgICAgICBbNTMuNTYwMjgzOTk5OTk5OTk2LCAtNi4xMDM3MTIwMDAwMDAwMDFdLAogICAgICAgICAgICAgICAge30KICAgICAgICAgICAgKS5hZGRUbyhtYXBfMjU2OGZlNDM0ODI2NDgyYWFjZGFmYWQ2ZDdkZTc1MWIpOwogICAgICAgIAogICAgCiAgICAgICAgICAgIHZhciBtYXJrZXJfYjU3M2MxZWYxMWRmNDc4NjgyODk1NWQxOWU3ODBjYzMgPSBMLm1hcmtlcigKICAgICAgICAgICAgICAgIFs1My41NjIzNzgsIC02LjEwMzQ3Mzk5OTk5OTk5OV0sCiAgICAgICAgICAgICAgICB7fQogICAgICAgICAgICApLmFkZFRvKG1hcF8yNTY4ZmU0MzQ4MjY0ODJhYWNkYWZhZDZkN2RlNzUxYik7CiAgICAgICAgCiAgICAKICAgICAgICAgICAgdmFyIG1hcmtlcl8wY2YzYjAxMjNhZjU0ZjkxYmU0N2RlYmI3MzllODMxYyA9IEwubWFya2VyKAogICAgICAgICAgICAgICAgWzUzLjU2MzM2MiwgLTYuMTAzMjE2MDAwMDAwMDAxXSwKICAgICAgICAgICAgICAgIHt9CiAgICAgICAgICAgICkuYWRkVG8obWFwXzI1NjhmZTQzNDgyNjQ4MmFhY2RhZmFkNmQ3ZGU3NTFiKTsKICAgICAgICAKICAgIAogICAgICAgICAgICB2YXIgbWFya2VyX2FiNDI4NDZhNzFkZTQ2MjdiODk5MmYyZTc1ZTcwYzhmID0gTC5tYXJrZXIoCiAgICAgICAgICAgICAgICBbNTMuNTYzMzYyLCAtNi4xMDMyMTYwMDAwMDAwMDFdLAogICAgICAgICAgICAgICAge30KICAgICAgICAgICAgKS5hZGRUbyhtYXBfMjU2OGZlNDM0ODI2NDgyYWFjZGFmYWQ2ZDdkZTc1MWIpOwogICAgICAgIAogICAgCiAgICAgICAgICAgIHZhciBtYXJrZXJfZmI5ZTY3ZTA2Yzg4NDg5ZDhkNTJhZDA4N2VhNTVhNzkgPSBMLm1hcmtlcigKICAgICAgICAgICAgICAgIFs1My41NjQ5MDcsIC02LjEwMjcyMl0sCiAgICAgICAgICAgICAgICB7fQogICAgICAgICAgICApLmFkZFRvKG1hcF8yNTY4ZmU0MzQ4MjY0ODJhYWNkYWZhZDZkN2RlNzUxYik7CiAgICAgICAgCiAgICAKICAgICAgICAgICAgdmFyIG1hcmtlcl8yM2Y1ZTVlNmMwNzE0MTBiOWRlM2IwZGZkZGM0ZDBmYSA9IEwubWFya2VyKAogICAgICAgICAgICAgICAgWzUzLjU2NDkwNywgLTYuMTAyNzIyXSwKICAgICAgICAgICAgICAgIHt9CiAgICAgICAgICAgICkuYWRkVG8obWFwXzI1NjhmZTQzNDgyNjQ4MmFhY2RhZmFkNmQ3ZGU3NTFiKTsKICAgICAgICAKICAgIAogICAgICAgICAgICB2YXIgbWFya2VyXzExNmYwYjgwZDcxZTRiM2Y4ZmVjZDQ3ZjFjMmNkYmRmID0gTC5tYXJrZXIoCiAgICAgICAgICAgICAgICBbNTMuNTY2NDc5LCAtNi4xMDIyNDNdLAogICAgICAgICAgICAgICAge30KICAgICAgICAgICAgKS5hZGRUbyhtYXBfMjU2OGZlNDM0ODI2NDgyYWFjZGFmYWQ2ZDdkZTc1MWIpOwogICAgICAgIAogICAgCiAgICAgICAgICAgIHZhciBtYXJrZXJfYjUyYjViNDM5ZWQ3NGQzZWJlMjhkZDdhNGRiZGNmZjcgPSBMLm1hcmtlcigKICAgICAgICAgICAgICAgIFs1My41NjY2MTk5OTk5OTk5OSwgLTYuMTAyMjAxXSwKICAgICAgICAgICAgICAgIHt9CiAgICAgICAgICAgICkuYWRkVG8obWFwXzI1NjhmZTQzNDgyNjQ4MmFhY2RhZmFkNmQ3ZGU3NTFiKTsKICAgICAgICAKICAgIAogICAgICAgICAgICB2YXIgbWFya2VyXzNiNjA5NzhkNTcwZTQ3MGJhOWM3NjNmNjQ1YzdlZDVmID0gTC5tYXJrZXIoCiAgICAgICAgICAgICAgICBbNTMuNTY2NjE5OTk5OTk5OTksIC02LjEwMjIwMV0sCiAgICAgICAgICAgICAgICB7fQogICAgICAgICAgICApLmFkZFRvKG1hcF8yNTY4ZmU0MzQ4MjY0ODJhYWNkYWZhZDZkN2RlNzUxYik7CiAgICAgICAgCiAgICAKICAgICAgICAgICAgdmFyIG1hcmtlcl8xZGYwNjBjYTFjNTM0N2ZmYjQyMTI3ZTI1MzkyYWM1MSA9IEwubWFya2VyKAogICAgICAgICAgICAgICAgWzUzLjU2NzA3NCwgLTYuMTAyMDY0XSwKICAgICAgICAgICAgICAgIHt9CiAgICAgICAgICAgICkuYWRkVG8obWFwXzI1NjhmZTQzNDgyNjQ4MmFhY2RhZmFkNmQ3ZGU3NTFiKTsKICAgICAgICAKICAgIAogICAgICAgICAgICB2YXIgbWFya2VyXzZkNzkwMGFiZmZiMjRhZWE5MTk0YzljMGY3YjA1NjAwID0gTC5tYXJrZXIoCiAgICAgICAgICAgICAgICBbNTMuNTY3MDc0LCAtNi4xMDIwNjRdLAogICAgICAgICAgICAgICAge30KICAgICAgICAgICAgKS5hZGRUbyhtYXBfMjU2OGZlNDM0ODI2NDgyYWFjZGFmYWQ2ZDdkZTc1MWIpOwogICAgICAgIAogICAgCiAgICAgICAgICAgIHZhciBtYXJrZXJfZTc0NTM1NmVhYmJmNDBhMzlhNzhlMDY1ZWY2Njk4NDIgPSBMLm1hcmtlcigKICAgICAgICAgICAgICAgIFs1My41Njc4MTQsIC02LjEwMTg0MTk5OTk5OTk5OTVdLAogICAgICAgICAgICAgICAge30KICAgICAgICAgICAgKS5hZGRUbyhtYXBfMjU2OGZlNDM0ODI2NDgyYWFjZGFmYWQ2ZDdkZTc1MWIpOwogICAgICAgIAogICAgCiAgICAgICAgICAgIHZhciBtYXJrZXJfYjVhZjkyZWQ5Mzc4NGE0MmE3MDk2NTM5NzU5NDMwNDcgPSBMLm1hcmtlcigKICAgICAgICAgICAgICAgIFs1My41Njg5NTc5OTk5OTk5OTUsIC02LjEwMTQ5OF0sCiAgICAgICAgICAgICAgICB7fQogICAgICAgICAgICApLmFkZFRvKG1hcF8yNTY4ZmU0MzQ4MjY0ODJhYWNkYWZhZDZkN2RlNzUxYik7CiAgICAgICAgCiAgICAKICAgICAgICAgICAgdmFyIG1hcmtlcl9jMmY1YTdlMmY3MWM0NDVjYjU0NzJiZTA2YWJmNjUyYiA9IEwubWFya2VyKAogICAgICAgICAgICAgICAgWzUzLjU3MTExLCAtNi4xMDA1NzA5OTk5OTk5OTk1XSwKICAgICAgICAgICAgICAgIHt9CiAgICAgICAgICAgICkuYWRkVG8obWFwXzI1NjhmZTQzNDgyNjQ4MmFhY2RhZmFkNmQ3ZGU3NTFiKTsKICAgICAgICAKICAgIAogICAgICAgICAgICB2YXIgbWFya2VyXzcyMDk4Mjc4MzYwZjQzNDM5OTk3YjQ4MWUwNWIwY2FiID0gTC5tYXJrZXIoCiAgICAgICAgICAgICAgICBbNTMuNTczMjk5LCAtNi4xMDIzNDg5OTk5OTk5OTldLAogICAgICAgICAgICAgICAge30KICAgICAgICAgICAgKS5hZGRUbyhtYXBfMjU2OGZlNDM0ODI2NDgyYWFjZGFmYWQ2ZDdkZTc1MWIpOwogICAgICAgIAogICAgCiAgICAgICAgICAgIHZhciBtYXJrZXJfYjA2ZDExYWJiM2FkNDcxZDg2NjdhOWQ5YjQ1NDM5YWMgPSBMLm1hcmtlcigKICAgICAgICAgICAgICAgIFs1My41NzQyMzgsIC02LjEwMzUzOV0sCiAgICAgICAgICAgICAgICB7fQogICAgICAgICAgICApLmFkZFRvKG1hcF8yNTY4ZmU0MzQ4MjY0ODJhYWNkYWZhZDZkN2RlNzUxYik7CiAgICAgICAgCiAgICAKICAgICAgICAgICAgdmFyIG1hcmtlcl9kMGY2YjNkOWJhN2Q0MzdjODI1MTlmYWM4NzdkNTQ1OSA9IEwubWFya2VyKAogICAgICAgICAgICAgICAgWzUzLjU3NDgwMjAwMDAwMDAwNSwgLTYuMTA0MTUxXSwKICAgICAgICAgICAgICAgIHt9CiAgICAgICAgICAgICkuYWRkVG8obWFwXzI1NjhmZTQzNDgyNjQ4MmFhY2RhZmFkNmQ3ZGU3NTFiKTsKICAgICAgICAKICAgIAogICAgICAgICAgICB2YXIgbWFya2VyX2RkYjE0MzVkMjdjZTQ3YjVhYmNkOWY5YjRjZmVlMTM5ID0gTC5tYXJrZXIoCiAgICAgICAgICAgICAgICBbNTMuNTc0ODAyMDAwMDAwMDA1LCAtNi4xMDQxNTFdLAogICAgICAgICAgICAgICAge30KICAgICAgICAgICAgKS5hZGRUbyhtYXBfMjU2OGZlNDM0ODI2NDgyYWFjZGFmYWQ2ZDdkZTc1MWIpOwogICAgICAgIAogICAgCiAgICAgICAgICAgIHZhciBtYXJrZXJfYWFhNzUxY2I1OWY0NDRjNzgzMzFmNzEwYTIzZjg0MmEgPSBMLm1hcmtlcigKICAgICAgICAgICAgICAgIFs1My41NzQ4MDIwMDAwMDAwMDUsIC02LjEwNDE1MV0sCiAgICAgICAgICAgICAgICB7fQogICAgICAgICAgICApLmFkZFRvKG1hcF8yNTY4ZmU0MzQ4MjY0ODJhYWNkYWZhZDZkN2RlNzUxYik7CiAgICAgICAgCiAgICAKICAgICAgICAgICAgdmFyIG1hcmtlcl8yYjNhNmVlNTI2YmU0MjE3YTg3NTEzZjJjNjZkYTgwMSA9IEwubWFya2VyKAogICAgICAgICAgICAgICAgWzUzLjU3NDgwMjAwMDAwMDAwNSwgLTYuMTA0MTUxXSwKICAgICAgICAgICAgICAgIHt9CiAgICAgICAgICAgICkuYWRkVG8obWFwXzI1NjhmZTQzNDgyNjQ4MmFhY2RhZmFkNmQ3ZGU3NTFiKTsKICAgICAgICAKICAgIAogICAgICAgICAgICB2YXIgbWFya2VyXzNlYjc3ZGMyOGM3ZTQ1NDQ5NjQzOTllZWYxNmU0ZTlmID0gTC5tYXJrZXIoCiAgICAgICAgICAgICAgICBbNTMuNTc0ODAyMDAwMDAwMDA1LCAtNi4xMDQxNTFdLAogICAgICAgICAgICAgICAge30KICAgICAgICAgICAgKS5hZGRUbyhtYXBfMjU2OGZlNDM0ODI2NDgyYWFjZGFmYWQ2ZDdkZTc1MWIpOwogICAgICAgIAogICAgCiAgICAgICAgICAgIHZhciBtYXJrZXJfYjUzZjJiZmM0MjMyNDYwNWIzYjg1ZTliY2UwMmU3ZDkgPSBMLm1hcmtlcigKICAgICAgICAgICAgICAgIFs1My41NzQ4MDIwMDAwMDAwMDUsIC02LjEwNDE1MV0sCiAgICAgICAgICAgICAgICB7fQogICAgICAgICAgICApLmFkZFRvKG1hcF8yNTY4ZmU0MzQ4MjY0ODJhYWNkYWZhZDZkN2RlNzUxYik7CiAgICAgICAgCiAgICAKICAgICAgICAgICAgdmFyIG1hcmtlcl85OGQ3NDM1ZDY0OTc0MWFlOWZhY2UwOTg3NTc1ODY1ZiA9IEwubWFya2VyKAogICAgICAgICAgICAgICAgWzUzLjU3NDgwMjAwMDAwMDAwNSwgLTYuMTA0MTUxXSwKICAgICAgICAgICAgICAgIHt9CiAgICAgICAgICAgICkuYWRkVG8obWFwXzI1NjhmZTQzNDgyNjQ4MmFhY2RhZmFkNmQ3ZGU3NTFiKTsKICAgICAgICAKICAgIAogICAgICAgICAgICB2YXIgbWFya2VyX2NmNGFlMGIzNjZkZDRlNTY4ZWNhMTQ3ZDM5ZGEwZDRmID0gTC5tYXJrZXIoCiAgICAgICAgICAgICAgICBbNTMuNTc0ODAyMDAwMDAwMDA1LCAtNi4xMDQxNTFdLAogICAgICAgICAgICAgICAge30KICAgICAgICAgICAgKS5hZGRUbyhtYXBfMjU2OGZlNDM0ODI2NDgyYWFjZGFmYWQ2ZDdkZTc1MWIpOwogICAgICAgIAogICAgCiAgICAgICAgICAgIHZhciBtYXJrZXJfNGQ2NzNhOTc2MWU1NDU3Y2EwYTllYjIzZTFkN2I3NDAgPSBMLm1hcmtlcigKICAgICAgICAgICAgICAgIFs1My41NzQ4MDIwMDAwMDAwMDUsIC02LjEwNDE1MV0sCiAgICAgICAgICAgICAgICB7fQogICAgICAgICAgICApLmFkZFRvKG1hcF8yNTY4ZmU0MzQ4MjY0ODJhYWNkYWZhZDZkN2RlNzUxYik7CiAgICAgICAgCiAgICAKICAgICAgICAgICAgdmFyIG1hcmtlcl83OGUyOGZlY2ZjZDA0ODFlYTQ2ZGE5MjU1ZDEyZTllNSA9IEwubWFya2VyKAogICAgICAgICAgICAgICAgWzUzLjU3NDgwMjAwMDAwMDAwNSwgLTYuMTA0MTUxXSwKICAgICAgICAgICAgICAgIHt9CiAgICAgICAgICAgICkuYWRkVG8obWFwXzI1NjhmZTQzNDgyNjQ4MmFhY2RhZmFkNmQ3ZGU3NTFiKTsKICAgICAgICAKICAgIAogICAgICAgICAgICB2YXIgbWFya2VyXzg0YmJhZTkxNDJkZDRlMWZiYjY4Njg3NTk3ZDA2YjhjID0gTC5tYXJrZXIoCiAgICAgICAgICAgICAgICBbNTMuNTc0ODAyMDAwMDAwMDA1LCAtNi4xMDQxNTFdLAogICAgICAgICAgICAgICAge30KICAgICAgICAgICAgKS5hZGRUbyhtYXBfMjU2OGZlNDM0ODI2NDgyYWFjZGFmYWQ2ZDdkZTc1MWIpOwogICAgICAgIAogICAgCiAgICAgICAgICAgIHZhciBtYXJrZXJfZDdhY2I4NDE3NGUyNDFlNWE5YmEwZTgyODFmYjA4NTkgPSBMLm1hcmtlcigKICAgICAgICAgICAgICAgIFs1My41NzQ4MDIwMDAwMDAwMDUsIC02LjEwNDE1MV0sCiAgICAgICAgICAgICAgICB7fQogICAgICAgICAgICApLmFkZFRvKG1hcF8yNTY4ZmU0MzQ4MjY0ODJhYWNkYWZhZDZkN2RlNzUxYik7CiAgICAgICAgCiAgICAKICAgICAgICAgICAgdmFyIG1hcmtlcl82YmNjZTk1OGJjOTg0YjM2OTUyYzk1ZjNkMmYyNjgzNSA9IEwubWFya2VyKAogICAgICAgICAgICAgICAgWzUzLjU3NDgwMjAwMDAwMDAwNSwgLTYuMTA0MTUxXSwKICAgICAgICAgICAgICAgIHt9CiAgICAgICAgICAgICkuYWRkVG8obWFwXzI1NjhmZTQzNDgyNjQ4MmFhY2RhZmFkNmQ3ZGU3NTFiKTsKICAgICAgICAKICAgIAogICAgICAgICAgICB2YXIgbWFya2VyX2UyZTM3NzAxNzJiMzQ3YjJiMDJkZTRjNWVkNGMyMjk4ID0gTC5tYXJrZXIoCiAgICAgICAgICAgICAgICBbNTMuNTc0ODAyMDAwMDAwMDA1LCAtNi4xMDQxNTFdLAogICAgICAgICAgICAgICAge30KICAgICAgICAgICAgKS5hZGRUbyhtYXBfMjU2OGZlNDM0ODI2NDgyYWFjZGFmYWQ2ZDdkZTc1MWIpOwogICAgICAgIAogICAgCiAgICAgICAgICAgIHZhciBtYXJrZXJfM2IyNjUxODkxN2Q5NDBiNTllMTljMDAyNzI5NzNkN2YgPSBMLm1hcmtlcigKICAgICAgICAgICAgICAgIFs1My41NzQ4MDIwMDAwMDAwMDUsIC02LjEwNDE1MV0sCiAgICAgICAgICAgICAgICB7fQogICAgICAgICAgICApLmFkZFRvKG1hcF8yNTY4ZmU0MzQ4MjY0ODJhYWNkYWZhZDZkN2RlNzUxYik7CiAgICAgICAgCiAgICAKICAgICAgICAgICAgdmFyIG1hcmtlcl9hZTA3MGJmNmQ2MTM0YjE3OGQ4MTM5ZjY1NDg4Y2I3OCA9IEwubWFya2VyKAogICAgICAgICAgICAgICAgWzUzLjU3NDgwMjAwMDAwMDAwNSwgLTYuMTA0MTUxXSwKICAgICAgICAgICAgICAgIHt9CiAgICAgICAgICAgICkuYWRkVG8obWFwXzI1NjhmZTQzNDgyNjQ4MmFhY2RhZmFkNmQ3ZGU3NTFiKTsKICAgICAgICAKICAgIAogICAgICAgICAgICB2YXIgbWFya2VyX2EzYjQ5ZjFhZjY3YzQ0N2U5NDVmYjU0OWJmNjdiYzRhID0gTC5tYXJrZXIoCiAgICAgICAgICAgICAgICBbNTMuNTc0ODAyMDAwMDAwMDA1LCAtNi4xMDQxNTFdLAogICAgICAgICAgICAgICAge30KICAgICAgICAgICAgKS5hZGRUbyhtYXBfMjU2OGZlNDM0ODI2NDgyYWFjZGFmYWQ2ZDdkZTc1MWIpOwogICAgICAgIAogICAgCiAgICAgICAgICAgIHZhciBtYXJrZXJfMThiZWYwN2Q3OTUzNDQ3YWE0MmRkYzRlMjRkZTE2OWIgPSBMLm1hcmtlcigKICAgICAgICAgICAgICAgIFs1My41NzQ4MDIwMDAwMDAwMDUsIC02LjEwNDE1MV0sCiAgICAgICAgICAgICAgICB7fQogICAgICAgICAgICApLmFkZFRvKG1hcF8yNTY4ZmU0MzQ4MjY0ODJhYWNkYWZhZDZkN2RlNzUxYik7CiAgICAgICAgCiAgICAKICAgICAgICAgICAgdmFyIG1hcmtlcl8zNjM0Mjk2NmM1OWM0ODYwOWZlZmY4MThjNzRjYjM4MSA9IEwubWFya2VyKAogICAgICAgICAgICAgICAgWzUzLjU3NDgwMjAwMDAwMDAwNSwgLTYuMTA0MTUxXSwKICAgICAgICAgICAgICAgIHt9CiAgICAgICAgICAgICkuYWRkVG8obWFwXzI1NjhmZTQzNDgyNjQ4MmFhY2RhZmFkNmQ3ZGU3NTFiKTsKICAgICAgICAKICAgIAogICAgICAgICAgICB2YXIgbWFya2VyX2U3NzBhZDhjNWE2YTQ4M2I5ZWRlNDVkY2M3YTAyYjYyID0gTC5tYXJrZXIoCiAgICAgICAgICAgICAgICBbNTMuNTc0ODAyMDAwMDAwMDA1LCAtNi4xMDQxNTFdLAogICAgICAgICAgICAgICAge30KICAgICAgICAgICAgKS5hZGRUbyhtYXBfMjU2OGZlNDM0ODI2NDgyYWFjZGFmYWQ2ZDdkZTc1MWIpOwogICAgICAgIAogICAgCiAgICAgICAgICAgIHZhciBtYXJrZXJfMjIzYWY3ZTM0NzFhNGFjODk1Y2FkYTZhY2JlZTRhNGMgPSBMLm1hcmtlcigKICAgICAgICAgICAgICAgIFs1My41NzQ4MDIwMDAwMDAwMDUsIC02LjEwNDE1MV0sCiAgICAgICAgICAgICAgICB7fQogICAgICAgICAgICApLmFkZFRvKG1hcF8yNTY4ZmU0MzQ4MjY0ODJhYWNkYWZhZDZkN2RlNzUxYik7CiAgICAgICAgCiAgICAKICAgICAgICAgICAgdmFyIG1hcmtlcl9kODc0NjQxNjcyNDQ0Y2JhOTgzODAxMzJmNTUzYzM4ZSA9IEwubWFya2VyKAogICAgICAgICAgICAgICAgWzUzLjU3NDgwMjAwMDAwMDAwNSwgLTYuMTA0MTUxXSwKICAgICAgICAgICAgICAgIHt9CiAgICAgICAgICAgICkuYWRkVG8obWFwXzI1NjhmZTQzNDgyNjQ4MmFhY2RhZmFkNmQ3ZGU3NTFiKTsKICAgICAgICAKICAgIAogICAgICAgICAgICB2YXIgbWFya2VyXzMzMGYyZjQxZTE5NjQ1YThhMmQ2MDZhMzQwMTMyMjAwID0gTC5tYXJrZXIoCiAgICAgICAgICAgICAgICBbNTMuNTc0ODAyMDAwMDAwMDA1LCAtNi4xMDQxNTFdLAogICAgICAgICAgICAgICAge30KICAgICAgICAgICAgKS5hZGRUbyhtYXBfMjU2OGZlNDM0ODI2NDgyYWFjZGFmYWQ2ZDdkZTc1MWIpOwogICAgICAgIAogICAgCiAgICAgICAgICAgIHZhciBtYXJrZXJfNmIwODgwMmRjMjc2NDc4MmIwZWZkMGNiOTRhYzU3ZTQgPSBMLm1hcmtlcigKICAgICAgICAgICAgICAgIFs1My41NzQ4MDIwMDAwMDAwMDUsIC02LjEwNDE1MV0sCiAgICAgICAgICAgICAgICB7fQogICAgICAgICAgICApLmFkZFRvKG1hcF8yNTY4ZmU0MzQ4MjY0ODJhYWNkYWZhZDZkN2RlNzUxYik7CiAgICAgICAgCiAgICAKICAgICAgICAgICAgdmFyIG1hcmtlcl9iYWYxMTVmOWJlMzA0ZTU1YjA4MzNiMDI5NWU4MTRjMiA9IEwubWFya2VyKAogICAgICAgICAgICAgICAgWzUzLjU3NDgwMjAwMDAwMDAwNSwgLTYuMTA0MTUxXSwKICAgICAgICAgICAgICAgIHt9CiAgICAgICAgICAgICkuYWRkVG8obWFwXzI1NjhmZTQzNDgyNjQ4MmFhY2RhZmFkNmQ3ZGU3NTFiKTsKICAgICAgICAKICAgIAogICAgICAgICAgICB2YXIgbWFya2VyX2MzMGQzZWQ4ZTVkZDQ0ODQ5NGFhOWQwYTQ1Mjk4N2M4ID0gTC5tYXJrZXIoCiAgICAgICAgICAgICAgICBbNTMuNTc0ODAyMDAwMDAwMDA1LCAtNi4xMDQxNTFdLAogICAgICAgICAgICAgICAge30KICAgICAgICAgICAgKS5hZGRUbyhtYXBfMjU2OGZlNDM0ODI2NDgyYWFjZGFmYWQ2ZDdkZTc1MWIpOwogICAgICAgIAogICAgCiAgICAgICAgICAgIHZhciBtYXJrZXJfNzVjNDkxMDgyNDFiNGVhYmI1ZmJhZDcwODJiNTlkMDEgPSBMLm1hcmtlcigKICAgICAgICAgICAgICAgIFs1My4zMjE2ODE5OTk5OTk5OTYsIC02LjMzMTg4M10sCiAgICAgICAgICAgICAgICB7fQogICAgICAgICAgICApLmFkZFRvKG1hcF8yNTY4ZmU0MzQ4MjY0ODJhYWNkYWZhZDZkN2RlNzUxYik7CiAgICAgICAgCiAgICAKICAgICAgICAgICAgdmFyIG1hcmtlcl8zMmI4YzViYTU1OGI0YjA0YmQ5MGZhYmQ3YzkzYjAwZiA9IEwubWFya2VyKAogICAgICAgICAgICAgICAgWzUzLjUyMTk2NSwgLTYuMTQ4MDY3XSwKICAgICAgICAgICAgICAgIHt9CiAgICAgICAgICAgICkuYWRkVG8obWFwXzI1NjhmZTQzNDgyNjQ4MmFhY2RhZmFkNmQ3ZGU3NTFiKTsKICAgICAgICAKICAgIAogICAgICAgICAgICB2YXIgbWFya2VyXzI3MmQ5ZmE3NDM1ZTQ5MWNiOGI5YmY3YWMzZGIxNTUzID0gTC5tYXJrZXIoCiAgICAgICAgICAgICAgICBbNTMuMzIxNjgxOTk5OTk5OTk2LCAtNi4zMzE4ODNdLAogICAgICAgICAgICAgICAge30KICAgICAgICAgICAgKS5hZGRUbyhtYXBfMjU2OGZlNDM0ODI2NDgyYWFjZGFmYWQ2ZDdkZTc1MWIpOwogICAgICAgIAogICAgCiAgICAgICAgICAgIHZhciBtYXJrZXJfZTcyYWQ3MGFmNDBlNDcxOGIxYjdkN2U1NDlmY2NkZjIgPSBMLm1hcmtlcigKICAgICAgICAgICAgICAgIFs1My41MjEzNTEsIC02LjE0NDIzM10sCiAgICAgICAgICAgICAgICB7fQogICAgICAgICAgICApLmFkZFRvKG1hcF8yNTY4ZmU0MzQ4MjY0ODJhYWNkYWZhZDZkN2RlNzUxYik7CiAgICAgICAgCiAgICAKICAgICAgICAgICAgdmFyIG1hcmtlcl8zMzAzMmMxMTE1YzI0NjVlYWVlMjA3YzlmZGZkYjhmNiA9IEwubWFya2VyKAogICAgICAgICAgICAgICAgWzUzLjMyMTY2NzAwMDAwMDAwNSwgLTYuMzMxOV0sCiAgICAgICAgICAgICAgICB7fQogICAgICAgICAgICApLmFkZFRvKG1hcF8yNTY4ZmU0MzQ4MjY0ODJhYWNkYWZhZDZkN2RlNzUxYik7CiAgICAgICAgCiAgICAKICAgICAgICAgICAgdmFyIG1hcmtlcl8wMmQ0MDAxNmExNmY0MmIyOWI1NGE4Mzc1N2I2OWQ1NyA9IEwubWFya2VyKAogICAgICAgICAgICAgICAgWzUzLjMyMTY2NzAwMDAwMDAwNSwgLTYuMzMxOV0sCiAgICAgICAgICAgICAgICB7fQogICAgICAgICAgICApLmFkZFRvKG1hcF8yNTY4ZmU0MzQ4MjY0ODJhYWNkYWZhZDZkN2RlNzUxYik7CiAgICAgICAgCiAgICAKICAgICAgICAgICAgdmFyIG1hcmtlcl8xYTQxZDk3N2U5NTY0YzQ4OGNkZTJlYmYzNTAwMDAwOSA9IEwubWFya2VyKAogICAgICAgICAgICAgICAgWzUzLjMyMTcwMTAwMDAwMDAwNCwgLTYuMzMxODgzXSwKICAgICAgICAgICAgICAgIHt9CiAgICAgICAgICAgICkuYWRkVG8obWFwXzI1NjhmZTQzNDgyNjQ4MmFhY2RhZmFkNmQ3ZGU3NTFiKTsKICAgICAgICAKICAgIAogICAgICAgICAgICB2YXIgbWFya2VyXzlhZWI0NzYwNmVjMjQyZTM5Y2NmZjgwMGRiN2Q0MWZlID0gTC5tYXJrZXIoCiAgICAgICAgICAgICAgICBbNTMuMzIxNzAxMDAwMDAwMDA0LCAtNi4zMzE4ODNdLAogICAgICAgICAgICAgICAge30KICAgICAgICAgICAgKS5hZGRUbyhtYXBfMjU2OGZlNDM0ODI2NDgyYWFjZGFmYWQ2ZDdkZTc1MWIpOwogICAgICAgIAogICAgCiAgICAgICAgICAgIHZhciBtYXJrZXJfM2NhYjIxZmEyZDBiNGYyNzlmMzZiNDczOTJlOGJjOWUgPSBMLm1hcmtlcigKICAgICAgICAgICAgICAgIFs1My41MTg3NjgwMDAwMDAwMSwgLTYuMTMxOTY2OTk5OTk5OTk5NV0sCiAgICAgICAgICAgICAgICB7fQogICAgICAgICAgICApLmFkZFRvKG1hcF8yNTY4ZmU0MzQ4MjY0ODJhYWNkYWZhZDZkN2RlNzUxYik7CiAgICAgICAgCiAgICAKICAgICAgICAgICAgdmFyIG1hcmtlcl8xN2RhNTNiOGQyNmY0Mjc0OWQxYjc1NmY3Nzg2MzYxMSA9IEwubWFya2VyKAogICAgICAgICAgICAgICAgWzUzLjMyMTcwMTAwMDAwMDAwNCwgLTYuMzMxODgzXSwKICAgICAgICAgICAgICAgIHt9CiAgICAgICAgICAgICkuYWRkVG8obWFwXzI1NjhmZTQzNDgyNjQ4MmFhY2RhZmFkNmQ3ZGU3NTFiKTsKICAgICAgICAKICAgIAogICAgICAgICAgICB2YXIgbWFya2VyXzczMTc2OGUzYjA0YzRkOGY5NDcwNzFlOWFjZmZhZjMyID0gTC5tYXJrZXIoCiAgICAgICAgICAgICAgICBbNTMuMzIxNzAxMDAwMDAwMDA0LCAtNi4zMzE5XSwKICAgICAgICAgICAgICAgIHt9CiAgICAgICAgICAgICkuYWRkVG8obWFwXzI1NjhmZTQzNDgyNjQ4MmFhY2RhZmFkNmQ3ZGU3NTFiKTsKICAgICAgICAKICAgIAogICAgICAgICAgICB2YXIgbWFya2VyXzVjYTkyODQ3Zjk3MjRkNDU4ZTQ3ODEwYTUzZjJjMDIxID0gTC5tYXJrZXIoCiAgICAgICAgICAgICAgICBbNTMuNTE4MDUxLCAtNi4xMjQ5XSwKICAgICAgICAgICAgICAgIHt9CiAgICAgICAgICAgICkuYWRkVG8obWFwXzI1NjhmZTQzNDgyNjQ4MmFhY2RhZmFkNmQ3ZGU3NTFiKTsKICAgICAgICAKICAgIAogICAgICAgICAgICB2YXIgbWFya2VyXzAyOWNkMWM2ZDIyYjRjYmRiMzhiY2ZhNDY5MzUzNzE1ID0gTC5tYXJrZXIoCiAgICAgICAgICAgICAgICBbNTMuMzIxNzAxMDAwMDAwMDA0LCAtNi4zMzE4ODNdLAogICAgICAgICAgICAgICAge30KICAgICAgICAgICAgKS5hZGRUbyhtYXBfMjU2OGZlNDM0ODI2NDgyYWFjZGFmYWQ2ZDdkZTc1MWIpOwogICAgICAgIAogICAgCiAgICAgICAgICAgIHZhciBtYXJrZXJfYjdkNWU1YTRjMGI2NDdjYWFlZTE3ZjIyMTcyNDU0MzIgPSBMLm1hcmtlcigKICAgICAgICAgICAgICAgIFs1My41MTc3LCAtNi4xMjEwMTddLAogICAgICAgICAgICAgICAge30KICAgICAgICAgICAgKS5hZGRUbyhtYXBfMjU2OGZlNDM0ODI2NDgyYWFjZGFmYWQ2ZDdkZTc1MWIpOwogICAgICAgIAogICAgCiAgICAgICAgICAgIHZhciBtYXJrZXJfMWFlZjA1MzllMTQ4NDkwYWFjOGZiZDM3ZjRjNGU5NDggPSBMLm1hcmtlcigKICAgICAgICAgICAgICAgIFs1My4zMjE3MDEwMDAwMDAwMDQsIC02LjMzMTg4M10sCiAgICAgICAgICAgICAgICB7fQogICAgICAgICAgICApLmFkZFRvKG1hcF8yNTY4ZmU0MzQ4MjY0ODJhYWNkYWZhZDZkN2RlNzUxYik7CiAgICAgICAgCiAgICAKICAgICAgICAgICAgdmFyIG1hcmtlcl84MDBmZTVkNjI5YjM0MmJlYmI5OTBiNjU0MTE3OTE2YiA9IEwubWFya2VyKAogICAgICAgICAgICAgICAgWzUzLjMyMTY4MTk5OTk5OTk5NiwgLTYuMzMxODgzXSwKICAgICAgICAgICAgICAgIHt9CiAgICAgICAgICAgICkuYWRkVG8obWFwXzI1NjhmZTQzNDgyNjQ4MmFhY2RhZmFkNmQ3ZGU3NTFiKTsKICAgICAgICAKICAgIAogICAgICAgICAgICB2YXIgbWFya2VyXzAyNzdlOTg4YjdhODRjNjJiMmQ3NmJkZDhmMzQxOWNkID0gTC5tYXJrZXIoCiAgICAgICAgICAgICAgICBbNTMuNTE4OTE3LCAtNi4xMTYxNV0sCiAgICAgICAgICAgICAgICB7fQogICAgICAgICAgICApLmFkZFRvKG1hcF8yNTY4ZmU0MzQ4MjY0ODJhYWNkYWZhZDZkN2RlNzUxYik7CiAgICAgICAgCiAgICAKICAgICAgICAgICAgdmFyIG1hcmtlcl84MjZiYTgyNjFjZDc0MzEwYWJkM2U3ZGI1MWQ4NDgxZiA9IEwubWFya2VyKAogICAgICAgICAgICAgICAgWzUzLjMyMTcwMTAwMDAwMDAwNCwgLTYuMzMxODgzXSwKICAgICAgICAgICAgICAgIHt9CiAgICAgICAgICAgICkuYWRkVG8obWFwXzI1NjhmZTQzNDgyNjQ4MmFhY2RhZmFkNmQ3ZGU3NTFiKTsKICAgICAgICAKICAgIAogICAgICAgICAgICB2YXIgbWFya2VyXzE0Yjc2MzM3NmU2YjQ4MWZhZjkzNDIzOThkNDU4N2Y5ID0gTC5tYXJrZXIoCiAgICAgICAgICAgICAgICBbNTMuNTE5NzgzLCAtNi4xMTQ2MzRdLAogICAgICAgICAgICAgICAge30KICAgICAgICAgICAgKS5hZGRUbyhtYXBfMjU2OGZlNDM0ODI2NDgyYWFjZGFmYWQ2ZDdkZTc1MWIpOwogICAgICAgIAogICAgCiAgICAgICAgICAgIHZhciBtYXJrZXJfYjQ0ZTc2ZjRkNTcwNDI2YWJkYzJhNTljYWI3YzFlY2QgPSBMLm1hcmtlcigKICAgICAgICAgICAgICAgIFs1My4zMjE3MDEwMDAwMDAwMDQsIC02LjMzMTg4M10sCiAgICAgICAgICAgICAgICB7fQogICAgICAgICAgICApLmFkZFRvKG1hcF8yNTY4ZmU0MzQ4MjY0ODJhYWNkYWZhZDZkN2RlNzUxYik7CiAgICAgICAgCiAgICAKICAgICAgICAgICAgdmFyIG1hcmtlcl85YjFmNDE5ZDA2N2Q0NTc5ODYwOTAxYjQ1NTdmMGMzNSA9IEwubWFya2VyKAogICAgICAgICAgICAgICAgWzUzLjMyMTcwMTAwMDAwMDAwNCwgLTYuMzMxODgzXSwKICAgICAgICAgICAgICAgIHt9CiAgICAgICAgICAgICkuYWRkVG8obWFwXzI1NjhmZTQzNDgyNjQ4MmFhY2RhZmFkNmQ3ZGU3NTFiKTsKICAgICAgICAKICAgIAogICAgICAgICAgICB2YXIgbWFya2VyXzUyMDI4OTgyZThhYjQxY2I4YTNjZGE5MTNkNDEwY2I5ID0gTC5tYXJrZXIoCiAgICAgICAgICAgICAgICBbNTMuNTIwOTUsIC02LjEwOTFdLAogICAgICAgICAgICAgICAge30KICAgICAgICAgICAgKS5hZGRUbyhtYXBfMjU2OGZlNDM0ODI2NDgyYWFjZGFmYWQ2ZDdkZTc1MWIpOwogICAgICAgIAogICAgCiAgICAgICAgICAgIHZhciBtYXJrZXJfYTA5YTkxNzAxYjViNDcyY2E1MDlkODZlMzE5YmZjMmQgPSBMLm1hcmtlcigKICAgICAgICAgICAgICAgIFs1My4zMjE3MDEwMDAwMDAwMDQsIC02LjMzMTg4M10sCiAgICAgICAgICAgICAgICB7fQogICAgICAgICAgICApLmFkZFRvKG1hcF8yNTY4ZmU0MzQ4MjY0ODJhYWNkYWZhZDZkN2RlNzUxYik7CiAgICAgICAgCiAgICAKICAgICAgICAgICAgdmFyIG1hcmtlcl9mNDg5YzcxNTFmNDU0MDhjYjQ5MTFjZjAzNzNkMzEwZSA9IEwubWFya2VyKAogICAgICAgICAgICAgICAgWzUzLjMyMTcwMTAwMDAwMDAwNCwgLTYuMzMxODgzXSwKICAgICAgICAgICAgICAgIHt9CiAgICAgICAgICAgICkuYWRkVG8obWFwXzI1NjhmZTQzNDgyNjQ4MmFhY2RhZmFkNmQ3ZGU3NTFiKTsKICAgICAgICAKICAgIAogICAgICAgICAgICB2YXIgbWFya2VyXzk3MjA3NmFiM2NmNjRiYjQ4ZTVmMzA0MTQ3NjYwY2U3ID0gTC5tYXJrZXIoCiAgICAgICAgICAgICAgICBbNTMuNTIxNDY1LCAtNi4xMDYzMzNdLAogICAgICAgICAgICAgICAge30KICAgICAgICAgICAgKS5hZGRUbyhtYXBfMjU2OGZlNDM0ODI2NDgyYWFjZGFmYWQ2ZDdkZTc1MWIpOwogICAgICAgIAogICAgCiAgICAgICAgICAgIHZhciBtYXJrZXJfMmRjZjAzZTYyNzU4NDY2ZGI5ZmU1YzgxNzZhZjk0MDAgPSBMLm1hcmtlcigKICAgICAgICAgICAgICAgIFs1My4zMjE3MDEwMDAwMDAwMDQsIC02LjMzMTg2N10sCiAgICAgICAgICAgICAgICB7fQogICAgICAgICAgICApLmFkZFRvKG1hcF8yNTY4ZmU0MzQ4MjY0ODJhYWNkYWZhZDZkN2RlNzUxYik7CiAgICAgICAgCiAgICAKICAgICAgICAgICAgdmFyIG1hcmtlcl84MWUyNDNkYzU0Nzg0NGFmYjc5NDUzMjMwMWYzYTE4ZiA9IEwubWFya2VyKAogICAgICAgICAgICAgICAgWzUzLjMyMTY4MTk5OTk5OTk5NiwgLTYuMzMxODgzXSwKICAgICAgICAgICAgICAgIHt9CiAgICAgICAgICAgICkuYWRkVG8obWFwXzI1NjhmZTQzNDgyNjQ4MmFhY2RhZmFkNmQ3ZGU3NTFiKTsKICAgICAgICAKICAgIAogICAgICAgICAgICB2YXIgbWFya2VyXzAwZDM3ZGE1YzM0ZTQwMGE4OWJjOTQ0NGNmMGNhYzNlID0gTC5tYXJrZXIoCiAgICAgICAgICAgICAgICBbNTMuNTIxOTE1LCAtNi4xMDM5ODNdLAogICAgICAgICAgICAgICAge30KICAgICAgICAgICAgKS5hZGRUbyhtYXBfMjU2OGZlNDM0ODI2NDgyYWFjZGFmYWQ2ZDdkZTc1MWIpOwogICAgICAgIAogICAgCiAgICAgICAgICAgIHZhciBtYXJrZXJfOTU3ZjkxOTRhN2ZkNGY3ZjhhOWUxNjY3ZjRlZWZkOTcgPSBMLm1hcmtlcigKICAgICAgICAgICAgICAgIFs1My4zMjE2ODE5OTk5OTk5OTYsIC02LjMzMTg4M10sCiAgICAgICAgICAgICAgICB7fQogICAgICAgICAgICApLmFkZFRvKG1hcF8yNTY4ZmU0MzQ4MjY0ODJhYWNkYWZhZDZkN2RlNzUxYik7CiAgICAgICAgCiAgICAKICAgICAgICAgICAgdmFyIG1hcmtlcl9jYmNiNWVkZjA4MGI0M2JlOGZjZWYwNWZiYjMyMDk1NCA9IEwubWFya2VyKAogICAgICAgICAgICAgICAgWzUzLjMyMTY4MTk5OTk5OTk5NiwgLTYuMzMxOV0sCiAgICAgICAgICAgICAgICB7fQogICAgICAgICAgICApLmFkZFRvKG1hcF8yNTY4ZmU0MzQ4MjY0ODJhYWNkYWZhZDZkN2RlNzUxYik7CiAgICAgICAgCiAgICAKICAgICAgICAgICAgdmFyIG1hcmtlcl81MWYyMTBmMGE5MzA0MTRjOGRlZjhkZmE2MDRjYzVjZiA9IEwubWFya2VyKAogICAgICAgICAgICAgICAgWzUzLjMyMTY4MTk5OTk5OTk5NiwgLTYuMzMxODgzXSwKICAgICAgICAgICAgICAgIHt9CiAgICAgICAgICAgICkuYWRkVG8obWFwXzI1NjhmZTQzNDgyNjQ4MmFhY2RhZmFkNmQ3ZGU3NTFiKTsKICAgICAgICAKICAgIAogICAgICAgICAgICB2YXIgbWFya2VyX2I0MTBhMTNhOTgzNDQ5ZWRiOGExNzAzZGJjNjM0NjYwID0gTC5tYXJrZXIoCiAgICAgICAgICAgICAgICBbNTMuNTIyNjgxOTk5OTk5OTk2LCAtNi4xMDEzMTYwMDAwMDAwMDFdLAogICAgICAgICAgICAgICAge30KICAgICAgICAgICAgKS5hZGRUbyhtYXBfMjU2OGZlNDM0ODI2NDgyYWFjZGFmYWQ2ZDdkZTc1MWIpOwogICAgICAgIAogICAgCiAgICAgICAgICAgIHZhciBtYXJrZXJfZWNmYmYyZTk0OTY4NGMwMTk2NmJjNTFjZDZhNTYzOTQgPSBMLm1hcmtlcigKICAgICAgICAgICAgICAgIFs1My4zMjE2ODE5OTk5OTk5OTYsIC02LjMzMTg4M10sCiAgICAgICAgICAgICAgICB7fQogICAgICAgICAgICApLmFkZFRvKG1hcF8yNTY4ZmU0MzQ4MjY0ODJhYWNkYWZhZDZkN2RlNzUxYik7CiAgICAgICAgCiAgICAKICAgICAgICAgICAgdmFyIG1hcmtlcl9lMDEwMzIxNjJhZTA0YmFhODJmYjkzMjU0YmIzZWIzMyA9IEwubWFya2VyKAogICAgICAgICAgICAgICAgWzUzLjUyMjc4NSwgLTYuMTAxMDVdLAogICAgICAgICAgICAgICAge30KICAgICAgICAgICAgKS5hZGRUbyhtYXBfMjU2OGZlNDM0ODI2NDgyYWFjZGFmYWQ2ZDdkZTc1MWIpOwogICAgICAgIAogICAgCiAgICAgICAgICAgIHZhciBtYXJrZXJfZWNjNGRhZjU0Y2I0NGJlOWIwNzI0N2Y2Mzg5YWQ1ZDIgPSBMLm1hcmtlcigKICAgICAgICAgICAgICAgIFs1My4zMjE2ODE5OTk5OTk5OTYsIC02LjMzMTg4M10sCiAgICAgICAgICAgICAgICB7fQogICAgICAgICAgICApLmFkZFRvKG1hcF8yNTY4ZmU0MzQ4MjY0ODJhYWNkYWZhZDZkN2RlNzUxYik7CiAgICAgICAgCiAgICAKICAgICAgICAgICAgdmFyIG1hcmtlcl85MGQ4YTY3NDMyMzE0OGUyOWZkZDZiOGYwODJiZGMyMSA9IEwubWFya2VyKAogICAgICAgICAgICAgICAgWzUzLjMyMTY4MTk5OTk5OTk5NiwgLTYuMzMxOV0sCiAgICAgICAgICAgICAgICB7fQogICAgICAgICAgICApLmFkZFRvKG1hcF8yNTY4ZmU0MzQ4MjY0ODJhYWNkYWZhZDZkN2RlNzUxYik7CiAgICAgICAgCiAgICAKICAgICAgICAgICAgdmFyIG1hcmtlcl9lZjViY2M3ZTUxYzg0MjQ3OGI0ZjRiNmI0NDYzZDg3ZCA9IEwubWFya2VyKAogICAgICAgICAgICAgICAgWzUzLjUyMjcxNzAwMDAwMDAxLCAtNi4wOTY5NV0sCiAgICAgICAgICAgICAgICB7fQogICAgICAgICAgICApLmFkZFRvKG1hcF8yNTY4ZmU0MzQ4MjY0ODJhYWNkYWZhZDZkN2RlNzUxYik7CiAgICAgICAgCiAgICAKICAgICAgICAgICAgdmFyIG1hcmtlcl82NmNmMzgzZWIzNWU0MzEwOTkwZGI0NGVmNDIwZGZmMyA9IEwubWFya2VyKAogICAgICAgICAgICAgICAgWzUzLjMyMTcwMTAwMDAwMDAwNCwgLTYuMzMxOV0sCiAgICAgICAgICAgICAgICB7fQogICAgICAgICAgICApLmFkZFRvKG1hcF8yNTY4ZmU0MzQ4MjY0ODJhYWNkYWZhZDZkN2RlNzUxYik7CiAgICAgICAgCiAgICAKICAgICAgICAgICAgdmFyIG1hcmtlcl80NzY3NzdjNDJlZDk0OTBmOTU3NWZlZTgyNjIxODQzOSA9IEwubWFya2VyKAogICAgICAgICAgICAgICAgWzUzLjMyMTcwMTAwMDAwMDAwNCwgLTYuMzMxOV0sCiAgICAgICAgICAgICAgICB7fQogICAgICAgICAgICApLmFkZFRvKG1hcF8yNTY4ZmU0MzQ4MjY0ODJhYWNkYWZhZDZkN2RlNzUxYik7CiAgICAgICAgCiAgICAKICAgICAgICAgICAgdmFyIG1hcmtlcl9jNmFlZWQ2NDFhY2I0ZmJlYmI1OTk4OTk0YzFiNTYzOCA9IEwubWFya2VyKAogICAgICAgICAgICAgICAgWzUzLjUyMjUzMjk5OTk5OTk5NiwgLTYuMDk1Nl0sCiAgICAgICAgICAgICAgICB7fQogICAgICAgICAgICApLmFkZFRvKG1hcF8yNTY4ZmU0MzQ4MjY0ODJhYWNkYWZhZDZkN2RlNzUxYik7CiAgICAgICAgCiAgICAKICAgICAgICAgICAgdmFyIG1hcmtlcl9hMjA5YmE4OTA1ZWY0ZmI3YTg0OTFlNmRkOTQxMjM0ZiA9IEwubWFya2VyKAogICAgICAgICAgICAgICAgWzUzLjMyMTY4MTk5OTk5OTk5NiwgLTYuMzMxODgzXSwKICAgICAgICAgICAgICAgIHt9CiAgICAgICAgICAgICkuYWRkVG8obWFwXzI1NjhmZTQzNDgyNjQ4MmFhY2RhZmFkNmQ3ZGU3NTFiKTsKICAgICAgICAKICAgIAogICAgICAgICAgICB2YXIgbWFya2VyX2M0OWVhODRmOWI2YjQ4NDdhYzhmMTQ3ZDZiNTUzNTQ5ID0gTC5tYXJrZXIoCiAgICAgICAgICAgICAgICBbNTMuMzIxNjgxOTk5OTk5OTk2LCAtNi4zMzE5XSwKICAgICAgICAgICAgICAgIHt9CiAgICAgICAgICAgICkuYWRkVG8obWFwXzI1NjhmZTQzNDgyNjQ4MmFhY2RhZmFkNmQ3ZGU3NTFiKTsKICAgICAgICAKICAgIAogICAgICAgICAgICB2YXIgbWFya2VyXzM1Y2Y1NGFhYjY1YTQ3ZDk4YWViMzEwY2U5MDIyMjZiID0gTC5tYXJrZXIoCiAgICAgICAgICAgICAgICBbNTMuNTIyMDQ4OTk5OTk5OTk2LCAtNi4wOTIxNjddLAogICAgICAgICAgICAgICAge30KICAgICAgICAgICAgKS5hZGRUbyhtYXBfMjU2OGZlNDM0ODI2NDgyYWFjZGFmYWQ2ZDdkZTc1MWIpOwogICAgICAgIAogICAgCiAgICAgICAgICAgIHZhciBtYXJrZXJfN2FlM2FmNmNlODA3NGRhODkzNGZlOWUxOWZmYTBjMmUgPSBMLm1hcmtlcigKICAgICAgICAgICAgICAgIFs1My4zMjE2NjcwMDAwMDAwMDUsIC02LjMzMTldLAogICAgICAgICAgICAgICAge30KICAgICAgICAgICAgKS5hZGRUbyhtYXBfMjU2OGZlNDM0ODI2NDgyYWFjZGFmYWQ2ZDdkZTc1MWIpOwogICAgICAgIAogICAgCiAgICAgICAgICAgIHZhciBtYXJrZXJfOWQ0YjVjOGM3MDNlNGI2YmE2OThjODA2MmQzNTI3ZjYgPSBMLm1hcmtlcigKICAgICAgICAgICAgICAgIFs1My4zMjE2NjcwMDAwMDAwMDUsIC02LjMzMTldLAogICAgICAgICAgICAgICAge30KICAgICAgICAgICAgKS5hZGRUbyhtYXBfMjU2OGZlNDM0ODI2NDgyYWFjZGFmYWQ2ZDdkZTc1MWIpOwogICAgICAgIAogICAgCiAgICAgICAgICAgIHZhciBtYXJrZXJfMGRkMmEzNjgzZWQzNGFkNzkwNmZhZTBhMTQ4MzhmMjQgPSBMLm1hcmtlcigKICAgICAgICAgICAgICAgIFs1My41MjIwMzQsIC02LjA5MjE4M10sCiAgICAgICAgICAgICAgICB7fQogICAgICAgICAgICApLmFkZFRvKG1hcF8yNTY4ZmU0MzQ4MjY0ODJhYWNkYWZhZDZkN2RlNzUxYik7CiAgICAgICAgCiAgICAKICAgICAgICAgICAgdmFyIG1hcmtlcl8wN2VlMDQwYmNmZmU0YmJkYjFkMTg0NTU5NDQ3OGYzNSA9IEwubWFya2VyKAogICAgICAgICAgICAgICAgWzUzLjMyMTY2NzAwMDAwMDAwNSwgLTYuMzMxODgzXSwKICAgICAgICAgICAgICAgIHt9CiAgICAgICAgICAgICkuYWRkVG8obWFwXzI1NjhmZTQzNDgyNjQ4MmFhY2RhZmFkNmQ3ZGU3NTFiKTsKICAgICAgICAKICAgIAogICAgICAgICAgICB2YXIgbWFya2VyX2MyZmI3MmEwMmQ5NzRiM2I5ZGQxZWUwZDhhYTE4YWE2ID0gTC5tYXJrZXIoCiAgICAgICAgICAgICAgICBbNTMuMzIxNjgxOTk5OTk5OTk2LCAtNi4zMzE5XSwKICAgICAgICAgICAgICAgIHt9CiAgICAgICAgICAgICkuYWRkVG8obWFwXzI1NjhmZTQzNDgyNjQ4MmFhY2RhZmFkNmQ3ZGU3NTFiKTsKICAgICAgICAKICAgIAogICAgICAgICAgICB2YXIgbWFya2VyX2QwOGM2MzMxMWJkOTQ2Y2Y4ZDk2NTA2YjllZGVkNTVhID0gTC5tYXJrZXIoCiAgICAgICAgICAgICAgICBbNTMuNTIyMDgyOTk5OTk5OTk1LCAtNi4wOTExODNdLAogICAgICAgICAgICAgICAge30KICAgICAgICAgICAgKS5hZGRUbyhtYXBfMjU2OGZlNDM0ODI2NDgyYWFjZGFmYWQ2ZDdkZTc1MWIpOwogICAgICAgIAogICAgCiAgICAgICAgICAgIHZhciBtYXJrZXJfNjdhMzIyNDhhZGY4NGQwYmIyNDZlZDdmMzg1OWI4MTMgPSBMLm1hcmtlcigKICAgICAgICAgICAgICAgIFs1My4zMjE2ODE5OTk5OTk5OTYsIC02LjMzMTldLAogICAgICAgICAgICAgICAge30KICAgICAgICAgICAgKS5hZGRUbyhtYXBfMjU2OGZlNDM0ODI2NDgyYWFjZGFmYWQ2ZDdkZTc1MWIpOwogICAgICAgIAogICAgCiAgICAgICAgICAgIHZhciBtYXJrZXJfMzIxN2RhZTQ5YjJkNDQzZWJjMjYwZDU1OGNkNTk5NmUgPSBMLm1hcmtlcigKICAgICAgICAgICAgICAgIFs1My4zMjE2ODE5OTk5OTk5OTYsIC02LjMzMTldLAogICAgICAgICAgICAgICAge30KICAgICAgICAgICAgKS5hZGRUbyhtYXBfMjU2OGZlNDM0ODI2NDgyYWFjZGFmYWQ2ZDdkZTc1MWIpOwogICAgICAgIAogICAgCiAgICAgICAgICAgIHZhciBtYXJrZXJfNzRjMjdmOGFiODE4NDhlN2JkZjRlMTJlNTkyMGIxMjAgPSBMLm1hcmtlcigKICAgICAgICAgICAgICAgIFs1My41MjQwMTcwMDAwMDAwMSwgLTYuMDkxMzVdLAogICAgICAgICAgICAgICAge30KICAgICAgICAgICAgKS5hZGRUbyhtYXBfMjU2OGZlNDM0ODI2NDgyYWFjZGFmYWQ2ZDdkZTc1MWIpOwogICAgICAgIAogICAgCiAgICAgICAgICAgIHZhciBtYXJrZXJfZTRhY2I2OGE5Yzk5NGRiNTkzOTNhZWQ2YmNkNTYyMGQgPSBMLm1hcmtlcigKICAgICAgICAgICAgICAgIFs1My4zMjE3MDEwMDAwMDAwMDQsIC02LjMzMTldLAogICAgICAgICAgICAgICAge30KICAgICAgICAgICAgKS5hZGRUbyhtYXBfMjU2OGZlNDM0ODI2NDgyYWFjZGFmYWQ2ZDdkZTc1MWIpOwogICAgICAgIAogICAgCiAgICAgICAgICAgIHZhciBtYXJrZXJfM2MzNjBkYTEzNjcxNDIyYTgxNjY2NmMxMzdlMWI5NTQgPSBMLm1hcmtlcigKICAgICAgICAgICAgICAgIFs1My4zMjE3MDEwMDAwMDAwMDQsIC02LjMzMTldLAogICAgICAgICAgICAgICAge30KICAgICAgICAgICAgKS5hZGRUbyhtYXBfMjU2OGZlNDM0ODI2NDgyYWFjZGFmYWQ2ZDdkZTc1MWIpOwogICAgICAgIAogICAgCiAgICAgICAgICAgIHZhciBtYXJrZXJfZGVjYzdiOTgxY2IxNGYwYmE3ZGUxNmQ5ZTY4YmE2OTAgPSBMLm1hcmtlcigKICAgICAgICAgICAgICAgIFs1My41Mjg3MzIsIC02LjA5MTMxN10sCiAgICAgICAgICAgICAgICB7fQogICAgICAgICAgICApLmFkZFRvKG1hcF8yNTY4ZmU0MzQ4MjY0ODJhYWNkYWZhZDZkN2RlNzUxYik7CiAgICAgICAgCiAgICAKICAgICAgICAgICAgdmFyIG1hcmtlcl84YjVhMjRjMDY1OWE0OGYwYTkyZGE0ODJjOWQyMTg4YSA9IEwubWFya2VyKAogICAgICAgICAgICAgICAgWzUzLjMyMTU4MywgLTYuMzMxNTVdLAogICAgICAgICAgICAgICAge30KICAgICAgICAgICAgKS5hZGRUbyhtYXBfMjU2OGZlNDM0ODI2NDgyYWFjZGFmYWQ2ZDdkZTc1MWIpOwogICAgICAgIAogICAgCiAgICAgICAgICAgIHZhciBtYXJrZXJfZDQzOTQxMTAyMmNhNDEyZGExNDRhYTEwNmZkODU5YWQgPSBMLm1hcmtlcigKICAgICAgICAgICAgICAgIFs1My4zMjE1ODMsIC02LjMzMTU1XSwKICAgICAgICAgICAgICAgIHt9CiAgICAgICAgICAgICkuYWRkVG8obWFwXzI1NjhmZTQzNDgyNjQ4MmFhY2RhZmFkNmQ3ZGU3NTFiKTsKICAgICAgICAKICAgIAogICAgICAgICAgICB2YXIgbWFya2VyXzI5YjU2ZmUwYThiYTRhMzg5MjY4ZjQyZjJlYTIwMjMyID0gTC5tYXJrZXIoCiAgICAgICAgICAgICAgICBbNTMuNTI5NzMxOTk5OTk5OTk2LCAtNi4wOTE0ODNdLAogICAgICAgICAgICAgICAge30KICAgICAgICAgICAgKS5hZGRUbyhtYXBfMjU2OGZlNDM0ODI2NDgyYWFjZGFmYWQ2ZDdkZTc1MWIpOwogICAgICAgIAogICAgCiAgICAgICAgICAgIHZhciBtYXJrZXJfZjkzMGIwMjAzZjEzNDY2N2I0YjY5MDg0YjYzN2FkYmIgPSBMLm1hcmtlcigKICAgICAgICAgICAgICAgIFs1My4zMjE1ODMsIC02LjMzMTU1XSwKICAgICAgICAgICAgICAgIHt9CiAgICAgICAgICAgICkuYWRkVG8obWFwXzI1NjhmZTQzNDgyNjQ4MmFhY2RhZmFkNmQ3ZGU3NTFiKTsKICAgICAgICAKICAgIAogICAgICAgICAgICB2YXIgbWFya2VyX2M3ZDllMTllYTZhMzQ4MGZiNzE5Y2EyMmY5OTUyMTI0ID0gTC5tYXJrZXIoCiAgICAgICAgICAgICAgICBbNTMuMzIxNTY4MDAwMDAwMDA2LCAtNi4zMzE1NV0sCiAgICAgICAgICAgICAgICB7fQogICAgICAgICAgICApLmFkZFRvKG1hcF8yNTY4ZmU0MzQ4MjY0ODJhYWNkYWZhZDZkN2RlNzUxYik7CiAgICAgICAgCiAgICAKICAgICAgICAgICAgdmFyIG1hcmtlcl83YjU0MGVkN2FhMzM0OTg3ODBkMjQ5MDRkN2E5YWQ1NiA9IEwubWFya2VyKAogICAgICAgICAgICAgICAgWzUzLjUzMjkxNzAwMDAwMDAwNSwgLTYuMDkxMDE3XSwKICAgICAgICAgICAgICAgIHt9CiAgICAgICAgICAgICkuYWRkVG8obWFwXzI1NjhmZTQzNDgyNjQ4MmFhY2RhZmFkNmQ3ZGU3NTFiKTsKICAgICAgICAKICAgIAogICAgICAgICAgICB2YXIgbWFya2VyX2U3NmRkMGY5ZWZmODRhYTI5MTFkMmE0ZDRhMWI5ZmZlID0gTC5tYXJrZXIoCiAgICAgICAgICAgICAgICBbNTMuNTMzODUyLCAtNi4wOTA2XSwKICAgICAgICAgICAgICAgIHt9CiAgICAgICAgICAgICkuYWRkVG8obWFwXzI1NjhmZTQzNDgyNjQ4MmFhY2RhZmFkNmQ3ZGU3NTFiKTsKICAgICAgICAKICAgIAogICAgICAgICAgICB2YXIgbWFya2VyXzExMjM0NWZiMmM0OTRlY2FiZWU5OGVlNjEwMmUxYjJiID0gTC5tYXJrZXIoCiAgICAgICAgICAgICAgICBbNTMuMzIxNTgzLCAtNi4zMzE1NV0sCiAgICAgICAgICAgICAgICB7fQogICAgICAgICAgICApLmFkZFRvKG1hcF8yNTY4ZmU0MzQ4MjY0ODJhYWNkYWZhZDZkN2RlNzUxYik7CiAgICAgICAgCiAgICAKICAgICAgICAgICAgdmFyIG1hcmtlcl85MDFhNzQ3YTI4ZDQ0YjllODUzZGMxNjI4MDFiZThjYSA9IEwubWFya2VyKAogICAgICAgICAgICAgICAgWzUzLjMyMTU4MywgLTYuMzMxNTVdLAogICAgICAgICAgICAgICAge30KICAgICAgICAgICAgKS5hZGRUbyhtYXBfMjU2OGZlNDM0ODI2NDgyYWFjZGFmYWQ2ZDdkZTc1MWIpOwogICAgICAgIAogICAgCiAgICAgICAgICAgIHZhciBtYXJrZXJfMjM2ZTJhNjNhMDkzNDIwZDgyYWU3MDQ4MjgwNTgwNGEgPSBMLm1hcmtlcigKICAgICAgICAgICAgICAgIFs1My41MzY3NTEsIC02LjA5MDVdLAogICAgICAgICAgICAgICAge30KICAgICAgICAgICAgKS5hZGRUbyhtYXBfMjU2OGZlNDM0ODI2NDgyYWFjZGFmYWQ2ZDdkZTc1MWIpOwogICAgICAgIAogICAgCiAgICAgICAgICAgIHZhciBtYXJrZXJfNjI3Njc5MTgyYjViNDIxNmIwMzBhOWI3MTk5Zjk1NWQgPSBMLm1hcmtlcigKICAgICAgICAgICAgICAgIFs1My4zMjE1NjgwMDAwMDAwMDYsIC02LjMzMTUxN10sCiAgICAgICAgICAgICAgICB7fQogICAgICAgICAgICApLmFkZFRvKG1hcF8yNTY4ZmU0MzQ4MjY0ODJhYWNkYWZhZDZkN2RlNzUxYik7CiAgICAgICAgCiAgICAKICAgICAgICAgICAgdmFyIG1hcmtlcl82MmE4N2VlYTNjMGE0YzZiYTM4MDYwMmRiYmFlNDZlNyA9IEwubWFya2VyKAogICAgICAgICAgICAgICAgWzUzLjUzODc4NCwgLTYuMDkyMl0sCiAgICAgICAgICAgICAgICB7fQogICAgICAgICAgICApLmFkZFRvKG1hcF8yNTY4ZmU0MzQ4MjY0ODJhYWNkYWZhZDZkN2RlNzUxYik7CiAgICAgICAgCiAgICAKICAgICAgICAgICAgdmFyIG1hcmtlcl9hMjEzNGMxMjdlYmM0ODE2YjNhMTk2ODNhOGRkZGZkOCA9IEwubWFya2VyKAogICAgICAgICAgICAgICAgWzUzLjMyMTU2ODAwMDAwMDAwNiwgLTYuMzMxNV0sCiAgICAgICAgICAgICAgICB7fQogICAgICAgICAgICApLmFkZFRvKG1hcF8yNTY4ZmU0MzQ4MjY0ODJhYWNkYWZhZDZkN2RlNzUxYik7CiAgICAgICAgCiAgICAKICAgICAgICAgICAgdmFyIG1hcmtlcl8wMTcxOWIwMzk3OTY0ZGMxODI5YmFjYjJmMzg5MDNkYiA9IEwubWFya2VyKAogICAgICAgICAgICAgICAgWzUzLjMyMTU4MywgLTYuMzMxNTE3XSwKICAgICAgICAgICAgICAgIHt9CiAgICAgICAgICAgICkuYWRkVG8obWFwXzI1NjhmZTQzNDgyNjQ4MmFhY2RhZmFkNmQ3ZGU3NTFiKTsKICAgICAgICAKICAgIAogICAgICAgICAgICB2YXIgbWFya2VyX2I1MTYwYTYxOGI3YTQxZTY4YzZjYjliZmEyZmM0ZjRjID0gTC5tYXJrZXIoCiAgICAgICAgICAgICAgICBbNTMuNTM5NTE2MDAwMDAwMDA2LCAtNi4wOTMwMzNdLAogICAgICAgICAgICAgICAge30KICAgICAgICAgICAgKS5hZGRUbyhtYXBfMjU2OGZlNDM0ODI2NDgyYWFjZGFmYWQ2ZDdkZTc1MWIpOwogICAgICAgIAogICAgCiAgICAgICAgICAgIHZhciBtYXJrZXJfMTc0MGU5NDcxOGVjNDhhMzhlOWZmYjJkNWQ1ODBlYWEgPSBMLm1hcmtlcigKICAgICAgICAgICAgICAgIFs1My4zMjE1ODMsIC02LjMzMTUxN10sCiAgICAgICAgICAgICAgICB7fQogICAgICAgICAgICApLmFkZFRvKG1hcF8yNTY4ZmU0MzQ4MjY0ODJhYWNkYWZhZDZkN2RlNzUxYik7CiAgICAgICAgCiAgICAKICAgICAgICAgICAgdmFyIG1hcmtlcl82YzkxYzk2YzFiYTU0NjlmYmRlMWIxNDdlMTg0MmVmOCA9IEwubWFya2VyKAogICAgICAgICAgICAgICAgWzUzLjMyMTU4MywgLTYuMzMxNTE3XSwKICAgICAgICAgICAgICAgIHt9CiAgICAgICAgICAgICkuYWRkVG8obWFwXzI1NjhmZTQzNDgyNjQ4MmFhY2RhZmFkNmQ3ZGU3NTFiKTsKICAgICAgICAKICAgIAogICAgICAgICAgICB2YXIgbWFya2VyXzI3MGMyZmYxNTQ0MzQ3ZWNiYjY5YTlmZTViYTY5OThiID0gTC5tYXJrZXIoCiAgICAgICAgICAgICAgICBbNTMuNTQxNTE1MDAwMDAwMDA0LCAtNi4wOTUyMTddLAogICAgICAgICAgICAgICAge30KICAgICAgICAgICAgKS5hZGRUbyhtYXBfMjU2OGZlNDM0ODI2NDgyYWFjZGFmYWQ2ZDdkZTc1MWIpOwogICAgICAgIAogICAgCiAgICAgICAgICAgIHZhciBtYXJrZXJfMTZmZWZmMTIxNDdiNGJmNWE0NzRmYmIzNDQ0Y2U1YTAgPSBMLm1hcmtlcigKICAgICAgICAgICAgICAgIFs1My4zMjE1ODMsIC02LjMzMTUxN10sCiAgICAgICAgICAgICAgICB7fQogICAgICAgICAgICApLmFkZFRvKG1hcF8yNTY4ZmU0MzQ4MjY0ODJhYWNkYWZhZDZkN2RlNzUxYik7CiAgICAgICAgCiAgICAKICAgICAgICAgICAgdmFyIG1hcmtlcl8wYzlmN2NjYWMyYmU0NTJhOWY2ZDc4NThkM2YzODIyNyA9IEwubWFya2VyKAogICAgICAgICAgICAgICAgWzUzLjU0NTkxODAwMDAwMDAxLCAtNi4xMDAxMTddLAogICAgICAgICAgICAgICAge30KICAgICAgICAgICAgKS5hZGRUbyhtYXBfMjU2OGZlNDM0ODI2NDgyYWFjZGFmYWQ2ZDdkZTc1MWIpOwogICAgICAgIAogICAgCiAgICAgICAgICAgIHZhciBtYXJrZXJfNDQxYjlmMTlhNDkzNDI0MmFlNzQ3Y2IxMzU1YjNmNDEgPSBMLm1hcmtlcigKICAgICAgICAgICAgICAgIFs1My4zMjE2MDIsIC02LjMzMTUxN10sCiAgICAgICAgICAgICAgICB7fQogICAgICAgICAgICApLmFkZFRvKG1hcF8yNTY4ZmU0MzQ4MjY0ODJhYWNkYWZhZDZkN2RlNzUxYik7CiAgICAgICAgCiAgICAKICAgICAgICAgICAgdmFyIG1hcmtlcl9kMTlhMzA5MDVjYjM0NzE3YmM3NDkyNGQyYmNkNGI2NyA9IEwubWFya2VyKAogICAgICAgICAgICAgICAgWzUzLjMyMTYwMiwgLTYuMzMxNTE3XSwKICAgICAgICAgICAgICAgIHt9CiAgICAgICAgICAgICkuYWRkVG8obWFwXzI1NjhmZTQzNDgyNjQ4MmFhY2RhZmFkNmQ3ZGU3NTFiKTsKICAgICAgICAKICAgIAogICAgICAgICAgICB2YXIgbWFya2VyXzQxMDM3MTY0NmI3ODQ5YjRhMDc3MjEwNzFjMTU3YjE2ID0gTC5tYXJrZXIoCiAgICAgICAgICAgICAgICBbNTMuNTQ2ODY3MDAwMDAwMDA2LCAtNi4xMDExMzNdLAogICAgICAgICAgICAgICAge30KICAgICAgICAgICAgKS5hZGRUbyhtYXBfMjU2OGZlNDM0ODI2NDgyYWFjZGFmYWQ2ZDdkZTc1MWIpOwogICAgICAgIAogICAgCiAgICAgICAgICAgIHZhciBtYXJrZXJfMWFlOTQwNjcyZDA2NDVmZDk4NTZhZGQ2MGExNzdkNDMgPSBMLm1hcmtlcigKICAgICAgICAgICAgICAgIFs1My4zMjE2MDIsIC02LjMzMTUxN10sCiAgICAgICAgICAgICAgICB7fQogICAgICAgICAgICApLmFkZFRvKG1hcF8yNTY4ZmU0MzQ4MjY0ODJhYWNkYWZhZDZkN2RlNzUxYik7CiAgICAgICAgCiAgICAKICAgICAgICAgICAgdmFyIG1hcmtlcl9mYmZhNDZmZTU1NTI0MmVmYTUzZTM4Y2RiNTc2ZGUzYSA9IEwubWFya2VyKAogICAgICAgICAgICAgICAgWzUzLjMyMTU4MywgLTYuMzMxNV0sCiAgICAgICAgICAgICAgICB7fQogICAgICAgICAgICApLmFkZFRvKG1hcF8yNTY4ZmU0MzQ4MjY0ODJhYWNkYWZhZDZkN2RlNzUxYik7CiAgICAgICAgCiAgICAKICAgICAgICAgICAgdmFyIG1hcmtlcl8zMzRjODNhYmYwMDI0ZDczOTU1MmRjZjVhMGExMWM4YiA9IEwubWFya2VyKAogICAgICAgICAgICAgICAgWzUzLjU0OSwgLTYuMTAxNjVdLAogICAgICAgICAgICAgICAge30KICAgICAgICAgICAgKS5hZGRUbyhtYXBfMjU2OGZlNDM0ODI2NDgyYWFjZGFmYWQ2ZDdkZTc1MWIpOwogICAgICAgIAogICAgCiAgICAgICAgICAgIHZhciBtYXJrZXJfZjk0OTgwZWJlNjQzNDc0NzliMjMwZDg1OTJhZTNjZjMgPSBMLm1hcmtlcigKICAgICAgICAgICAgICAgIFs1My4zMjE1NjgwMDAwMDAwMDYsIC02LjMzMTQ4M10sCiAgICAgICAgICAgICAgICB7fQogICAgICAgICAgICApLmFkZFRvKG1hcF8yNTY4ZmU0MzQ4MjY0ODJhYWNkYWZhZDZkN2RlNzUxYik7CiAgICAgICAgCiAgICAKICAgICAgICAgICAgdmFyIG1hcmtlcl9lNWEzZjFkOGQ5Nzg0MTA2YjUyN2M1ZGZmNDdlOTEyNSA9IEwubWFya2VyKAogICAgICAgICAgICAgICAgWzUzLjMyMTU2ODAwMDAwMDAwNiwgLTYuMzMxNDgzXSwKICAgICAgICAgICAgICAgIHt9CiAgICAgICAgICAgICkuYWRkVG8obWFwXzI1NjhmZTQzNDgyNjQ4MmFhY2RhZmFkNmQ3ZGU3NTFiKTsKICAgICAgICAKICAgIAogICAgICAgICAgICB2YXIgbWFya2VyX2IwYmY4NmNjNTNiNjQ0ZWI5NjA2NjliMWQzYTRmMjYxID0gTC5tYXJrZXIoCiAgICAgICAgICAgICAgICBbNTMuNTUxMzM0LCAtNi4xMDIxMTddLAogICAgICAgICAgICAgICAge30KICAgICAgICAgICAgKS5hZGRUbyhtYXBfMjU2OGZlNDM0ODI2NDgyYWFjZGFmYWQ2ZDdkZTc1MWIpOwogICAgICAgIAogICAgCiAgICAgICAgICAgIHZhciBtYXJrZXJfNmY0NmEyM2Y2YTQxNGJiYzhlOTNiZDZhZTA2YWIyYjUgPSBMLm1hcmtlcigKICAgICAgICAgICAgICAgIFs1My41NTEzMzQsIC02LjEwMjExN10sCiAgICAgICAgICAgICAgICB7fQogICAgICAgICAgICApLmFkZFRvKG1hcF8yNTY4ZmU0MzQ4MjY0ODJhYWNkYWZhZDZkN2RlNzUxYik7CiAgICAgICAgCiAgICAKICAgICAgICAgICAgdmFyIG1hcmtlcl9hMzRkNDQ1MmUwM2U0YTExOTAzZGM2Yjc3YzJkMmQ1MyA9IEwubWFya2VyKAogICAgICAgICAgICAgICAgWzUzLjMyMTU4MywgLTYuMzMxNTE3XSwKICAgICAgICAgICAgICAgIHt9CiAgICAgICAgICAgICkuYWRkVG8obWFwXzI1NjhmZTQzNDgyNjQ4MmFhY2RhZmFkNmQ3ZGU3NTFiKTsKICAgICAgICAKICAgIAogICAgICAgICAgICB2YXIgbWFya2VyXzE2OGFlNDMwMTExMTRlYmJiYzVhOGU1YWNkNWJiZjYwID0gTC5tYXJrZXIoCiAgICAgICAgICAgICAgICBbNTMuNTU2MzE2LCAtNi4xMDE2MzRdLAogICAgICAgICAgICAgICAge30KICAgICAgICAgICAgKS5hZGRUbyhtYXBfMjU2OGZlNDM0ODI2NDgyYWFjZGFmYWQ2ZDdkZTc1MWIpOwogICAgICAgIAogICAgCiAgICAgICAgICAgIHZhciBtYXJrZXJfNDYyZjcxYmJmNThlNGY3YThhYjg0NDJjMjZkYTEyZWQgPSBMLm1hcmtlcigKICAgICAgICAgICAgICAgIFs1My4zMjE1ODMsIC02LjMzMTVdLAogICAgICAgICAgICAgICAge30KICAgICAgICAgICAgKS5hZGRUbyhtYXBfMjU2OGZlNDM0ODI2NDgyYWFjZGFmYWQ2ZDdkZTc1MWIpOwogICAgICAgIAogICAgCiAgICAgICAgICAgIHZhciBtYXJrZXJfNjNlNzg5M2MxMWEzNGMzNThhYzQwMDFkZDg5YjI5NGQgPSBMLm1hcmtlcigKICAgICAgICAgICAgICAgIFs1My41NTg3NjUsIC02LjEwMjZdLAogICAgICAgICAgICAgICAge30KICAgICAgICAgICAgKS5hZGRUbyhtYXBfMjU2OGZlNDM0ODI2NDgyYWFjZGFmYWQ2ZDdkZTc1MWIpOwogICAgICAgIAogICAgCiAgICAgICAgICAgIHZhciBtYXJrZXJfZDJiNTkxZDYyZDc3NDA0OTg3MGI1ZjZjNDJkYWQyYTYgPSBMLm1hcmtlcigKICAgICAgICAgICAgICAgIFs1My4zMjE1ODMsIC02LjMzMTVdLAogICAgICAgICAgICAgICAge30KICAgICAgICAgICAgKS5hZGRUbyhtYXBfMjU2OGZlNDM0ODI2NDgyYWFjZGFmYWQ2ZDdkZTc1MWIpOwogICAgICAgIAogICAgCiAgICAgICAgICAgIHZhciBtYXJrZXJfOTQ1OWExYTM1NmYyNDk3ZWIyMzQyMTVlMzE2ZTAzYWEgPSBMLm1hcmtlcigKICAgICAgICAgICAgICAgIFs1My4zMjE1ODMsIC02LjMzMTVdLAogICAgICAgICAgICAgICAge30KICAgICAgICAgICAgKS5hZGRUbyhtYXBfMjU2OGZlNDM0ODI2NDgyYWFjZGFmYWQ2ZDdkZTc1MWIpOwogICAgICAgIAogICAgCiAgICAgICAgICAgIHZhciBtYXJrZXJfOGM4Y2U4MDUyYzVhNDg2MmFiMDAxZDBhN2FjNWEzM2IgPSBMLm1hcmtlcigKICAgICAgICAgICAgICAgIFs1My4zMjE1ODMsIC02LjMzMTUxN10sCiAgICAgICAgICAgICAgICB7fQogICAgICAgICAgICApLmFkZFRvKG1hcF8yNTY4ZmU0MzQ4MjY0ODJhYWNkYWZhZDZkN2RlNzUxYik7CiAgICAgICAgCiAgICAKICAgICAgICAgICAgdmFyIG1hcmtlcl84Mzk3NWNlMjY0Y2I0ZWIyOTA3NmY3Y2UxODRjMTEzYSA9IEwubWFya2VyKAogICAgICAgICAgICAgICAgWzUzLjU2MzQ4Mzk5OTk5OTk5NSwgLTYuMTAzMTVdLAogICAgICAgICAgICAgICAge30KICAgICAgICAgICAgKS5hZGRUbyhtYXBfMjU2OGZlNDM0ODI2NDgyYWFjZGFmYWQ2ZDdkZTc1MWIpOwogICAgICAgIAogICAgCiAgICAgICAgICAgIHZhciBtYXJrZXJfZTk1NjE2OTY0YWYzNDk5Y2E4MzdhNTA1OGRiNzRjNTcgPSBMLm1hcmtlcigKICAgICAgICAgICAgICAgIFs1My41NjM0ODM5OTk5OTk5OTUsIC02LjEwMzE1XSwKICAgICAgICAgICAgICAgIHt9CiAgICAgICAgICAgICkuYWRkVG8obWFwXzI1NjhmZTQzNDgyNjQ4MmFhY2RhZmFkNmQ3ZGU3NTFiKTsKICAgICAgICAKICAgIAogICAgICAgICAgICB2YXIgbWFya2VyX2IyOTQ0OTZkNzUxYjRlNTE4NWE3Y2MzM2IxYzQ4NzUxID0gTC5tYXJrZXIoCiAgICAgICAgICAgICAgICBbNTMuNTY1ODY4LCAtNi4xMDI0ODNdLAogICAgICAgICAgICAgICAge30KICAgICAgICAgICAgKS5hZGRUbyhtYXBfMjU2OGZlNDM0ODI2NDgyYWFjZGFmYWQ2ZDdkZTc1MWIpOwogICAgICAgIAogICAgCiAgICAgICAgICAgIHZhciBtYXJrZXJfZGVmYjc5NjUwYWMwNGI3Mzk3OTNhMjZjMzdmMDY5MmYgPSBMLm1hcmtlcigKICAgICAgICAgICAgICAgIFs1My41NjU4NjgsIC02LjEwMjQ4M10sCiAgICAgICAgICAgICAgICB7fQogICAgICAgICAgICApLmFkZFRvKG1hcF8yNTY4ZmU0MzQ4MjY0ODJhYWNkYWZhZDZkN2RlNzUxYik7CiAgICAgICAgCiAgICAKICAgICAgICAgICAgdmFyIG1hcmtlcl8yNjE4MGU4YmY1ZmI0YmM5YmI5OGU1ZGVkNjZjNGEwNyA9IEwubWFya2VyKAogICAgICAgICAgICAgICAgWzUzLjU2NTg2OCwgLTYuMTAyNDgzXSwKICAgICAgICAgICAgICAgIHt9CiAgICAgICAgICAgICkuYWRkVG8obWFwXzI1NjhmZTQzNDgyNjQ4MmFhY2RhZmFkNmQ3ZGU3NTFiKTsKICAgICAgICAKICAgIAogICAgICAgICAgICB2YXIgbWFya2VyXzUyYTRkMDUwNWZlZjQwZmJiYzcyZjIzNzVjMTFkMzU1ID0gTC5tYXJrZXIoCiAgICAgICAgICAgICAgICBbNTMuNTY1ODY4LCAtNi4xMDI0ODNdLAogICAgICAgICAgICAgICAge30KICAgICAgICAgICAgKS5hZGRUbyhtYXBfMjU2OGZlNDM0ODI2NDgyYWFjZGFmYWQ2ZDdkZTc1MWIpOwogICAgICAgIAogICAgCiAgICAgICAgICAgIHZhciBtYXJrZXJfZjkzNzY3M2IxMjdjNDcxZGI2Njg4ZDI4MTY0NTY2M2UgPSBMLm1hcmtlcigKICAgICAgICAgICAgICAgIFs1My40NTIyNzM5OTk5OTk5OTYsIC02LjIyNDgyMDk5OTk5OTk5OTVdLAogICAgICAgICAgICAgICAge30KICAgICAgICAgICAgKS5hZGRUbyhtYXBfMjU2OGZlNDM0ODI2NDgyYWFjZGFmYWQ2ZDdkZTc1MWIpOwogICAgICAgIAogICAgCiAgICAgICAgICAgIHZhciBtYXJrZXJfYmZiOTlkMDdhODM5NGRiNjhmOWJiYTQwNzYwM2I4MDggPSBMLm1hcmtlcigKICAgICAgICAgICAgICAgIFs1My40NTIyNzM5OTk5OTk5OTYsIC02LjIyNDgyMDk5OTk5OTk5OTVdLAogICAgICAgICAgICAgICAge30KICAgICAgICAgICAgKS5hZGRUbyhtYXBfMjU2OGZlNDM0ODI2NDgyYWFjZGFmYWQ2ZDdkZTc1MWIpOwogICAgICAgIAogICAgCiAgICAgICAgICAgIHZhciBtYXJrZXJfMzgxMmQ3ODFkYmI0NDY5NWE2M2FjYWU5ZTJiOWU4MTQgPSBMLm1hcmtlcigKICAgICAgICAgICAgICAgIFs1My41NzI4MzQsIC02LjEwMTddLAogICAgICAgICAgICAgICAge30KICAgICAgICAgICAgKS5hZGRUbyhtYXBfMjU2OGZlNDM0ODI2NDgyYWFjZGFmYWQ2ZDdkZTc1MWIpOwogICAgICAgIAogICAgCiAgICAgICAgICAgIHZhciBtYXJrZXJfZDljMTM0NmU5YTIxNGY4MmI2MmEyOWNlMTE3MmEzYmMgPSBMLm1hcmtlcigKICAgICAgICAgICAgICAgIFs1My41NzI4MzQsIC02LjEwMTddLAogICAgICAgICAgICAgICAge30KICAgICAgICAgICAgKS5hZGRUbyhtYXBfMjU2OGZlNDM0ODI2NDgyYWFjZGFmYWQ2ZDdkZTc1MWIpOwogICAgICAgIAogICAgCiAgICAgICAgICAgIHZhciBtYXJrZXJfZDk4YzYzYjI3NTI4NDc0MDlmNzU1NjZhMzU1OTQzN2MgPSBMLm1hcmtlcigKICAgICAgICAgICAgICAgIFs1My41NzI4MzQsIC02LjEwMTddLAogICAgICAgICAgICAgICAge30KICAgICAgICAgICAgKS5hZGRUbyhtYXBfMjU2OGZlNDM0ODI2NDgyYWFjZGFmYWQ2ZDdkZTc1MWIpOwogICAgICAgIAogICAgCiAgICAgICAgICAgIHZhciBtYXJrZXJfNDlmNDkwYmE0OWNhNDAwMGJiMzlmZjhiOTU3N2VhM2IgPSBMLm1hcmtlcigKICAgICAgICAgICAgICAgIFs1My41NzU4MDIsIC02LjEwNDc1XSwKICAgICAgICAgICAgICAgIHt9CiAgICAgICAgICAgICkuYWRkVG8obWFwXzI1NjhmZTQzNDgyNjQ4MmFhY2RhZmFkNmQ3ZGU3NTFiKTsKICAgICAgICAKICAgIAogICAgICAgICAgICB2YXIgbWFya2VyXzA0NjBjMWUyYzY0ZTRjNDViOTZlNDc1M2M1NjY5ZDU2ID0gTC5tYXJrZXIoCiAgICAgICAgICAgICAgICBbNTMuNTc1ODAyLCAtNi4xMDQ3NV0sCiAgICAgICAgICAgICAgICB7fQogICAgICAgICAgICApLmFkZFRvKG1hcF8yNTY4ZmU0MzQ4MjY0ODJhYWNkYWZhZDZkN2RlNzUxYik7CiAgICAgICAgCiAgICAKICAgICAgICAgICAgdmFyIG1hcmtlcl85MmI1MDkzYjU0M2M0Y2IxYTBhYWMyNTZlN2M2ZGIwZSA9IEwubWFya2VyKAogICAgICAgICAgICAgICAgWzUzLjU3NzIxNzAwMDAwMDAwNSwgLTYuMTA1Nl0sCiAgICAgICAgICAgICAgICB7fQogICAgICAgICAgICApLmFkZFRvKG1hcF8yNTY4ZmU0MzQ4MjY0ODJhYWNkYWZhZDZkN2RlNzUxYik7CiAgICAgICAgCiAgICAKICAgICAgICAgICAgdmFyIG1hcmtlcl84OTM1ZDQ2Zjc0NWY0NTEzODlmNDkwZjU1ODc1YzcxNCA9IEwubWFya2VyKAogICAgICAgICAgICAgICAgWzUzLjU3NzIxNzAwMDAwMDAwNSwgLTYuMTA1Nl0sCiAgICAgICAgICAgICAgICB7fQogICAgICAgICAgICApLmFkZFRvKG1hcF8yNTY4ZmU0MzQ4MjY0ODJhYWNkYWZhZDZkN2RlNzUxYik7CiAgICAgICAgCiAgICAKICAgICAgICAgICAgdmFyIG1hcmtlcl8yMjg1NzZiN2ViYTg0MTMzYWJkOTk3YjljZTM2Mjc0YiA9IEwubWFya2VyKAogICAgICAgICAgICAgICAgWzUzLjU3NzIxNzAwMDAwMDAwNSwgLTYuMTA1Nl0sCiAgICAgICAgICAgICAgICB7fQogICAgICAgICAgICApLmFkZFRvKG1hcF8yNTY4ZmU0MzQ4MjY0ODJhYWNkYWZhZDZkN2RlNzUxYik7CiAgICAgICAgCiAgICAKICAgICAgICAgICAgdmFyIG1hcmtlcl8xOWMxYjlmZGY2N2I0MGZkOTUwNDcxNzdhNmJlNmVmYSA9IEwubWFya2VyKAogICAgICAgICAgICAgICAgWzUzLjU3ODgxNTAwMDAwMDAwNiwgLTYuMTA2MzVdLAogICAgICAgICAgICAgICAge30KICAgICAgICAgICAgKS5hZGRUbyhtYXBfMjU2OGZlNDM0ODI2NDgyYWFjZGFmYWQ2ZDdkZTc1MWIpOwogICAgICAgIAogICAgCiAgICAgICAgICAgIHZhciBtYXJrZXJfODJiMTFlMjYyMzhhNDRmM2JjODg0MDBhNTZhN2IxNjYgPSBMLm1hcmtlcigKICAgICAgICAgICAgICAgIFs1My41Nzg4MTUwMDAwMDAwMDYsIC02LjEwNjM1XSwKICAgICAgICAgICAgICAgIHt9CiAgICAgICAgICAgICkuYWRkVG8obWFwXzI1NjhmZTQzNDgyNjQ4MmFhY2RhZmFkNmQ3ZGU3NTFiKTsKICAgICAgICAKICAgIAogICAgICAgICAgICB2YXIgbWFya2VyXzk4Y2FiZDA3ZTdmNjQxODNhNjE0Zjg1NGRiZWJiNzJkID0gTC5tYXJrZXIoCiAgICAgICAgICAgICAgICBbNTMuNTgwMiwgLTYuMTA2ODMzXSwKICAgICAgICAgICAgICAgIHt9CiAgICAgICAgICAgICkuYWRkVG8obWFwXzI1NjhmZTQzNDgyNjQ4MmFhY2RhZmFkNmQ3ZGU3NTFiKTsKICAgICAgICAKICAgIAogICAgICAgICAgICB2YXIgbWFya2VyX2Q2OTIwNDIzMzBhNjQ4NzBiZTQ5ZDk0MTczODIxNWJkID0gTC5tYXJrZXIoCiAgICAgICAgICAgICAgICBbNTMuNTgwMiwgLTYuMTA2ODMzXSwKICAgICAgICAgICAgICAgIHt9CiAgICAgICAgICAgICkuYWRkVG8obWFwXzI1NjhmZTQzNDgyNjQ4MmFhY2RhZmFkNmQ3ZGU3NTFiKTsKICAgICAgICAKICAgIAogICAgICAgICAgICB2YXIgbWFya2VyXzU5ZTEyM2Q3Y2UzMDRmZDlhYTdhODcxMTExYWY4ZjNmID0gTC5tYXJrZXIoCiAgICAgICAgICAgICAgICBbNTMuNTgwMiwgLTYuMTA2ODMzXSwKICAgICAgICAgICAgICAgIHt9CiAgICAgICAgICAgICkuYWRkVG8obWFwXzI1NjhmZTQzNDgyNjQ4MmFhY2RhZmFkNmQ3ZGU3NTFiKTsKICAgICAgICAKICAgIAogICAgICAgICAgICB2YXIgbWFya2VyXzc3YTA2NjU5YzY2ZDRiNzg4NzE2ZGFiMWQwNmNkZmU2ID0gTC5tYXJrZXIoCiAgICAgICAgICAgICAgICBbNTMuNTgwNjM1LCAtNi4xMDcwODNdLAogICAgICAgICAgICAgICAge30KICAgICAgICAgICAgKS5hZGRUbyhtYXBfMjU2OGZlNDM0ODI2NDgyYWFjZGFmYWQ2ZDdkZTc1MWIpOwogICAgICAgIAogICAgCiAgICAgICAgICAgIHZhciBtYXJrZXJfOGUxN2I3NTEwMjZlNDFiMGIwNTA5OGYwNDRiZTQ2ODUgPSBMLm1hcmtlcigKICAgICAgICAgICAgICAgIFs1My41ODA2MzUsIC02LjEwNzA4M10sCiAgICAgICAgICAgICAgICB7fQogICAgICAgICAgICApLmFkZFRvKG1hcF8yNTY4ZmU0MzQ4MjY0ODJhYWNkYWZhZDZkN2RlNzUxYik7CiAgICAgICAgCiAgICAKICAgICAgICAgICAgdmFyIG1hcmtlcl8yZDkzMDgyZjQ0OWU0ZmM1OTYxMTY0YzI3NDM1MWEzNyA9IEwubWFya2VyKAogICAgICAgICAgICAgICAgWzUzLjU4MDQxOCwgLTYuMTA4OTE3XSwKICAgICAgICAgICAgICAgIHt9CiAgICAgICAgICAgICkuYWRkVG8obWFwXzI1NjhmZTQzNDgyNjQ4MmFhY2RhZmFkNmQ3ZGU3NTFiKTsKICAgICAgICAKICAgIAogICAgICAgICAgICB2YXIgbWFya2VyXzQ3YTM0OGVjN2YxYTQ0Zjg5YmExZDllYzgxZDk2ODY5ID0gTC5tYXJrZXIoCiAgICAgICAgICAgICAgICBbNTMuNDU1NTEzLCAtNi4yMjIxNjk5OTk5OTk5OTldLAogICAgICAgICAgICAgICAge30KICAgICAgICAgICAgKS5hZGRUbyhtYXBfMjU2OGZlNDM0ODI2NDgyYWFjZGFmYWQ2ZDdkZTc1MWIpOwogICAgICAgIAogICAgCiAgICAgICAgICAgIHZhciBtYXJrZXJfMjFiNTBjNmQxZDgzNGZjODk4YjIwMjc2NTBiY2FmNzIgPSBMLm1hcmtlcigKICAgICAgICAgICAgICAgIFs1My40NTU1MTMsIC02LjIyMjE2OTk5OTk5OTk5OV0sCiAgICAgICAgICAgICAgICB7fQogICAgICAgICAgICApLmFkZFRvKG1hcF8yNTY4ZmU0MzQ4MjY0ODJhYWNkYWZhZDZkN2RlNzUxYik7CiAgICAgICAgCiAgICAKICAgICAgICAgICAgdmFyIG1hcmtlcl9kZDM4YWRlNTk4ZDc0MmQwODM0Zjc0ZjRhNWJlYWYyMCA9IEwubWFya2VyKAogICAgICAgICAgICAgICAgWzUzLjQ1OTQ0NiwgLTYuMjE5MzgyXSwKICAgICAgICAgICAgICAgIHt9CiAgICAgICAgICAgICkuYWRkVG8obWFwXzI1NjhmZTQzNDgyNjQ4MmFhY2RhZmFkNmQ3ZGU3NTFiKTsKICAgICAgICAKICAgIAogICAgICAgICAgICB2YXIgbWFya2VyXzI3YTljNTUyOTdhNjRkZDhhZjU3NDdjNWY0MTYyNmRhID0gTC5tYXJrZXIoCiAgICAgICAgICAgICAgICBbNTMuNDU5NTgyOTk5OTk5OTk1LCAtNi4yMTkwOTJdLAogICAgICAgICAgICAgICAge30KICAgICAgICAgICAgKS5hZGRUbyhtYXBfMjU2OGZlNDM0ODI2NDgyYWFjZGFmYWQ2ZDdkZTc1MWIpOwogICAgICAgIAogICAgCiAgICAgICAgICAgIHZhciBtYXJrZXJfNjdhNTBiNTViYTE5NDc4ZmI1YzEyMDNjOTBjMDIyOTggPSBMLm1hcmtlcigKICAgICAgICAgICAgICAgIFs1My40NTk1ODI5OTk5OTk5OTUsIC02LjIxOTA5Ml0sCiAgICAgICAgICAgICAgICB7fQogICAgICAgICAgICApLmFkZFRvKG1hcF8yNTY4ZmU0MzQ4MjY0ODJhYWNkYWZhZDZkN2RlNzUxYik7CiAgICAgICAgCiAgICAKICAgICAgICAgICAgdmFyIG1hcmtlcl82MjZkZGRkYTgxZmQ0MzNkYWViMzk1MTcyNWQzM2I2MSA9IEwubWFya2VyKAogICAgICAgICAgICAgICAgWzUzLjQ1OTU4Mjk5OTk5OTk5NSwgLTYuMjE5MDkyXSwKICAgICAgICAgICAgICAgIHt9CiAgICAgICAgICAgICkuYWRkVG8obWFwXzI1NjhmZTQzNDgyNjQ4MmFhY2RhZmFkNmQ3ZGU3NTFiKTsKICAgICAgICAKICAgIAogICAgICAgICAgICB2YXIgbWFya2VyXzdhOTUxOGU5NWI2MzQ2ZTlhOGI0NjFiZmZiMWI0ZjZhID0gTC5tYXJrZXIoCiAgICAgICAgICAgICAgICBbNTMuNDU5NTgyOTk5OTk5OTk1LCAtNi4yMTkwOTJdLAogICAgICAgICAgICAgICAge30KICAgICAgICAgICAgKS5hZGRUbyhtYXBfMjU2OGZlNDM0ODI2NDgyYWFjZGFmYWQ2ZDdkZTc1MWIpOwogICAgICAgIAogICAgCiAgICAgICAgICAgIHZhciBtYXJrZXJfOTNiNjUwYTM3ZjQwNDgyY2E3MDQwMGJlZThhMjFjYTYgPSBMLm1hcmtlcigKICAgICAgICAgICAgICAgIFs1My40NjAwOTEwMDAwMDAwMDYsIC02LjIxODkxOTAwMDAwMDAwMDVdLAogICAgICAgICAgICAgICAge30KICAgICAgICAgICAgKS5hZGRUbyhtYXBfMjU2OGZlNDM0ODI2NDgyYWFjZGFmYWQ2ZDdkZTc1MWIpOwogICAgICAgIAogICAgCiAgICAgICAgICAgIHZhciBtYXJrZXJfNDYwYzBmNTM3MGI2NDlhMmJkMzhiYjkyMjU3YTNiNGYgPSBMLm1hcmtlcigKICAgICAgICAgICAgICAgIFs1My40NjEzNjksIC02LjIxODQ4MV0sCiAgICAgICAgICAgICAgICB7fQogICAgICAgICAgICApLmFkZFRvKG1hcF8yNTY4ZmU0MzQ4MjY0ODJhYWNkYWZhZDZkN2RlNzUxYik7CiAgICAgICAgCiAgICAKICAgICAgICAgICAgdmFyIG1hcmtlcl81OTgxYjQ3MWY2Yjc0MDFhOTliNzRiYmRmZTNiMzcyYSA9IEwubWFya2VyKAogICAgICAgICAgICAgICAgWzUzLjQ2MTM2OSwgLTYuMjE4NDgxXSwKICAgICAgICAgICAgICAgIHt9CiAgICAgICAgICAgICkuYWRkVG8obWFwXzI1NjhmZTQzNDgyNjQ4MmFhY2RhZmFkNmQ3ZGU3NTFiKTsKICAgICAgICAKICAgIAogICAgICAgICAgICB2YXIgbWFya2VyXzcwNDNkZTEwNmY3NjRjZDRhZDgxNTM0ZTk2MjcxYzVjID0gTC5tYXJrZXIoCiAgICAgICAgICAgICAgICBbNTMuNDYxMzY5LCAtNi4yMTg0ODFdLAogICAgICAgICAgICAgICAge30KICAgICAgICAgICAgKS5hZGRUbyhtYXBfMjU2OGZlNDM0ODI2NDgyYWFjZGFmYWQ2ZDdkZTc1MWIpOwogICAgICAgIAogICAgCiAgICAgICAgICAgIHZhciBtYXJrZXJfNTU4YTZjN2EwNjk0NGY1MWIwMTA5ZGRmOTc4ZGQ5MzAgPSBMLm1hcmtlcigKICAgICAgICAgICAgICAgIFs1My40NjM1ODQ5OTk5OTk5OTUsIC02LjIxNzE3NF0sCiAgICAgICAgICAgICAgICB7fQogICAgICAgICAgICApLmFkZFRvKG1hcF8yNTY4ZmU0MzQ4MjY0ODJhYWNkYWZhZDZkN2RlNzUxYik7CiAgICAgICAgCiAgICAKICAgICAgICAgICAgdmFyIG1hcmtlcl80OTQ5YmQ2N2UyZTE0Zjk3YWEyNzlmNWE5NjBjYzdhNyA9IEwubWFya2VyKAogICAgICAgICAgICAgICAgWzUzLjQ2NDg1OSwgLTYuMjE2MTYxMDAwMDAwMDAwNV0sCiAgICAgICAgICAgICAgICB7fQogICAgICAgICAgICApLmFkZFRvKG1hcF8yNTY4ZmU0MzQ4MjY0ODJhYWNkYWZhZDZkN2RlNzUxYik7CiAgICAgICAgCiAgICAKICAgICAgICAgICAgdmFyIG1hcmtlcl8xY2M0Mjk2NjVkZDE0NzcwOGI0Mjc2MjhkYzU2ZjU2MyA9IEwubWFya2VyKAogICAgICAgICAgICAgICAgWzUzLjQ2NDg1OSwgLTYuMjE2MTYxMDAwMDAwMDAwNV0sCiAgICAgICAgICAgICAgICB7fQogICAgICAgICAgICApLmFkZFRvKG1hcF8yNTY4ZmU0MzQ4MjY0ODJhYWNkYWZhZDZkN2RlNzUxYik7CiAgICAgICAgCiAgICAKICAgICAgICAgICAgdmFyIG1hcmtlcl9jNDI2YmQ1MzVjOTQ0ODc2YWE5MDM2NjI1NzNhZjcwYiA9IEwubWFya2VyKAogICAgICAgICAgICAgICAgWzUzLjQ2ODY0MzAwMDAwMDAxLCAtNi4yMTMzMTFdLAogICAgICAgICAgICAgICAge30KICAgICAgICAgICAgKS5hZGRUbyhtYXBfMjU2OGZlNDM0ODI2NDgyYWFjZGFmYWQ2ZDdkZTc1MWIpOwogICAgICAgIAogICAgCiAgICAgICAgICAgIHZhciBtYXJrZXJfYjUyMTIzYzc4ODU0NGViYThhMDBhYjU0NjU0ZjhhZTEgPSBMLm1hcmtlcigKICAgICAgICAgICAgICAgIFs1My40Njg2NDMwMDAwMDAwMSwgLTYuMjEzMzExXSwKICAgICAgICAgICAgICAgIHt9CiAgICAgICAgICAgICkuYWRkVG8obWFwXzI1NjhmZTQzNDgyNjQ4MmFhY2RhZmFkNmQ3ZGU3NTFiKTsKICAgICAgICAKICAgIAogICAgICAgICAgICB2YXIgbWFya2VyX2JjNDk2M2I2Y2QwYjRmZGM4YzgzODVkNTI4MjY5ODRmID0gTC5tYXJrZXIoCiAgICAgICAgICAgICAgICBbNTMuNDY4Njc0LCAtNi4yMTMyODc5OTk5OTk5OTk1XSwKICAgICAgICAgICAgICAgIHt9CiAgICAgICAgICAgICkuYWRkVG8obWFwXzI1NjhmZTQzNDgyNjQ4MmFhY2RhZmFkNmQ3ZGU3NTFiKTsKICAgICAgICAKICAgIAogICAgICAgICAgICB2YXIgbWFya2VyX2EyY2NiYTMwNTQ1ZDQzZTRiYzlhZDI0MDhhZTdlM2I1ID0gTC5tYXJrZXIoCiAgICAgICAgICAgICAgICBbNTMuNDY4NzY4OTk5OTk5OTk1LCAtNi4yMTMyMjNdLAogICAgICAgICAgICAgICAge30KICAgICAgICAgICAgKS5hZGRUbyhtYXBfMjU2OGZlNDM0ODI2NDgyYWFjZGFmYWQ2ZDdkZTc1MWIpOwogICAgICAgIAogICAgCiAgICAgICAgICAgIHZhciBtYXJrZXJfMDE2OGJjODI0ODVkNDA2MDhlMjBlMmEwOTExOTU2MzIgPSBMLm1hcmtlcigKICAgICAgICAgICAgICAgIFs1My40Njg3Njg5OTk5OTk5OTUsIC02LjIxMzIyM10sCiAgICAgICAgICAgICAgICB7fQogICAgICAgICAgICApLmFkZFRvKG1hcF8yNTY4ZmU0MzQ4MjY0ODJhYWNkYWZhZDZkN2RlNzUxYik7CiAgICAgICAgCiAgICAKICAgICAgICAgICAgdmFyIG1hcmtlcl9kMjE1NDZkNWY1NzI0NGM4YTk0Y2JkZmRkMDdlZDJhZiA9IEwubWFya2VyKAogICAgICAgICAgICAgICAgWzUzLjQ2OTg3OTAwMDAwMDAwNiwgLTYuMjEyNDM5XSwKICAgICAgICAgICAgICAgIHt9CiAgICAgICAgICAgICkuYWRkVG8obWFwXzI1NjhmZTQzNDgyNjQ4MmFhY2RhZmFkNmQ3ZGU3NTFiKTsKICAgICAgICAKICAgIAogICAgICAgICAgICB2YXIgbWFya2VyXzc1YTZiZjg1YzJmYjRkMTRiZjkwOWU0MjdmZDljM2M5ID0gTC5tYXJrZXIoCiAgICAgICAgICAgICAgICBbNTMuNDY5ODc5MDAwMDAwMDA2LCAtNi4yMTI0MzldLAogICAgICAgICAgICAgICAge30KICAgICAgICAgICAgKS5hZGRUbyhtYXBfMjU2OGZlNDM0ODI2NDgyYWFjZGFmYWQ2ZDdkZTc1MWIpOwogICAgICAgIAogICAgCiAgICAgICAgICAgIHZhciBtYXJrZXJfNmVhOWZmOTk4MGY0NDU4MWE0ZWE0ZjEwNzUyZTA1ODkgPSBMLm1hcmtlcigKICAgICAgICAgICAgICAgIFs1My40NzI4MzYsIC02LjIxMDIyNF0sCiAgICAgICAgICAgICAgICB7fQogICAgICAgICAgICApLmFkZFRvKG1hcF8yNTY4ZmU0MzQ4MjY0ODJhYWNkYWZhZDZkN2RlNzUxYik7CiAgICAgICAgCiAgICAKICAgICAgICAgICAgdmFyIG1hcmtlcl83MzE2NTc3YTk2MmQ0NzAyYjY5ZTBlNjM1YjRmYzg4YSA9IEwubWFya2VyKAogICAgICAgICAgICAgICAgWzUzLjQ3NDM4OCwgLTYuMjA4ODM2XSwKICAgICAgICAgICAgICAgIHt9CiAgICAgICAgICAgICkuYWRkVG8obWFwXzI1NjhmZTQzNDgyNjQ4MmFhY2RhZmFkNmQ3ZGU3NTFiKTsKICAgICAgICAKICAgIAogICAgICAgICAgICB2YXIgbWFya2VyX2YyMjZjOTE4OWU5ODQ0OTlhZjgwMTQ1OWFmODY2YTVjID0gTC5tYXJrZXIoCiAgICAgICAgICAgICAgICBbNTMuNDc0Mzg4LCAtNi4yMDg4MzZdLAogICAgICAgICAgICAgICAge30KICAgICAgICAgICAgKS5hZGRUbyhtYXBfMjU2OGZlNDM0ODI2NDgyYWFjZGFmYWQ2ZDdkZTc1MWIpOwogICAgICAgIAogICAgCiAgICAgICAgICAgIHZhciBtYXJrZXJfNDhmMDkyNGFiMTJiNGRlZWE3MWI2YjQ0MDNkMTEzMmUgPSBMLm1hcmtlcigKICAgICAgICAgICAgICAgIFs1My40Nzk5NTQwMDAwMDAwMDYsIC02LjIwMzY1XSwKICAgICAgICAgICAgICAgIHt9CiAgICAgICAgICAgICkuYWRkVG8obWFwXzI1NjhmZTQzNDgyNjQ4MmFhY2RhZmFkNmQ3ZGU3NTFiKTsKICAgICAgICAKICAgIAogICAgICAgICAgICB2YXIgbWFya2VyXzE3OTVjOWM1YmRjNzQwYmI4NjcyNWNiZTNlZmI2Y2FhID0gTC5tYXJrZXIoCiAgICAgICAgICAgICAgICBbNTMuNDgwODY1LCAtNi4yMDI5NjVdLAogICAgICAgICAgICAgICAge30KICAgICAgICAgICAgKS5hZGRUbyhtYXBfMjU2OGZlNDM0ODI2NDgyYWFjZGFmYWQ2ZDdkZTc1MWIpOwogICAgICAgIAogICAgCiAgICAgICAgICAgIHZhciBtYXJrZXJfMWNiYWMwZTM5MDJmNDY3MmI0ZjMyMmE1NTliNjY2MTQgPSBMLm1hcmtlcigKICAgICAgICAgICAgICAgIFs1My40ODE3NSwgLTYuMjAyMzU1MDAwMDAwMDAxXSwKICAgICAgICAgICAgICAgIHt9CiAgICAgICAgICAgICkuYWRkVG8obWFwXzI1NjhmZTQzNDgyNjQ4MmFhY2RhZmFkNmQ3ZGU3NTFiKTsKICAgICAgICAKICAgIAogICAgICAgICAgICB2YXIgbWFya2VyXzU4Y2Y4ZGQ4ZWI2YzQ4NTA4NGNiNzVhMzVlNTI1MjRhID0gTC5tYXJrZXIoCiAgICAgICAgICAgICAgICBbNTMuNDgxNzUsIC02LjIwMjM1NTAwMDAwMDAwMV0sCiAgICAgICAgICAgICAgICB7fQogICAgICAgICAgICApLmFkZFRvKG1hcF8yNTY4ZmU0MzQ4MjY0ODJhYWNkYWZhZDZkN2RlNzUxYik7CiAgICAgICAgCiAgICAKICAgICAgICAgICAgdmFyIG1hcmtlcl82ZDg5NjgyYzVkY2U0N2EwODNlNGMwZTNhYzhjYmIyNSA9IEwubWFya2VyKAogICAgICAgICAgICAgICAgWzUzLjQ5MTAwMTAwMDAwMDAwNCwgLTYuMTk2MDkyXSwKICAgICAgICAgICAgICAgIHt9CiAgICAgICAgICAgICkuYWRkVG8obWFwXzI1NjhmZTQzNDgyNjQ4MmFhY2RhZmFkNmQ3ZGU3NTFiKTsKICAgICAgICAKICAgIAogICAgICAgICAgICB2YXIgbWFya2VyX2Q5ODYyZjY5NzBjNjRlZTg4MWU3OTFiYTcyMjIzZTk3ID0gTC5tYXJrZXIoCiAgICAgICAgICAgICAgICBbNTMuNDkxMDAxMDAwMDAwMDA0LCAtNi4xOTYwOTJdLAogICAgICAgICAgICAgICAge30KICAgICAgICAgICAgKS5hZGRUbyhtYXBfMjU2OGZlNDM0ODI2NDgyYWFjZGFmYWQ2ZDdkZTc1MWIpOwogICAgICAgIAogICAgCiAgICAgICAgICAgIHZhciBtYXJrZXJfYTBjNTljYjMzZWE3NGViN2IyNDA0YTIzNDQ1NDY1MjYgPSBMLm1hcmtlcigKICAgICAgICAgICAgICAgIFs1My40OTQyNjk5OTk5OTk5OSwgLTYuMTk1MDU1XSwKICAgICAgICAgICAgICAgIHt9CiAgICAgICAgICAgICkuYWRkVG8obWFwXzI1NjhmZTQzNDgyNjQ4MmFhY2RhZmFkNmQ3ZGU3NTFiKTsKICAgICAgICAKICAgIAogICAgICAgICAgICB2YXIgbWFya2VyXzcwNjhiOTk0YjA5MTQ2MTg4MGJlNTM4ZDcyM2QzZDk4ID0gTC5tYXJrZXIoCiAgICAgICAgICAgICAgICBbNTMuNDk1MjM1LCAtNi4xOTQ0OTE5OTk5OTk5OTldLAogICAgICAgICAgICAgICAge30KICAgICAgICAgICAgKS5hZGRUbyhtYXBfMjU2OGZlNDM0ODI2NDgyYWFjZGFmYWQ2ZDdkZTc1MWIpOwogICAgICAgIAogICAgCiAgICAgICAgICAgIHZhciBtYXJrZXJfZmYyYTE1NTdhMTNkNDg0NWI5NmY3MjQ2ZjRmNGZmMDEgPSBMLm1hcmtlcigKICAgICAgICAgICAgICAgIFs1My40OTUyMzUsIC02LjE5NDQ5MTk5OTk5OTk5OV0sCiAgICAgICAgICAgICAgICB7fQogICAgICAgICAgICApLmFkZFRvKG1hcF8yNTY4ZmU0MzQ4MjY0ODJhYWNkYWZhZDZkN2RlNzUxYik7CiAgICAgICAgCiAgICAKICAgICAgICAgICAgdmFyIG1hcmtlcl9mMGVhYjc3ZjMxNjA0NDI0YTEwZDZjNDE5OWE1OWQwMyA9IEwubWFya2VyKAogICAgICAgICAgICAgICAgWzUzLjUwMjQxODk5OTk5OTk5NiwgLTYuMTkxODYzXSwKICAgICAgICAgICAgICAgIHt9CiAgICAgICAgICAgICkuYWRkVG8obWFwXzI1NjhmZTQzNDgyNjQ4MmFhY2RhZmFkNmQ3ZGU3NTFiKTsKICAgICAgICAKICAgIAogICAgICAgICAgICB2YXIgbWFya2VyXzIwZjZhMTA5N2E0MjQzZmNiMjZlMjViNjlmN2UzMTc5ID0gTC5tYXJrZXIoCiAgICAgICAgICAgICAgICBbNTMuNTAyNDE4OTk5OTk5OTk2LCAtNi4xOTE4NjNdLAogICAgICAgICAgICAgICAge30KICAgICAgICAgICAgKS5hZGRUbyhtYXBfMjU2OGZlNDM0ODI2NDgyYWFjZGFmYWQ2ZDdkZTc1MWIpOwogICAgICAgIAogICAgCiAgICAgICAgICAgIHZhciBtYXJrZXJfNjI5ZWRjYmU5ZjY2NGRlNTllYTI3MjU3OGE4MWIyZWYgPSBMLm1hcmtlcigKICAgICAgICAgICAgICAgIFs1My41MDMyMDEwMDAwMDAwMDQsIC02LjE5MDI0OV0sCiAgICAgICAgICAgICAgICB7fQogICAgICAgICAgICApLmFkZFRvKG1hcF8yNTY4ZmU0MzQ4MjY0ODJhYWNkYWZhZDZkN2RlNzUxYik7CiAgICAgICAgCiAgICAKICAgICAgICAgICAgdmFyIG1hcmtlcl9hODE0Mjg5MjgzNTY0YmQyYjlmOGMzNTQzMzg1NWMyYSA9IEwubWFya2VyKAogICAgICAgICAgICAgICAgWzUzLjUwNTI3MiwgLTYuMTg2OTE1XSwKICAgICAgICAgICAgICAgIHt9CiAgICAgICAgICAgICkuYWRkVG8obWFwXzI1NjhmZTQzNDgyNjQ4MmFhY2RhZmFkNmQ3ZGU3NTFiKTsKICAgICAgICAKICAgIAogICAgICAgICAgICB2YXIgbWFya2VyX2QxNTAyN2QzNDlkODRhZWZhNzQ1Y2VlMjFiYzcxNDExID0gTC5tYXJrZXIoCiAgICAgICAgICAgICAgICBbNTMuNTA1MjcyLCAtNi4xODY5MTVdLAogICAgICAgICAgICAgICAge30KICAgICAgICAgICAgKS5hZGRUbyhtYXBfMjU2OGZlNDM0ODI2NDgyYWFjZGFmYWQ2ZDdkZTc1MWIpOwogICAgICAgIAogICAgCiAgICAgICAgICAgIHZhciBtYXJrZXJfNWUyNTFlODU3MThkNDQxY2I3OWVhODRlNWJjMDI5MzYgPSBMLm1hcmtlcigKICAgICAgICAgICAgICAgIFs1My41MDcyMzI5OTk5OTk5OSwgLTYuMTg1MTM3XSwKICAgICAgICAgICAgICAgIHt9CiAgICAgICAgICAgICkuYWRkVG8obWFwXzI1NjhmZTQzNDgyNjQ4MmFhY2RhZmFkNmQ3ZGU3NTFiKTsKICAgICAgICAKICAgIAogICAgICAgICAgICB2YXIgbWFya2VyXzgxMDMxNGUxZmZjYjQ4N2ViMmQwNDc2M2M4MGM0OWQ2ID0gTC5tYXJrZXIoCiAgICAgICAgICAgICAgICBbNTMuNTA3MjMyOTk5OTk5OTksIC02LjE4NTEzN10sCiAgICAgICAgICAgICAgICB7fQogICAgICAgICAgICApLmFkZFRvKG1hcF8yNTY4ZmU0MzQ4MjY0ODJhYWNkYWZhZDZkN2RlNzUxYik7CiAgICAgICAgCiAgICAKICAgICAgICAgICAgdmFyIG1hcmtlcl9jYjE2OWJlYTRkY2U0YzM1OTljYzgzNWMyMzY4ZWRhMSA9IEwubWFya2VyKAogICAgICAgICAgICAgICAgWzUzLjUwODI2NjAwMDAwMDAwNiwgLTYuMTg0MDE5XSwKICAgICAgICAgICAgICAgIHt9CiAgICAgICAgICAgICkuYWRkVG8obWFwXzI1NjhmZTQzNDgyNjQ4MmFhY2RhZmFkNmQ3ZGU3NTFiKTsKICAgICAgICAKICAgIAogICAgICAgICAgICB2YXIgbWFya2VyXzdmNTFiZTYzYjQ3ZjQ0ZTk4M2E1Y2IwZTAxZDc1MWI2ID0gTC5tYXJrZXIoCiAgICAgICAgICAgICAgICBbNTMuNTA5MjkzMDAwMDAwMDEsIC02LjE4MTg1Nl0sCiAgICAgICAgICAgICAgICB7fQogICAgICAgICAgICApLmFkZFRvKG1hcF8yNTY4ZmU0MzQ4MjY0ODJhYWNkYWZhZDZkN2RlNzUxYik7CiAgICAgICAgCiAgICAKICAgICAgICAgICAgdmFyIG1hcmtlcl83NTdjOWMwMzQ0ZGQ0M2I1OWVmNWM0YmI3OTU5ODI0ZSA9IEwubWFya2VyKAogICAgICAgICAgICAgICAgWzUzLjUxMDg0MTAwMDAwMDAwNiwgLTYuMTc4MTE2XSwKICAgICAgICAgICAgICAgIHt9CiAgICAgICAgICAgICkuYWRkVG8obWFwXzI1NjhmZTQzNDgyNjQ4MmFhY2RhZmFkNmQ3ZGU3NTFiKTsKICAgICAgICAKICAgIAogICAgICAgICAgICB2YXIgbWFya2VyXzI5ZWQwNzE3ODgzMjQ0MjA4YTgwYmFkMjRhYTlhOGZlID0gTC5tYXJrZXIoCiAgICAgICAgICAgICAgICBbNTMuNTE1NTIyLCAtNi4xNzI2ODM5OTk5OTk5OTldLAogICAgICAgICAgICAgICAge30KICAgICAgICAgICAgKS5hZGRUbyhtYXBfMjU2OGZlNDM0ODI2NDgyYWFjZGFmYWQ2ZDdkZTc1MWIpOwogICAgICAgIAogICAgCiAgICAgICAgICAgIHZhciBtYXJrZXJfM2UyZWQ4MDI3NzgzNGRiNjg3ZGFmNzRjYWNiMWQ0MjQgPSBMLm1hcmtlcigKICAgICAgICAgICAgICAgIFs1My41MTU2NDAwMDAwMDAwMDUsIC02LjE3MjYxMl0sCiAgICAgICAgICAgICAgICB7fQogICAgICAgICAgICApLmFkZFRvKG1hcF8yNTY4ZmU0MzQ4MjY0ODJhYWNkYWZhZDZkN2RlNzUxYik7CiAgICAgICAgCiAgICAKICAgICAgICAgICAgdmFyIG1hcmtlcl8xYjRlNzQ2ZDc5MzU0MGYxOTJhZDQ5NzY4ZjUzZDY4MSA9IEwubWFya2VyKAogICAgICAgICAgICAgICAgWzUzLjUxNTY0MDAwMDAwMDAwNSwgLTYuMTcyNjEyXSwKICAgICAgICAgICAgICAgIHt9CiAgICAgICAgICAgICkuYWRkVG8obWFwXzI1NjhmZTQzNDgyNjQ4MmFhY2RhZmFkNmQ3ZGU3NTFiKTsKICAgICAgICAKPC9zY3JpcHQ+\" style=\"position:absolute;width:100%;height:100%;left:0;top:0;border:none !important;\" allowfullscreen webkitallowfullscreen mozallowfullscreen></iframe></div></div>"
      ],
      "text/plain": [
       "<folium.folium.Map at 0x11db1b828>"
      ]
     },
     "execution_count": 137,
     "metadata": {},
     "output_type": "execute_result"
    }
   ],
   "source": [
    "map"
   ]
  },
  {
   "cell_type": "code",
   "execution_count": null,
   "metadata": {},
   "outputs": [],
   "source": []
  },
  {
   "cell_type": "code",
   "execution_count": null,
   "metadata": {},
   "outputs": [],
   "source": []
  },
  {
   "cell_type": "code",
   "execution_count": null,
   "metadata": {},
   "outputs": [],
   "source": []
  },
  {
   "cell_type": "code",
   "execution_count": 65,
   "metadata": {},
   "outputs": [
    {
     "data": {
      "text/plain": [
       "(910,)"
      ]
     },
     "execution_count": 65,
     "metadata": {},
     "output_type": "execute_result"
    }
   ],
   "source": [
    "df[df['v'] > 120]['VehicleID'].unique().shape"
   ]
  },
  {
   "cell_type": "code",
   "execution_count": null,
   "metadata": {},
   "outputs": [],
   "source": []
  },
  {
   "cell_type": "code",
   "execution_count": null,
   "metadata": {},
   "outputs": [],
   "source": []
  },
  {
   "cell_type": "code",
   "execution_count": null,
   "metadata": {},
   "outputs": [],
   "source": []
  },
  {
   "cell_type": "code",
   "execution_count": null,
   "metadata": {},
   "outputs": [],
   "source": []
  }
 ],
 "metadata": {
  "kernelspec": {
   "display_name": "Python 3",
   "language": "python",
   "name": "python3"
  },
  "language_info": {
   "codemirror_mode": {
    "name": "ipython",
    "version": 3
   },
   "file_extension": ".py",
   "mimetype": "text/x-python",
   "name": "python",
   "nbconvert_exporter": "python",
   "pygments_lexer": "ipython3",
   "version": "3.6.8"
  }
 },
 "nbformat": 4,
 "nbformat_minor": 2
}
